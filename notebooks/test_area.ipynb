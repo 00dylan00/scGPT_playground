{
 "cells": [
  {
   "cell_type": "code",
   "execution_count": null,
   "metadata": {},
   "outputs": [],
   "source": [
    "# Testing Area"
   ]
  },
  {
   "cell_type": "code",
   "execution_count": 34,
   "metadata": {},
   "outputs": [
    {
     "name": "stderr",
     "output_type": "stream",
     "text": [
      "/home/ddalton/miniconda3/envs/scgpt/lib/python3.10/site-packages/anndata/__init__.py:55: FutureWarning: `anndata.read` is deprecated, use `anndata.read_h5ad` instead. `ad.read` will be removed in mid 2024.\n",
      "  warnings.warn(\n"
     ]
    }
   ],
   "source": [
    "# imports\n",
    "import pandas as pd\n",
    "from typing import *\n",
    "import numpy as np\n",
    "from sklearn.model_selection import StratifiedGroupKFold\n",
    "import anndata as ad\n",
    "import logging\n",
    "\n",
    "logging.basicConfig(\n",
    "    level=logging.INFO, format=\"%(asctime)s - %(name)s - %(levelname)s - %(message)s\"\n",
    ")\n",
    "# variables\n",
    "adata_path = \"../data/pp_data-24-09-02-01/data.h5ad\"\n",
    "\n",
    "# functions\n",
    "\n",
    "\n",
    "def get_test_split(obs: pd.DataFrame, n_splits=5) -> List[str]:\n",
    "    \"\"\"Get Test Split\n",
    "    We will perform a split for those diseases which have more than one dataset.\n",
    "\n",
    "    Ther MUST not be any data-leakage between the train and test set - no shared datasets between the two sets.\n",
    "\n",
    "    Strategy:\n",
    "        1. Check diseases w/ 5+ datasets\n",
    "        2. Divide dataset into train and test w/ 4:1 ratio\n",
    "        3. Assign train and test to the respective datasets\n",
    "\n",
    "    \"\"\"\n",
    "\n",
    "    # pre-process data\n",
    "    obs[\"_combination\"] = obs[\"disease\"].astype(str) + \"_\" + obs[\"dataset\"].astype(str)\n",
    "\n",
    "    diseases_f1 = set()  # diseases filter 1\n",
    "\n",
    "    # 1. Check diseases w/ 5+ datasets\n",
    "    all_diseases = obs[\"disease\"].unique()\n",
    "    for diseases in all_diseases:\n",
    "        QUERY = f'disease == \"{diseases}\"'\n",
    "        _df_query = obs.query(QUERY)\n",
    "        if len(_df_query[\"dataset\"].unique()) >= 5:\n",
    "            diseases_f1.add(diseases)\n",
    "\n",
    "    logging.info(f\"Number of diseases with 5+ datasets: {len(diseases_f1)}\")\n",
    "\n",
    "    # 2. Divide dataset into train and test w/ 4:1 ratio\n",
    "    QUERY = \"disease in @diseases_f1\"\n",
    "    df_diseases_f1 = obs.query(QUERY)\n",
    "\n",
    "    sgkf = StratifiedGroupKFold(n_splits=n_splits)\n",
    "    for i, (train_idx, test_idx) in enumerate(\n",
    "        sgkf.split(\n",
    "            X=df_diseases_f1[\"dsaid\"],\n",
    "            y=df_diseases_f1[\"disease\"],\n",
    "            groups=df_diseases_f1[\"dataset\"],\n",
    "        )\n",
    "    ):\n",
    "\n",
    "        # get which disease & datasets are in the test\n",
    "        df_diseases_f1_test = df_diseases_f1.iloc[test_idx]\n",
    "\n",
    "        logging.info(\n",
    "            f\"Nº of diseases in test split {i+1}: {len(df_diseases_f1_test['disease'].unique())}\"\n",
    "        )\n",
    "        logging.info(\n",
    "            f\"Nº of datasets in test split {i+1}: {len(df_diseases_f1_test['dataset'].unique())}\"\n",
    "        )\n",
    "\n",
    "        # 3. Assign train and test labels\n",
    "        obs[f\"test_split_{i+1}\"] = (\n",
    "            obs[\"_combination\"].isin(df_diseases_f1_test[\"_combination\"]).astype(int)\n",
    "        )\n",
    "\n",
    "        logging.info(\n",
    "            f\"Nº of samples in test split {i+1}: {obs[f'test_split_{i+1}'].sum()}\"\n",
    "        )\n",
    "\n",
    "    obs.drop(columns=[\"_combination\"], inplace=True)\n",
    "\n",
    "    return obs\n",
    "\n",
    "\n",
    "# load data\n",
    "adata = ad.read(adata_path, backed=\"r\")\n",
    "\n",
    "obs = adata.obs.copy()"
   ]
  },
  {
   "cell_type": "code",
   "execution_count": 37,
   "metadata": {},
   "outputs": [
    {
     "data": {
      "text/plain": [
       "0         0\n",
       "1         0\n",
       "2         0\n",
       "3         0\n",
       "4         0\n",
       "         ..\n",
       "202005    1\n",
       "202006    1\n",
       "202007    1\n",
       "202008    1\n",
       "202009    1\n",
       "Name: test_split_1, Length: 202010, dtype: int64"
      ]
     },
     "execution_count": 37,
     "metadata": {},
     "output_type": "execute_result"
    }
   ],
   "source": [
    "obs_2[\"test_split_1\"]"
   ]
  },
  {
   "cell_type": "code",
   "execution_count": 31,
   "metadata": {},
   "outputs": [
    {
     "name": "stdout",
     "output_type": "stream",
     "text": [
      "192605\n"
     ]
    }
   ],
   "source": [
    "import pickle\n",
    "import os\n",
    "\n",
    "data_path = os.path.join(\"../data/pp_data-24-09-02-01/\", \"data.h5ad\")\n",
    "\n",
    "\n",
    "def filter_samples_n_genes(data_folder: str, n_genes: int) -> np.array:\n",
    "    \"\"\"Filter Samples by Nº of Genes\n",
    "    Args:\n",
    "        - data_folder (str): Data Folder\n",
    "        - n_genes (int): Nº of Genes\n",
    "    Returns:\n",
    "        - np.array: Filter\n",
    "    \"\"\"\n",
    "    with open(os.path.join(data_folder, \"metadata.pkl\"), \"rb\") as f:\n",
    "        metadata = pickle.load(f)\n",
    "\n",
    "    n_genes_per_gex = metadata[\"n_non_nan_gex\"]\n",
    "    return n_genes_per_gex >= n_genes\n",
    "\n",
    "\n",
    "def get_nan_filter(X: np.array, thr_non_nan=10000) -> np.array:\n",
    "    \"\"\"Get NaN Filter\n",
    "    Args:\n",
    "        - X (np.array): Data\n",
    "        - n_non_nan (int, optional): Number of non-NaN values. Defaults to 10000.\n",
    "    Returns:\n",
    "        - np.array: Filter\n",
    "    \"\"\"\n",
    "    # count non-nan per row\n",
    "    n_non_nan = (~np.isnan(X)).sum(axis=1)\n",
    "\n",
    "    # filter\n",
    "    filter = n_non_nan >= thr_non_nan\n",
    "\n",
    "    return filter\n",
    "\n",
    "\n",
    "mask = filter_samples_n_genes(os.path.dirname(data_path), 10000)\n",
    "print(np.sum(mask))"
   ]
  },
  {
   "cell_type": "code",
   "execution_count": 24,
   "metadata": {},
   "outputs": [
    {
     "data": {
      "text/plain": [
       "(0, 100)"
      ]
     },
     "execution_count": 24,
     "metadata": {},
     "output_type": "execute_result"
    }
   ],
   "source": [
    "import numpy as np\n",
    "\n",
    "a = np.ones((150, 100))\n",
    "\n",
    "filter = get_nan_filter(a, 250)\n",
    "\n",
    "a[filter].shape"
   ]
  },
  {
   "cell_type": "code",
   "execution_count": 19,
   "metadata": {},
   "outputs": [
    {
     "data": {
      "text/plain": [
       "array([ True,  True,  True,  True,  True,  True,  True,  True,  True,\n",
       "        True,  True,  True,  True,  True,  True,  True,  True,  True,\n",
       "        True,  True,  True,  True,  True,  True,  True,  True,  True,\n",
       "        True,  True,  True,  True,  True,  True,  True,  True,  True,\n",
       "        True,  True,  True,  True,  True,  True,  True,  True,  True,\n",
       "        True,  True,  True,  True,  True,  True,  True,  True,  True,\n",
       "        True,  True,  True,  True,  True,  True,  True,  True,  True,\n",
       "        True,  True,  True,  True,  True,  True,  True,  True,  True,\n",
       "        True,  True,  True,  True,  True,  True,  True,  True,  True,\n",
       "        True,  True,  True,  True,  True,  True,  True,  True,  True,\n",
       "        True,  True,  True,  True,  True,  True,  True,  True,  True,\n",
       "        True,  True,  True,  True,  True,  True,  True,  True,  True,\n",
       "        True,  True,  True,  True,  True,  True,  True,  True,  True,\n",
       "        True,  True,  True,  True,  True,  True,  True,  True,  True,\n",
       "        True,  True,  True,  True,  True,  True,  True,  True,  True,\n",
       "        True,  True,  True,  True,  True,  True,  True,  True,  True,\n",
       "        True,  True,  True,  True,  True,  True])"
      ]
     },
     "execution_count": 19,
     "metadata": {},
     "output_type": "execute_result"
    }
   ],
   "source": [
    "n_non_nans = (~np.isnan(a)).sum(axis=1)\n",
    "\n",
    "filter_n_non_nans = n_non_nans > 0.5 * a.shape[1]\n",
    "filter_n_non_nans"
   ]
  },
  {
   "cell_type": "code",
   "execution_count": 11,
   "metadata": {},
   "outputs": [
    {
     "name": "stderr",
     "output_type": "stream",
     "text": [
      "2024-09-02 16:31:32,038 - root - INFO - Number of diseases with 5+ datasets: 112\n",
      "2024-09-02 16:31:32,528 - root - INFO - Nº of diseases in test split 1: 112\n",
      "2024-09-02 16:31:32,529 - root - INFO - Nº of datasets in test split 1: 413\n",
      "2024-09-02 16:31:32,533 - root - INFO - Nº of samples in test split 1: 20191\n",
      "2024-09-02 16:31:32,619 - root - INFO - Nº of diseases in test split 2: 112\n",
      "2024-09-02 16:31:32,619 - root - INFO - Nº of datasets in test split 2: 446\n",
      "2024-09-02 16:31:32,624 - root - INFO - Nº of samples in test split 2: 20191\n",
      "2024-09-02 16:31:32,708 - root - INFO - Nº of diseases in test split 3: 112\n",
      "2024-09-02 16:31:32,709 - root - INFO - Nº of datasets in test split 3: 448\n",
      "2024-09-02 16:31:32,713 - root - INFO - Nº of samples in test split 3: 20583\n",
      "2024-09-02 16:31:32,797 - root - INFO - Nº of diseases in test split 4: 112\n",
      "2024-09-02 16:31:32,798 - root - INFO - Nº of datasets in test split 4: 457\n",
      "2024-09-02 16:31:32,802 - root - INFO - Nº of samples in test split 4: 21361\n",
      "2024-09-02 16:31:32,884 - root - INFO - Nº of diseases in test split 5: 111\n",
      "2024-09-02 16:31:32,885 - root - INFO - Nº of datasets in test split 5: 437\n",
      "2024-09-02 16:31:32,889 - root - INFO - Nº of samples in test split 5: 21638\n"
     ]
    }
   ],
   "source": [
    "obs_2 = get_test_split(obs)"
   ]
  },
  {
   "cell_type": "code",
   "execution_count": 12,
   "metadata": {},
   "outputs": [
    {
     "data": {
      "text/plain": [
       "disease_study\n",
       "Asthma                                   4104\n",
       "Schizophrenia                            3779\n",
       "Chronic Obstructive Pulmonary Disease    3152\n",
       "Hepatocellular Carcinoma                 3074\n",
       "Systemic Lupus Erythematosus             2845\n",
       "                                         ... \n",
       "Peroxisome Biogenesis Disorders             3\n",
       "Rhabdoid Tumor of The Kidney                3\n",
       "Renal Lipoma                                3\n",
       "Cholangiocellular Carcinoma                 3\n",
       "Angina                                      3\n",
       "Name: count, Length: 1046, dtype: int64"
      ]
     },
     "execution_count": 12,
     "metadata": {},
     "output_type": "execute_result"
    }
   ],
   "source": [
    "obs[\"disease_study\"].value_counts()"
   ]
  },
  {
   "cell_type": "code",
   "execution_count": 13,
   "metadata": {},
   "outputs": [
    {
     "data": {
      "text/html": [
       "<div>\n",
       "<style scoped>\n",
       "    .dataframe tbody tr th:only-of-type {\n",
       "        vertical-align: middle;\n",
       "    }\n",
       "\n",
       "    .dataframe tbody tr th {\n",
       "        vertical-align: top;\n",
       "    }\n",
       "\n",
       "    .dataframe thead th {\n",
       "        text-align: right;\n",
       "    }\n",
       "</style>\n",
       "<table border=\"1\" class=\"dataframe\">\n",
       "  <thead>\n",
       "    <tr style=\"text-align: right;\">\n",
       "      <th></th>\n",
       "      <th>ids</th>\n",
       "      <th>dataset</th>\n",
       "      <th>batch</th>\n",
       "      <th>batch_id</th>\n",
       "      <th>dsaid</th>\n",
       "      <th>tissue</th>\n",
       "      <th>n_genes</th>\n",
       "      <th>disease</th>\n",
       "      <th>celltype</th>\n",
       "      <th>disease_study</th>\n",
       "      <th>test_split_1</th>\n",
       "      <th>test_split_2</th>\n",
       "      <th>test_split_3</th>\n",
       "      <th>test_split_4</th>\n",
       "      <th>test_split_5</th>\n",
       "    </tr>\n",
       "  </thead>\n",
       "  <tbody>\n",
       "    <tr>\n",
       "      <th>0</th>\n",
       "      <td>DSA00009;GSM6943825;Control</td>\n",
       "      <td>GSE223245</td>\n",
       "      <td>1267</td>\n",
       "      <td>1267</td>\n",
       "      <td>DSA00009</td>\n",
       "      <td>Whole blood</td>\n",
       "      <td>18564</td>\n",
       "      <td>Control</td>\n",
       "      <td>Control</td>\n",
       "      <td>Brain Damage</td>\n",
       "      <td>0</td>\n",
       "      <td>1</td>\n",
       "      <td>0</td>\n",
       "      <td>0</td>\n",
       "      <td>0</td>\n",
       "    </tr>\n",
       "    <tr>\n",
       "      <th>1</th>\n",
       "      <td>DSA00009;GSM6943826;Control</td>\n",
       "      <td>GSE223245</td>\n",
       "      <td>1267</td>\n",
       "      <td>1267</td>\n",
       "      <td>DSA00009</td>\n",
       "      <td>Whole blood</td>\n",
       "      <td>18564</td>\n",
       "      <td>Control</td>\n",
       "      <td>Control</td>\n",
       "      <td>Brain Damage</td>\n",
       "      <td>0</td>\n",
       "      <td>1</td>\n",
       "      <td>0</td>\n",
       "      <td>0</td>\n",
       "      <td>0</td>\n",
       "    </tr>\n",
       "    <tr>\n",
       "      <th>2</th>\n",
       "      <td>DSA00009;GSM6943827;Control</td>\n",
       "      <td>GSE223245</td>\n",
       "      <td>1267</td>\n",
       "      <td>1267</td>\n",
       "      <td>DSA00009</td>\n",
       "      <td>Whole blood</td>\n",
       "      <td>18564</td>\n",
       "      <td>Control</td>\n",
       "      <td>Control</td>\n",
       "      <td>Brain Damage</td>\n",
       "      <td>0</td>\n",
       "      <td>1</td>\n",
       "      <td>0</td>\n",
       "      <td>0</td>\n",
       "      <td>0</td>\n",
       "    </tr>\n",
       "    <tr>\n",
       "      <th>3</th>\n",
       "      <td>DSA00009;GSM6943828;Control</td>\n",
       "      <td>GSE223245</td>\n",
       "      <td>1267</td>\n",
       "      <td>1267</td>\n",
       "      <td>DSA00009</td>\n",
       "      <td>Whole blood</td>\n",
       "      <td>18564</td>\n",
       "      <td>Control</td>\n",
       "      <td>Control</td>\n",
       "      <td>Brain Damage</td>\n",
       "      <td>0</td>\n",
       "      <td>1</td>\n",
       "      <td>0</td>\n",
       "      <td>0</td>\n",
       "      <td>0</td>\n",
       "    </tr>\n",
       "    <tr>\n",
       "      <th>4</th>\n",
       "      <td>DSA00009;GSM6943813;Case</td>\n",
       "      <td>GSE223245</td>\n",
       "      <td>1267</td>\n",
       "      <td>1267</td>\n",
       "      <td>DSA00009</td>\n",
       "      <td>Whole blood</td>\n",
       "      <td>18564</td>\n",
       "      <td>Brain Damage</td>\n",
       "      <td>Brain Damage</td>\n",
       "      <td>Brain Damage</td>\n",
       "      <td>0</td>\n",
       "      <td>0</td>\n",
       "      <td>0</td>\n",
       "      <td>0</td>\n",
       "      <td>0</td>\n",
       "    </tr>\n",
       "    <tr>\n",
       "      <th>...</th>\n",
       "      <td>...</td>\n",
       "      <td>...</td>\n",
       "      <td>...</td>\n",
       "      <td>...</td>\n",
       "      <td>...</td>\n",
       "      <td>...</td>\n",
       "      <td>...</td>\n",
       "      <td>...</td>\n",
       "      <td>...</td>\n",
       "      <td>...</td>\n",
       "      <td>...</td>\n",
       "      <td>...</td>\n",
       "      <td>...</td>\n",
       "      <td>...</td>\n",
       "      <td>...</td>\n",
       "    </tr>\n",
       "    <tr>\n",
       "      <th>129408</th>\n",
       "      <td>DSA10290;GSM799514;Case</td>\n",
       "      <td>GSE32269</td>\n",
       "      <td>1187</td>\n",
       "      <td>1187</td>\n",
       "      <td>DSA10290</td>\n",
       "      <td>Prostate</td>\n",
       "      <td>10668</td>\n",
       "      <td>Prostate Cancer</td>\n",
       "      <td>Prostate Cancer</td>\n",
       "      <td>Prostate Cancer</td>\n",
       "      <td>1</td>\n",
       "      <td>0</td>\n",
       "      <td>0</td>\n",
       "      <td>0</td>\n",
       "      <td>0</td>\n",
       "    </tr>\n",
       "    <tr>\n",
       "      <th>129409</th>\n",
       "      <td>DSA10290;GSM799515;Case</td>\n",
       "      <td>GSE32269</td>\n",
       "      <td>1187</td>\n",
       "      <td>1187</td>\n",
       "      <td>DSA10290</td>\n",
       "      <td>Prostate</td>\n",
       "      <td>10668</td>\n",
       "      <td>Prostate Cancer</td>\n",
       "      <td>Prostate Cancer</td>\n",
       "      <td>Prostate Cancer</td>\n",
       "      <td>1</td>\n",
       "      <td>0</td>\n",
       "      <td>0</td>\n",
       "      <td>0</td>\n",
       "      <td>0</td>\n",
       "    </tr>\n",
       "    <tr>\n",
       "      <th>129410</th>\n",
       "      <td>DSA10290;GSM799516;Case</td>\n",
       "      <td>GSE32269</td>\n",
       "      <td>1187</td>\n",
       "      <td>1187</td>\n",
       "      <td>DSA10290</td>\n",
       "      <td>Prostate</td>\n",
       "      <td>10668</td>\n",
       "      <td>Prostate Cancer</td>\n",
       "      <td>Prostate Cancer</td>\n",
       "      <td>Prostate Cancer</td>\n",
       "      <td>1</td>\n",
       "      <td>0</td>\n",
       "      <td>0</td>\n",
       "      <td>0</td>\n",
       "      <td>0</td>\n",
       "    </tr>\n",
       "    <tr>\n",
       "      <th>129411</th>\n",
       "      <td>DSA10290;GSM799517;Case</td>\n",
       "      <td>GSE32269</td>\n",
       "      <td>1187</td>\n",
       "      <td>1187</td>\n",
       "      <td>DSA10290</td>\n",
       "      <td>Prostate</td>\n",
       "      <td>10668</td>\n",
       "      <td>Prostate Cancer</td>\n",
       "      <td>Prostate Cancer</td>\n",
       "      <td>Prostate Cancer</td>\n",
       "      <td>1</td>\n",
       "      <td>0</td>\n",
       "      <td>0</td>\n",
       "      <td>0</td>\n",
       "      <td>0</td>\n",
       "    </tr>\n",
       "    <tr>\n",
       "      <th>129412</th>\n",
       "      <td>DSA10290;GSM799518;Case</td>\n",
       "      <td>GSE32269</td>\n",
       "      <td>1187</td>\n",
       "      <td>1187</td>\n",
       "      <td>DSA10290</td>\n",
       "      <td>Prostate</td>\n",
       "      <td>10668</td>\n",
       "      <td>Prostate Cancer</td>\n",
       "      <td>Prostate Cancer</td>\n",
       "      <td>Prostate Cancer</td>\n",
       "      <td>1</td>\n",
       "      <td>0</td>\n",
       "      <td>0</td>\n",
       "      <td>0</td>\n",
       "      <td>0</td>\n",
       "    </tr>\n",
       "  </tbody>\n",
       "</table>\n",
       "<p>129413 rows × 15 columns</p>\n",
       "</div>"
      ],
      "text/plain": [
       "                                ids    dataset  batch  batch_id     dsaid  \\\n",
       "0       DSA00009;GSM6943825;Control  GSE223245   1267      1267  DSA00009   \n",
       "1       DSA00009;GSM6943826;Control  GSE223245   1267      1267  DSA00009   \n",
       "2       DSA00009;GSM6943827;Control  GSE223245   1267      1267  DSA00009   \n",
       "3       DSA00009;GSM6943828;Control  GSE223245   1267      1267  DSA00009   \n",
       "4          DSA00009;GSM6943813;Case  GSE223245   1267      1267  DSA00009   \n",
       "...                             ...        ...    ...       ...       ...   \n",
       "129408      DSA10290;GSM799514;Case   GSE32269   1187      1187  DSA10290   \n",
       "129409      DSA10290;GSM799515;Case   GSE32269   1187      1187  DSA10290   \n",
       "129410      DSA10290;GSM799516;Case   GSE32269   1187      1187  DSA10290   \n",
       "129411      DSA10290;GSM799517;Case   GSE32269   1187      1187  DSA10290   \n",
       "129412      DSA10290;GSM799518;Case   GSE32269   1187      1187  DSA10290   \n",
       "\n",
       "             tissue  n_genes          disease         celltype  \\\n",
       "0       Whole blood    18564          Control          Control   \n",
       "1       Whole blood    18564          Control          Control   \n",
       "2       Whole blood    18564          Control          Control   \n",
       "3       Whole blood    18564          Control          Control   \n",
       "4       Whole blood    18564     Brain Damage     Brain Damage   \n",
       "...             ...      ...              ...              ...   \n",
       "129408     Prostate    10668  Prostate Cancer  Prostate Cancer   \n",
       "129409     Prostate    10668  Prostate Cancer  Prostate Cancer   \n",
       "129410     Prostate    10668  Prostate Cancer  Prostate Cancer   \n",
       "129411     Prostate    10668  Prostate Cancer  Prostate Cancer   \n",
       "129412     Prostate    10668  Prostate Cancer  Prostate Cancer   \n",
       "\n",
       "          disease_study  test_split_1  test_split_2  test_split_3  \\\n",
       "0          Brain Damage             0             1             0   \n",
       "1          Brain Damage             0             1             0   \n",
       "2          Brain Damage             0             1             0   \n",
       "3          Brain Damage             0             1             0   \n",
       "4          Brain Damage             0             0             0   \n",
       "...                 ...           ...           ...           ...   \n",
       "129408  Prostate Cancer             1             0             0   \n",
       "129409  Prostate Cancer             1             0             0   \n",
       "129410  Prostate Cancer             1             0             0   \n",
       "129411  Prostate Cancer             1             0             0   \n",
       "129412  Prostate Cancer             1             0             0   \n",
       "\n",
       "        test_split_4  test_split_5  \n",
       "0                  0             0  \n",
       "1                  0             0  \n",
       "2                  0             0  \n",
       "3                  0             0  \n",
       "4                  0             0  \n",
       "...              ...           ...  \n",
       "129408             0             0  \n",
       "129409             0             0  \n",
       "129410             0             0  \n",
       "129411             0             0  \n",
       "129412             0             0  \n",
       "\n",
       "[129413 rows x 15 columns]"
      ]
     },
     "execution_count": 13,
     "metadata": {},
     "output_type": "execute_result"
    }
   ],
   "source": [
    "obs_2"
   ]
  },
  {
   "cell_type": "code",
   "execution_count": 15,
   "metadata": {},
   "outputs": [],
   "source": [
    "import os\n",
    "\n",
    "df_info_path = os.path.join(\n",
    "    \"/aloy\",\n",
    "    \"home\",\n",
    "    \"ddalton\",\n",
    "    \"projects\",\n",
    "    \"disease_signatures\",\n",
    "    \"data\",\n",
    "    \"DiSignAtlas\",\n",
    "    \"Disease_information_Datasets_extended.csv\",\n",
    ")\n",
    "\n",
    "\n",
    "df_info = pd.read_csv(df_info_path)"
   ]
  },
  {
   "cell_type": "code",
   "execution_count": 27,
   "metadata": {},
   "outputs": [
    {
     "name": "stderr",
     "output_type": "stream",
     "text": [
      "2024-09-02 17:08:08,483 - root - INFO - df_info shape: (10306, 14)\n",
      "2024-09-02 17:08:08,486 - root - INFO - df_info_query shape: (4468, 14)\n",
      "2024-09-02 17:08:09,543 - root - INFO - Nº of diseases w/ 5+ dsaids 198\n",
      "2024-09-02 17:08:09,543 - root - INFO - Nº of diseases w/ 5+ datasets 112\n"
     ]
    }
   ],
   "source": [
    "library_strategies_of_interest_set = {\"RNA-seq\", \"Microarray\"}\n",
    "\n",
    "QUERY = \"library_strategy in @library_strategies_of_interest_set & organism == 'Homo sapiens'\"\n",
    "\n",
    "\n",
    "logging.info(f\"df_info shape: {df_info.shape}\")\n",
    "\n",
    "\n",
    "df_info_query = df_info.query(QUERY)\n",
    "\n",
    "logging.info(f\"df_info_query shape: {df_info_query.shape}\")\n",
    "\n",
    "# Nº of diseases\n",
    "diseases_dsaid = set()\n",
    "diseases_dt = set()\n",
    "for disease in df_info_query[\"disease\"].unique():\n",
    "    QUERY = \"disease == @disease\"\n",
    "    _df_query = df_info_query.query(QUERY)\n",
    "    if _df_query[\"dsaid\"].nunique() >= 5:\n",
    "        diseases_dsaid.add(disease)\n",
    "    if _df_query[\"accession\"].nunique() >= 5:\n",
    "        diseases_dt.add(disease)\n",
    "\n",
    "logging.info(f\"Nº of diseases w/ 5+ dsaids {len(diseases_dsaid)}\")\n",
    "logging.info(f\"Nº of diseases w/ 5+ datasets {len(diseases_dt)}\")"
   ]
  },
  {
   "cell_type": "code",
   "execution_count": 25,
   "metadata": {},
   "outputs": [
    {
     "data": {
      "text/html": [
       "<div>\n",
       "<style scoped>\n",
       "    .dataframe tbody tr th:only-of-type {\n",
       "        vertical-align: middle;\n",
       "    }\n",
       "\n",
       "    .dataframe tbody tr th {\n",
       "        vertical-align: top;\n",
       "    }\n",
       "\n",
       "    .dataframe thead th {\n",
       "        text-align: right;\n",
       "    }\n",
       "</style>\n",
       "<table border=\"1\" class=\"dataframe\">\n",
       "  <thead>\n",
       "    <tr style=\"text-align: right;\">\n",
       "      <th></th>\n",
       "      <th>dsaid</th>\n",
       "      <th>accession</th>\n",
       "      <th>platform</th>\n",
       "      <th>deg_count</th>\n",
       "      <th>disease</th>\n",
       "      <th>diseaseid</th>\n",
       "      <th>tissue</th>\n",
       "      <th>data_source</th>\n",
       "      <th>library_strategy</th>\n",
       "      <th>organism</th>\n",
       "      <th>control_case_sample_count</th>\n",
       "      <th>definition</th>\n",
       "      <th>Control</th>\n",
       "      <th>Case</th>\n",
       "    </tr>\n",
       "  </thead>\n",
       "  <tbody>\n",
       "  </tbody>\n",
       "</table>\n",
       "</div>"
      ],
      "text/plain": [
       "Empty DataFrame\n",
       "Columns: [dsaid, accession, platform, deg_count, disease, diseaseid, tissue, data_source, library_strategy, organism, control_case_sample_count, definition, Control, Case]\n",
       "Index: []"
      ]
     },
     "execution_count": 25,
     "metadata": {},
     "output_type": "execute_result"
    }
   ],
   "source": [
    "df_info_query.query(QUERY)"
   ]
  },
  {
   "cell_type": "code",
   "execution_count": 32,
   "metadata": {},
   "outputs": [
    {
     "data": {
      "text/plain": [
       "7004"
      ]
     },
     "execution_count": 32,
     "metadata": {},
     "output_type": "execute_result"
    }
   ],
   "source": [
    "df_info[\n",
    "    (df_info[\"organism\"] == \"Homo sapiens\")\n",
    "    & (\n",
    "        (df_info[\"library_strategy\"] == \"RNA-Seq\")\n",
    "        | (df_info[\"library_strategy\"] == \"Microarray\")\n",
    "    )\n",
    "].shape[0]"
   ]
  },
  {
   "cell_type": "code",
   "execution_count": 36,
   "metadata": {},
   "outputs": [
    {
     "data": {
      "text/plain": [
       "7004"
      ]
     },
     "execution_count": 36,
     "metadata": {},
     "output_type": "execute_result"
    }
   ],
   "source": [
    "library_strategies_of_interest_set = {\"RNA-Seq\", \"Microarray\"}\n",
    "\n",
    "QUERY = \"library_strategy in @library_strategies_of_interest_set & organism == 'Homo sapiens'\"\n",
    "df_info.query(QUERY).shape[0]"
   ]
  },
  {
   "cell_type": "code",
   "execution_count": 30,
   "metadata": {},
   "outputs": [
    {
     "data": {
      "text/plain": [
       "library_strategy\n",
       "Microarray    5994\n",
       "RNA-Seq       3984\n",
       "scRNA-Seq      318\n",
       "snRNA-Seq       10\n",
       "Name: count, dtype: int64"
      ]
     },
     "execution_count": 30,
     "metadata": {},
     "output_type": "execute_result"
    }
   ],
   "source": [
    "df_info[\"library_strategy\"].value_counts()"
   ]
  },
  {
   "cell_type": "code",
   "execution_count": 19,
   "metadata": {},
   "outputs": [
    {
     "data": {
      "text/html": [
       "<div>\n",
       "<style scoped>\n",
       "    .dataframe tbody tr th:only-of-type {\n",
       "        vertical-align: middle;\n",
       "    }\n",
       "\n",
       "    .dataframe tbody tr th {\n",
       "        vertical-align: top;\n",
       "    }\n",
       "\n",
       "    .dataframe thead th {\n",
       "        text-align: right;\n",
       "    }\n",
       "</style>\n",
       "<table border=\"1\" class=\"dataframe\">\n",
       "  <thead>\n",
       "    <tr style=\"text-align: right;\">\n",
       "      <th></th>\n",
       "      <th>dsaid</th>\n",
       "      <th>accession</th>\n",
       "      <th>platform</th>\n",
       "      <th>deg_count</th>\n",
       "      <th>disease</th>\n",
       "      <th>diseaseid</th>\n",
       "      <th>tissue</th>\n",
       "      <th>data_source</th>\n",
       "      <th>library_strategy</th>\n",
       "      <th>organism</th>\n",
       "      <th>control_case_sample_count</th>\n",
       "      <th>definition</th>\n",
       "      <th>Control</th>\n",
       "      <th>Case</th>\n",
       "    </tr>\n",
       "  </thead>\n",
       "  <tbody>\n",
       "    <tr>\n",
       "      <th>0</th>\n",
       "      <td>DSA00001</td>\n",
       "      <td>GSE224398</td>\n",
       "      <td>GPL21103</td>\n",
       "      <td>1000</td>\n",
       "      <td>Alzheimer's Disease</td>\n",
       "      <td>C0002395</td>\n",
       "      <td>Hippocampus</td>\n",
       "      <td>GEO</td>\n",
       "      <td>scRNA-Seq</td>\n",
       "      <td>Mus musculus</td>\n",
       "      <td>1|1</td>\n",
       "      <td>DO:An Alzheimer's disease that has_material_ba...</td>\n",
       "      <td>GSM7021712</td>\n",
       "      <td>GSM7021715</td>\n",
       "    </tr>\n",
       "    <tr>\n",
       "      <th>1</th>\n",
       "      <td>DSA00002</td>\n",
       "      <td>GSE224398</td>\n",
       "      <td>GPL21103</td>\n",
       "      <td>1000</td>\n",
       "      <td>Alzheimer's Disease</td>\n",
       "      <td>C0002395</td>\n",
       "      <td>Hippocampus</td>\n",
       "      <td>GEO</td>\n",
       "      <td>scRNA-Seq</td>\n",
       "      <td>Mus musculus</td>\n",
       "      <td>1|1</td>\n",
       "      <td>DO:An Alzheimer's disease that has_material_ba...</td>\n",
       "      <td>GSM7021713</td>\n",
       "      <td>GSM7021716</td>\n",
       "    </tr>\n",
       "    <tr>\n",
       "      <th>2</th>\n",
       "      <td>DSA00003</td>\n",
       "      <td>GSE224398</td>\n",
       "      <td>GPL21103</td>\n",
       "      <td>1000</td>\n",
       "      <td>Alzheimer's Disease</td>\n",
       "      <td>C0002395</td>\n",
       "      <td>Hippocampus</td>\n",
       "      <td>GEO</td>\n",
       "      <td>scRNA-Seq</td>\n",
       "      <td>Mus musculus</td>\n",
       "      <td>1|1</td>\n",
       "      <td>DO:An Alzheimer's disease that has_material_ba...</td>\n",
       "      <td>GSM7021714</td>\n",
       "      <td>GSM7021717</td>\n",
       "    </tr>\n",
       "    <tr>\n",
       "      <th>3</th>\n",
       "      <td>DSA00004</td>\n",
       "      <td>GSE224022</td>\n",
       "      <td>GPL16791</td>\n",
       "      <td>1000</td>\n",
       "      <td>Retinoblastoma</td>\n",
       "      <td>C0035335</td>\n",
       "      <td>Retina</td>\n",
       "      <td>GEO</td>\n",
       "      <td>RNA-Seq</td>\n",
       "      <td>Homo sapiens</td>\n",
       "      <td>4|5</td>\n",
       "      <td>DO:A retinal cell cancer and malignant neoplas...</td>\n",
       "      <td>GSM7009973;GSM7009974;GSM7009976;GSM7009977</td>\n",
       "      <td>GSM7009978;GSM7009979;GSM7009980;GSM7009981;GS...</td>\n",
       "    </tr>\n",
       "    <tr>\n",
       "      <th>4</th>\n",
       "      <td>DSA00005</td>\n",
       "      <td>GSE126342</td>\n",
       "      <td>GPL11154</td>\n",
       "      <td>1000</td>\n",
       "      <td>Congenital Myotonic Dystrophy</td>\n",
       "      <td>C0410226</td>\n",
       "      <td>Skeletal muscle</td>\n",
       "      <td>GEO</td>\n",
       "      <td>RNA-Seq</td>\n",
       "      <td>Homo sapiens</td>\n",
       "      <td>9|11</td>\n",
       "      <td>MONDO:An inherited progressive disorder affect...</td>\n",
       "      <td>GSM3596881;GSM3596882;GSM3596883;GSM3596884;GS...</td>\n",
       "      <td>GSM3596870;GSM3596871;GSM3596872;GSM3596873;GS...</td>\n",
       "    </tr>\n",
       "    <tr>\n",
       "      <th>...</th>\n",
       "      <td>...</td>\n",
       "      <td>...</td>\n",
       "      <td>...</td>\n",
       "      <td>...</td>\n",
       "      <td>...</td>\n",
       "      <td>...</td>\n",
       "      <td>...</td>\n",
       "      <td>...</td>\n",
       "      <td>...</td>\n",
       "      <td>...</td>\n",
       "      <td>...</td>\n",
       "      <td>...</td>\n",
       "      <td>...</td>\n",
       "      <td>...</td>\n",
       "    </tr>\n",
       "    <tr>\n",
       "      <th>10301</th>\n",
       "      <td>DSA10302</td>\n",
       "      <td>GSE6008</td>\n",
       "      <td>GPL96</td>\n",
       "      <td>1000</td>\n",
       "      <td>Ovarian Tumor</td>\n",
       "      <td>C1140680</td>\n",
       "      <td>Ovary</td>\n",
       "      <td>GEO</td>\n",
       "      <td>Microarray</td>\n",
       "      <td>Homo sapiens</td>\n",
       "      <td>4|41</td>\n",
       "      <td>DO:A female reproductive organ cancer that is ...</td>\n",
       "      <td>Click to openGSM139476;GSM139477;GSM139478;GSM...</td>\n",
       "      <td>Click to openGSM139435;GSM139436;GSM139437;GSM...</td>\n",
       "    </tr>\n",
       "    <tr>\n",
       "      <th>10302</th>\n",
       "      <td>DSA10303</td>\n",
       "      <td>GSE6280</td>\n",
       "      <td>GPL96</td>\n",
       "      <td>758</td>\n",
       "      <td>Kidney Tumor</td>\n",
       "      <td>C0022665</td>\n",
       "      <td>Kidney</td>\n",
       "      <td>GEO</td>\n",
       "      <td>Microarray</td>\n",
       "      <td>Homo sapiens</td>\n",
       "      <td>6|14</td>\n",
       "      <td>DO:A urinary system cancer that is located_in ...</td>\n",
       "      <td>GSM144461;GSM144462;GSM144463;GSM144472;GSM144...</td>\n",
       "      <td>GSM144464;GSM144465;GSM144466;GSM144467;GSM144...</td>\n",
       "    </tr>\n",
       "    <tr>\n",
       "      <th>10303</th>\n",
       "      <td>DSA10304</td>\n",
       "      <td>GSE6280</td>\n",
       "      <td>GPL97</td>\n",
       "      <td>337</td>\n",
       "      <td>Kidney Tumor</td>\n",
       "      <td>C0022665</td>\n",
       "      <td>Kidney</td>\n",
       "      <td>GEO</td>\n",
       "      <td>Microarray</td>\n",
       "      <td>Homo sapiens</td>\n",
       "      <td>6|14</td>\n",
       "      <td>DO:A urinary system cancer that is located_in ...</td>\n",
       "      <td>GSM144481;GSM144482;GSM144483;GSM144492;GSM144...</td>\n",
       "      <td>GSM144484;GSM144485;GSM144486;GSM144487;GSM144...</td>\n",
       "    </tr>\n",
       "    <tr>\n",
       "      <th>10304</th>\n",
       "      <td>DSA10305</td>\n",
       "      <td>GSE6344</td>\n",
       "      <td>GPL96</td>\n",
       "      <td>1000</td>\n",
       "      <td>Clear Cell Ependymoma</td>\n",
       "      <td>C1384403</td>\n",
       "      <td>Kidney</td>\n",
       "      <td>GEO</td>\n",
       "      <td>Microarray</td>\n",
       "      <td>Homo sapiens</td>\n",
       "      <td>5|5</td>\n",
       "      <td>EFO:A WHO grade II, slow growing tumor of chil...</td>\n",
       "      <td>GSM146778;GSM146780;GSM146782;GSM146784;GSM146786</td>\n",
       "      <td>GSM146779;GSM146781;GSM146783;GSM146785;GSM146787</td>\n",
       "    </tr>\n",
       "    <tr>\n",
       "      <th>10305</th>\n",
       "      <td>DSA10306</td>\n",
       "      <td>GSE6344</td>\n",
       "      <td>GPL96</td>\n",
       "      <td>1000</td>\n",
       "      <td>Clear Cell Ependymoma</td>\n",
       "      <td>C1384403</td>\n",
       "      <td>Kidney</td>\n",
       "      <td>GEO</td>\n",
       "      <td>Microarray</td>\n",
       "      <td>Homo sapiens</td>\n",
       "      <td>5|5</td>\n",
       "      <td>EFO:A WHO grade II, slow growing tumor of chil...</td>\n",
       "      <td>GSM146789;GSM146790;GSM146792;GSM146794;GSM146796</td>\n",
       "      <td>GSM146788;GSM146791;GSM146793;GSM146795;GSM146797</td>\n",
       "    </tr>\n",
       "  </tbody>\n",
       "</table>\n",
       "<p>10306 rows × 14 columns</p>\n",
       "</div>"
      ],
      "text/plain": [
       "          dsaid  accession  platform  deg_count  \\\n",
       "0      DSA00001  GSE224398  GPL21103       1000   \n",
       "1      DSA00002  GSE224398  GPL21103       1000   \n",
       "2      DSA00003  GSE224398  GPL21103       1000   \n",
       "3      DSA00004  GSE224022  GPL16791       1000   \n",
       "4      DSA00005  GSE126342  GPL11154       1000   \n",
       "...         ...        ...       ...        ...   \n",
       "10301  DSA10302    GSE6008     GPL96       1000   \n",
       "10302  DSA10303    GSE6280     GPL96        758   \n",
       "10303  DSA10304    GSE6280     GPL97        337   \n",
       "10304  DSA10305    GSE6344     GPL96       1000   \n",
       "10305  DSA10306    GSE6344     GPL96       1000   \n",
       "\n",
       "                             disease diseaseid           tissue data_source  \\\n",
       "0                Alzheimer's Disease  C0002395      Hippocampus         GEO   \n",
       "1                Alzheimer's Disease  C0002395      Hippocampus         GEO   \n",
       "2                Alzheimer's Disease  C0002395      Hippocampus         GEO   \n",
       "3                     Retinoblastoma  C0035335           Retina         GEO   \n",
       "4      Congenital Myotonic Dystrophy  C0410226  Skeletal muscle         GEO   \n",
       "...                              ...       ...              ...         ...   \n",
       "10301                  Ovarian Tumor  C1140680            Ovary         GEO   \n",
       "10302                   Kidney Tumor  C0022665           Kidney         GEO   \n",
       "10303                   Kidney Tumor  C0022665           Kidney         GEO   \n",
       "10304          Clear Cell Ependymoma  C1384403           Kidney         GEO   \n",
       "10305          Clear Cell Ependymoma  C1384403           Kidney         GEO   \n",
       "\n",
       "      library_strategy      organism control_case_sample_count  \\\n",
       "0            scRNA-Seq  Mus musculus                       1|1   \n",
       "1            scRNA-Seq  Mus musculus                       1|1   \n",
       "2            scRNA-Seq  Mus musculus                       1|1   \n",
       "3              RNA-Seq  Homo sapiens                       4|5   \n",
       "4              RNA-Seq  Homo sapiens                      9|11   \n",
       "...                ...           ...                       ...   \n",
       "10301       Microarray  Homo sapiens                      4|41   \n",
       "10302       Microarray  Homo sapiens                      6|14   \n",
       "10303       Microarray  Homo sapiens                      6|14   \n",
       "10304       Microarray  Homo sapiens                       5|5   \n",
       "10305       Microarray  Homo sapiens                       5|5   \n",
       "\n",
       "                                              definition  \\\n",
       "0      DO:An Alzheimer's disease that has_material_ba...   \n",
       "1      DO:An Alzheimer's disease that has_material_ba...   \n",
       "2      DO:An Alzheimer's disease that has_material_ba...   \n",
       "3      DO:A retinal cell cancer and malignant neoplas...   \n",
       "4      MONDO:An inherited progressive disorder affect...   \n",
       "...                                                  ...   \n",
       "10301  DO:A female reproductive organ cancer that is ...   \n",
       "10302  DO:A urinary system cancer that is located_in ...   \n",
       "10303  DO:A urinary system cancer that is located_in ...   \n",
       "10304  EFO:A WHO grade II, slow growing tumor of chil...   \n",
       "10305  EFO:A WHO grade II, slow growing tumor of chil...   \n",
       "\n",
       "                                                 Control  \\\n",
       "0                                             GSM7021712   \n",
       "1                                             GSM7021713   \n",
       "2                                             GSM7021714   \n",
       "3            GSM7009973;GSM7009974;GSM7009976;GSM7009977   \n",
       "4      GSM3596881;GSM3596882;GSM3596883;GSM3596884;GS...   \n",
       "...                                                  ...   \n",
       "10301  Click to openGSM139476;GSM139477;GSM139478;GSM...   \n",
       "10302  GSM144461;GSM144462;GSM144463;GSM144472;GSM144...   \n",
       "10303  GSM144481;GSM144482;GSM144483;GSM144492;GSM144...   \n",
       "10304  GSM146778;GSM146780;GSM146782;GSM146784;GSM146786   \n",
       "10305  GSM146789;GSM146790;GSM146792;GSM146794;GSM146796   \n",
       "\n",
       "                                                    Case  \n",
       "0                                             GSM7021715  \n",
       "1                                             GSM7021716  \n",
       "2                                             GSM7021717  \n",
       "3      GSM7009978;GSM7009979;GSM7009980;GSM7009981;GS...  \n",
       "4      GSM3596870;GSM3596871;GSM3596872;GSM3596873;GS...  \n",
       "...                                                  ...  \n",
       "10301  Click to openGSM139435;GSM139436;GSM139437;GSM...  \n",
       "10302  GSM144464;GSM144465;GSM144466;GSM144467;GSM144...  \n",
       "10303  GSM144484;GSM144485;GSM144486;GSM144487;GSM144...  \n",
       "10304  GSM146779;GSM146781;GSM146783;GSM146785;GSM146787  \n",
       "10305  GSM146788;GSM146791;GSM146793;GSM146795;GSM146797  \n",
       "\n",
       "[10306 rows x 14 columns]"
      ]
     },
     "execution_count": 19,
     "metadata": {},
     "output_type": "execute_result"
    }
   ],
   "source": [
    "df_info"
   ]
  },
  {
   "cell_type": "code",
   "execution_count": 2,
   "metadata": {},
   "outputs": [],
   "source": [
    "import os, pandas as pd\n",
    "\n",
    "df_info_path = os.path.join(\n",
    "    \"/aloy\",\n",
    "    \"home\",\n",
    "    \"ddalton\",\n",
    "    \"projects\",\n",
    "    \"disease_signatures\",\n",
    "    \"data\",\n",
    "    \"DiSignAtlas\",\n",
    "    \"Disease_information_Datasets_extended.csv\",\n",
    ")\n",
    "\n",
    "\n",
    "df_info = pd.read_csv(df_info_path)"
   ]
  },
  {
   "cell_type": "code",
   "execution_count": 23,
   "metadata": {},
   "outputs": [],
   "source": [
    "diseases_filter = list()\n",
    "library_strategies_of_interest_set = {\"Microarray\", \"RNA-Seq\"}\n",
    "\n",
    "QUERY = \"library_strategy in @library_strategies_of_interest_set & organism == 'Homo sapiens'\"\n",
    "df_info = df_info.query(QUERY)\n",
    "\n",
    "\n",
    "for disease in df_info[\"disease\"].unique():\n",
    "    QUERY = \"disease == @disease\"\n",
    "    _df_q = df_info.query(QUERY)\n",
    "    _df_q = _df_q.dropna(subset=[\"Control\", \"Case\"])\n",
    "    if _df_q[\"accession\"].nunique() > 5:\n",
    "        controls = list()\n",
    "\n",
    "        for control in _df_q[\"Control\"].to_list():\n",
    "            for c in control.split(\";\"):\n",
    "                controls.append(c)\n",
    "\n",
    "        cases = list()\n",
    "        for case in _df_q[\"Case\"].to_list():\n",
    "            for c in case.split(\";\"):\n",
    "                cases.append(c)\n",
    "\n",
    "        diseases_filter.append((disease, len(controls) + len(cases)))"
   ]
  },
  {
   "cell_type": "code",
   "execution_count": 30,
   "metadata": {},
   "outputs": [
    {
     "name": "stdout",
     "output_type": "stream",
     "text": [
      "['Primary Myelofibrosis', 'Acute-On-Chronic Liver Failure', 'Intracranial Aneurysm', 'Glioblastoma Multiforme', 'Hepatitis B', 'Generalized Pustular Psoriasis', 'Chronic Rhinosinusitis', 'Spinal Muscular Atrophy', 'Cornelia De Lange Syndrome', 'Neuroblastoma', 'Hypertension', 'Steatosis', 'Pneumonia', 'Follicular Lymphoma', 'Dermatomyositis', 'Squamous Cell Carcinoma', 'Uremia', 'Diabetes', 'Metabolic Syndrome', 'Hutchinson-Gilford Progeria Syndrome', \"Barrett's Esophagus\", 'IgA Nephropathy', 'Ovarian Serous Carcinoma', \"Behcet's Disease\", 'Type 2 Diabetes Mellitus', 'Diabetic Kidney Disease', 'Coronary Artery Disease', 'Multiple System Atrophy', 'Leprosy', 'Frontotemporal Dementia']\n"
     ]
    }
   ],
   "source": [
    "diseases_filter\n",
    "\n",
    "sorted_diseases = sorted(diseases_filter, key=lambda x: x[1])\n",
    "\n",
    "print([x[0] for x in sorted_diseases[:30]])"
   ]
  },
  {
   "cell_type": "code",
   "execution_count": null,
   "metadata": {},
   "outputs": [],
   "source": [
    "\"Primary Myelofibrosis\", \"Acute-On-Chronic Liver Failure\", \"Glioblastoma Multiforme\", \"Hepatitis B\", \"Chronic Rhinosinusitis\", \"Spinal Muscular Atrophy\", \"Cornelia De Lange Syndrome\", \"Hypertension\", \"Steatosis\", \"Pneumonia\", \"Follicular Lymphoma\", \"Squamous Cell Carcinoma\", \"Uremia\", \"Diabetes\", \"Hutchinson-Gilford Progeria Syndrome\", \"Barrett's Esophagus\", \"Behcet's Disease\", \"Type 2 Diabetes Mellitus\", \"Diabetic Kidney Disease\", \"Coronary Artery Disease\", \"Multiple System Atrophy\","
   ]
  },
  {
   "cell_type": "code",
   "execution_count": 49,
   "metadata": {},
   "outputs": [
    {
     "name": "stdout",
     "output_type": "stream",
     "text": [
      "['run-24-09-04-01', 'run-24-09-04-02']\n",
      "[1, 2]\n",
      "Output directory created: ../outputs/run-24-09-04-03\n"
     ]
    },
    {
     "data": {
      "text/plain": [
       "'../outputs/run-24-09-04-03'"
      ]
     },
     "execution_count": 49,
     "metadata": {},
     "output_type": "execute_result"
    }
   ],
   "source": [
    "from datetime import datetime\n",
    "\n",
    "\n",
    "def get_folder_name():\n",
    "    # Step 1: Generate today's date string\n",
    "    today = datetime.now().strftime(\"%y-%m-%d\")\n",
    "\n",
    "    # Step 2: Define the base output directory\n",
    "    base_output_dir = os.path.join(\"..\", \"outputs\")\n",
    "\n",
    "    # Step 3: Find the highest existing run number for today\n",
    "    existing_runs = [\n",
    "        d\n",
    "        for d in os.listdir(base_output_dir)\n",
    "        if os.path.isdir(os.path.join(base_output_dir, d))\n",
    "        and d.startswith(f\"run-{today}\")\n",
    "    ]\n",
    "    print(existing_runs)\n",
    "    # Extract numbers from existing runs and find the max\n",
    "    existing_numbers = [\n",
    "        int(d.split(\"-\")[-1]) for d in existing_runs if d.split(\"-\")[-1].isdigit()\n",
    "    ]\n",
    "    print(existing_numbers)\n",
    "\n",
    "    # Calculate the next run number\n",
    "    next_run_number = max(existing_numbers, default=0) + 1\n",
    "\n",
    "    # Step 4: Create the directory name with zero-padded run number\n",
    "    output_dir = os.path.join(base_output_dir, f\"run-{today}-{next_run_number:02d}\")\n",
    "\n",
    "    # Step 5: Create the directory\n",
    "    os.makedirs(output_dir, exist_ok=True)\n",
    "\n",
    "    print(f\"Output directory created: {output_dir}\")\n",
    "    return output_dir\n",
    "\n",
    "\n",
    "get_folder_name()"
   ]
  },
  {
   "cell_type": "code",
   "execution_count": 3,
   "metadata": {},
   "outputs": [
    {
     "name": "stdout",
     "output_type": "stream",
     "text": [
      "[1]\n",
      "Output directory created: ../data/pp_data-24-09-09-02\n"
     ]
    },
    {
     "data": {
      "text/plain": [
       "'../data/pp_data-24-09-09-02'"
      ]
     },
     "execution_count": 3,
     "metadata": {},
     "output_type": "execute_result"
    }
   ],
   "source": [
    "from datetime import datetime\n",
    "import sys, os\n",
    "\n",
    "\n",
    "def get_folder_name(base_output_dir: str) -> str:\n",
    "    \"\"\"Get Folder Name\n",
    "    Args:\n",
    "        - output_path (str): Output folder\n",
    "    Returns:\n",
    "        - output_dir (str): Output directory\n",
    "    \"\"\"\n",
    "    # Step 1: Generate today's date string\n",
    "    today = datetime.now().strftime(\"%y-%m-%d\")\n",
    "\n",
    "    # Step 2: Find the highest existing run number for today\n",
    "    existing_runs = [\n",
    "        d\n",
    "        for d in os.listdir(base_output_dir)\n",
    "        if os.path.isdir(os.path.join(base_output_dir, d))\n",
    "        and d.startswith(f\"pp_data-{today}\")\n",
    "    ]\n",
    "\n",
    "    # Extract numbers from existing runs and find the max\n",
    "    existing_numbers = [\n",
    "        int(d.split(\"-\")[-1]) for d in existing_runs if d.split(\"-\")[-1].isdigit()\n",
    "    ]\n",
    "\n",
    "    print(existing_numbers)\n",
    "\n",
    "    # Calculate the next run number\n",
    "    next_run_number = max(existing_numbers, default=0) + 1\n",
    "\n",
    "    # Step 3: Create the directory name with zero-padded run number\n",
    "    output_dir = os.path.join(base_output_dir, f\"pp_data-{today}-{next_run_number:02d}\")\n",
    "\n",
    "    # Step 4: Create the directory\n",
    "    os.makedirs(output_dir, exist_ok=True)\n",
    "\n",
    "    print(f\"Output directory created: {output_dir}\")\n",
    "    return output_dir\n",
    "\n",
    "\n",
    "get_folder_name(\"../data\")"
   ]
  },
  {
   "cell_type": "code",
   "execution_count": 1,
   "metadata": {},
   "outputs": [
    {
     "ename": "NameError",
     "evalue": "name 'datetime' is not defined",
     "output_type": "error",
     "traceback": [
      "\u001b[0;31m---------------------------------------------------------------------------\u001b[0m",
      "\u001b[0;31mNameError\u001b[0m                                 Traceback (most recent call last)",
      "Cell \u001b[0;32mIn[1], line 2\u001b[0m\n\u001b[1;32m      1\u001b[0m base_output_dir \u001b[38;5;241m=\u001b[39m \u001b[38;5;124m\"\u001b[39m\u001b[38;5;124m../data\u001b[39m\u001b[38;5;124m\"\u001b[39m\n\u001b[0;32m----> 2\u001b[0m today \u001b[38;5;241m=\u001b[39m \u001b[43mdatetime\u001b[49m\u001b[38;5;241m.\u001b[39mnow()\u001b[38;5;241m.\u001b[39mstrftime(\u001b[38;5;124m\"\u001b[39m\u001b[38;5;124m%\u001b[39m\u001b[38;5;124my-\u001b[39m\u001b[38;5;124m%\u001b[39m\u001b[38;5;124mm-\u001b[39m\u001b[38;5;132;01m%d\u001b[39;00m\u001b[38;5;124m\"\u001b[39m)\n\u001b[1;32m      4\u001b[0m \u001b[38;5;28mprint\u001b[39m(today)\n\u001b[1;32m      6\u001b[0m [\n\u001b[1;32m      7\u001b[0m     d\n\u001b[1;32m      8\u001b[0m     \u001b[38;5;28;01mfor\u001b[39;00m d \u001b[38;5;129;01min\u001b[39;00m os\u001b[38;5;241m.\u001b[39mlistdir(base_output_dir)\n\u001b[1;32m      9\u001b[0m     \u001b[38;5;28;01mif\u001b[39;00m os\u001b[38;5;241m.\u001b[39mpath\u001b[38;5;241m.\u001b[39misdir(os\u001b[38;5;241m.\u001b[39mpath\u001b[38;5;241m.\u001b[39mjoin(base_output_dir, d))\n\u001b[1;32m     10\u001b[0m     \u001b[38;5;129;01mand\u001b[39;00m d\u001b[38;5;241m.\u001b[39mstartswith(\u001b[38;5;124mf\u001b[39m\u001b[38;5;124m\"\u001b[39m\u001b[38;5;124mppdata-\u001b[39m\u001b[38;5;132;01m{\u001b[39;00mtoday\u001b[38;5;132;01m}\u001b[39;00m\u001b[38;5;124m\"\u001b[39m)\n\u001b[1;32m     11\u001b[0m ]\n",
      "\u001b[0;31mNameError\u001b[0m: name 'datetime' is not defined"
     ]
    }
   ],
   "source": [
    "base_output_dir = \"../data\"\n",
    "today = datetime.now().strftime(\"%y-%m-%d\")\n",
    "\n",
    "print(today)\n",
    "\n",
    "[\n",
    "    d\n",
    "    for d in os.listdir(base_output_dir)\n",
    "    if os.path.isdir(os.path.join(base_output_dir, d))\n",
    "    and d.startswith(f\"ppdata-{today}\")\n",
    "]"
   ]
  },
  {
   "cell_type": "code",
   "execution_count": 2,
   "metadata": {},
   "outputs": [
    {
     "name": "stderr",
     "output_type": "stream",
     "text": [
      "/home/ddalton/miniconda3/envs/scgpt/lib/python3.10/site-packages/anndata/__init__.py:55: FutureWarning: `anndata.read` is deprecated, use `anndata.read_h5ad` instead. `ad.read` will be removed in mid 2024.\n",
      "  warnings.warn(\n"
     ]
    }
   ],
   "source": [
    "import anndata as ad\n",
    "import numpy as np, pandas as pd, os, sys, logging\n",
    "from datetime import datetime\n",
    "import random\n",
    "from sklearn.model_selection import train_test_split\n",
    "\n",
    "\n",
    "logging.basicConfig(\n",
    "    level=logging.INFO, format=\"%(asctime)s - %(name)s - %(levelname)s - %(message)s\"\n",
    ")\n",
    "\n",
    "\n",
    "adata = ad.read(\"../data/pp_data-24-09-09-02/data.h5ad\")"
   ]
  },
  {
   "cell_type": "code",
   "execution_count": 6,
   "metadata": {},
   "outputs": [],
   "source": [
    "def get_dataset_info(ids, df_info):\n",
    "    \"\"\"Get Disease Information\"\"\"\n",
    "\n",
    "    dsaid_2_accession = dict(zip(df_info[\"dsaid\"], df_info[\"accession\"]))\n",
    "\n",
    "    dataset_accessions = [dsaid_2_accession[id.split(\";\")[0]] for id in ids]\n",
    "\n",
    "    accession_2_id = {k: v for v, k in enumerate(set(dataset_accessions))}\n",
    "    dataset_ids = [accession_2_id[accession] for accession in dataset_accessions]\n",
    "\n",
    "    return dataset_accessions, dataset_ids\n",
    "\n",
    "\n",
    "def get_disease_info(ids, df_info):\n",
    "    \"\"\"Get Disease Information\"\"\"\n",
    "    dsaid_2_disease = dict(zip(df_info[\"dsaid\"], df_info[\"disease\"]))\n",
    "    disease_types = list()\n",
    "    for id in ids:\n",
    "        if id.split(\";\")[2] == \"Control\":\n",
    "            disease_types.append(\"Control\")\n",
    "        elif id.split(\";\")[2] == \"Case\":\n",
    "            disease_types.append(dsaid_2_disease[id.split(\";\")[0]])\n",
    "        else:\n",
    "            print(f\"Error with ID: {id}\")\n",
    "\n",
    "    map_2_id = {k: v for v, k in enumerate(set(disease_types))}\n",
    "\n",
    "    disease_ids = [map_2_id[x] for x in disease_types]\n",
    "\n",
    "    return disease_types, disease_ids"
   ]
  },
  {
   "cell_type": "code",
   "execution_count": 7,
   "metadata": {},
   "outputs": [],
   "source": [
    "df_info = pd.read_csv(\n",
    "    os.path.join(\n",
    "        \"/aloy\",\n",
    "        \"home\",\n",
    "        \"ddalton\",\n",
    "        \"projects\",\n",
    "        \"disease_signatures\",\n",
    "        \"data\",\n",
    "        \"DiSignAtlas\",\n",
    "        \"Disease_information_Datasets_extended.csv\",\n",
    "    )\n",
    ")"
   ]
  },
  {
   "cell_type": "code",
   "execution_count": 8,
   "metadata": {},
   "outputs": [],
   "source": [
    "# generate celltype and celltype_id columns in adata.obs\n",
    "disease_types, disease_ids = get_disease_info(adata.obs[\"ids\"].values, df_info=df_info)\n",
    "# adata.obs[\"celltype\"] = disease_types\n",
    "# adata.obs[\"celltype_id\"] = disease_ids"
   ]
  },
  {
   "cell_type": "code",
   "execution_count": 17,
   "metadata": {},
   "outputs": [
    {
     "data": {
      "text/plain": [
       "batch\n",
       "81    431\n",
       "59    406\n",
       "84    361\n",
       "34    330\n",
       "70    321\n",
       "     ... \n",
       "77      6\n",
       "65      5\n",
       "73      4\n",
       "87      4\n",
       "68      3\n",
       "Name: count, Length: 115, dtype: int64"
      ]
     },
     "execution_count": 17,
     "metadata": {},
     "output_type": "execute_result"
    }
   ],
   "source": [
    "adata.obs[\"batch\"].value_counts()"
   ]
  },
  {
   "cell_type": "code",
   "execution_count": 19,
   "metadata": {},
   "outputs": [
    {
     "name": "stderr",
     "output_type": "stream",
     "text": [
      "2024-09-12 08:42:08,413 - root - INFO - Counts of each disease type: Counter({'Control': 2328, 'Breast Cancer': 1849, 'Colorectal Carcinoma': 1512, 'Influenza': 650})\n"
     ]
    }
   ],
   "source": [
    "from collections import Counter\n",
    "\n",
    "logging.info(f\"Counts of each disease type: {Counter(disease_types)}\")\n",
    "\n",
    "\n",
    "# generate dataset ids column in adata.obs\n",
    "dataset_ids, batch_ids = get_dataset_info(adata.obs[\"ids\"].values, df_info=df_info)"
   ]
  },
  {
   "cell_type": "code",
   "execution_count": 30,
   "metadata": {},
   "outputs": [
    {
     "name": "stderr",
     "output_type": "stream",
     "text": [
      "2024-09-12 09:04:55,407 - root - INFO - Counts of each dataset id: Counter({'GSE54002': 431, 'E-MTAB-8448': 406, 'GSE87211': 361, 'GSE162632': 330, 'GSE41258': 321, 'GSE55276': 234, 'GSE55277': 234, 'GSE5364': 194, 'GSE45827': 162, 'GSE101702': 157, 'GSE27562': 146, 'GSE24124': 135, 'GSE47756': 127, 'GSE16443': 119, 'GSE42568': 119, 'GSE164191': 119, 'GSE29044': 107, 'GSE37751': 106, 'GSE174302': 96, 'GSE33113': 94, 'GSE123086': 92, 'GSE9348': 80, 'GSE62932': 79, 'GSE29366': 67, 'GSE29431': 64, 'GSE141828': 61, 'GSE61304': 58, 'GSE74604': 58, 'GSE10810': 56, 'GSE205787': 51, 'GSE110933': 48, 'GSE34205': 48, 'GSE36295': 48, 'GSE24514': 47, 'GSE3744': 45, 'GSE139038': 45, 'GSE20437': 40, 'GSE223120': 38, 'GSE100179': 38, 'GSE100150': 37, 'GSE32488': 37, 'GSE123087': 36, 'GSE3964': 35, 'GSE64392': 35, 'GSE32323': 34, 'GSE22598': 34, 'GSE74369': 32, 'GSE77953': 30, 'GSE166044': 30, 'GSE31471': 30, 'GSE80759': 30, 'GSE122183': 30, 'GSE10715': 30, 'GSE9574': 29, 'GSE41011': 29, 'GSE70468': 28, 'GSE111842': 27, 'GSE14297': 25, 'GSE4183': 23, 'GSE4107': 22, 'GSE27131': 21, 'E-MTAB-5385': 21, 'E-MTAB-12014': 20, 'GSE197906': 20, 'GSE20266': 20, 'GSE11545': 20, 'GSE90708': 19, 'GSE25487': 19, 'GSE71053': 18, 'GSE118646': 18, 'GSE33126': 18, 'GSE66387': 18, 'GSE31469': 18, 'GSE71363': 18, 'GSE37911': 18, 'GSE67939': 17, 'GSE185645': 16, 'GSE151550': 16, 'GSE36765': 14, 'GSE10714': 13, 'GSE161731': 13, 'GSE112280': 12, 'GSE26910': 12, 'GSE157737': 12, 'GSE146587': 12, 'GSE152508': 11, 'GSE28000': 11, 'GSE68849': 10, 'GSE7700': 10, 'GSE18462': 10, 'GSE71192': 8, 'GSE77199': 8, 'GSE75699': 8, 'GSE19295': 8, 'GSE96597': 8, 'GSE211804': 8, 'GSE26990': 8, 'GSE137511': 8, 'GSE65517': 7, 'GSE195664': 7, 'GSE149206': 6, 'GSE124030': 6, 'GSE141174': 6, 'GSE199324': 6, 'GSE31475': 6, 'GSE31474': 6, 'GSE31470': 6, 'GSE124993': 6, 'GSE128610': 6, 'GSE83353': 6, 'GSE31138': 6, 'GSE22242': 5, 'GSE73613': 4, 'GSE179509': 4, 'GSE76049': 3})\n"
     ]
    }
   ],
   "source": [
    "logging.info(f\"Counts of each dataset id: {Counter(dataset_ids)}\")\n",
    "\n",
    "\n",
    "def get_old_test_split(adata: ad.AnnData) -> np.array:\n",
    "    \"\"\"Get Old Test Split\n",
    "    Args:\n",
    "        - adata (ad.AnnData): AnnData object\n",
    "    Returns:\n",
    "        - np.array: Test Split\n",
    "    \"\"\"\n",
    "\n",
    "    # We combine both the disease type with the dataset as to\n",
    "    # shuffle even more the data - minimize bias in train/test split\n",
    "    labels = np.array(\n",
    "        [a + b for a, b in zip(adata.obs[\"disease\"], adata.obs[\"dataset\"])]\n",
    "    )\n",
    "\n",
    "    # Generate indices for the data points\n",
    "    indices = np.arange(len(labels))\n",
    "\n",
    "    \"\"\"train_test_split cannot handle single label indexes\n",
    "\n",
    "    Because of this we will manually deal with these cases!\n",
    "\n",
    "    \"\"\"\n",
    "    indices_single_label = [\n",
    "        i for i, x in enumerate(labels) if list(labels).count(x) == 1\n",
    "    ]\n",
    "    labels_single_label = labels[indices_single_label]\n",
    "\n",
    "    logging.info(f\"Nº of single label indexes: {len(indices_single_label)}\")\n",
    "\n",
    "    remaining_indices = [i for i in indices if i not in indices_single_label]\n",
    "    remaining_labels = labels[remaining_indices]\n",
    "\n",
    "    # Perform stratified split on the remaining indices\n",
    "    train_indices, test_indices = train_test_split(\n",
    "        remaining_indices, test_size=0.2, stratify=remaining_labels, random_state=42\n",
    "    )\n",
    "\n",
    "    for idx in indices_single_label:\n",
    "\n",
    "        if random.random() < 0.2:\n",
    "            test_indices.append(idx)\n",
    "        else:\n",
    "            train_indices.append(idx)\n",
    "\n",
    "    test_indices.sort()\n",
    "    train_indices.sort()\n",
    "\n",
    "    batch_ids = np.zeros(len(labels))\n",
    "    batch_ids[test_indices] = 1\n",
    "\n",
    "    logging.info(f\"Nº of train samples: {np.sum(~batch_ids.astype(bool))}\")\n",
    "    logging.info(f\"Nº of test samples: {np.sum(batch_ids.astype(bool))}\")\n",
    "\n",
    "    return batch_ids.astype(int).astype(bool)"
   ]
  },
  {
   "cell_type": "code",
   "execution_count": 34,
   "metadata": {},
   "outputs": [
    {
     "name": "stderr",
     "output_type": "stream",
     "text": [
      "2024-09-12 09:05:50,278 - root - INFO - Nº of single label indexes: 6\n",
      "2024-09-12 09:05:50,285 - root - INFO - Nº of train samples: 5072\n",
      "2024-09-12 09:05:50,285 - root - INFO - Nº of test samples: 1267\n"
     ]
    }
   ],
   "source": [
    "adata.obs[\"tmp_test\"] = get_old_test_split(adata)"
   ]
  },
  {
   "cell_type": "code",
   "execution_count": 63,
   "metadata": {},
   "outputs": [
    {
     "data": {
      "text/plain": [
       "211"
      ]
     },
     "execution_count": 63,
     "metadata": {},
     "output_type": "execute_result"
    }
   ],
   "source": [
    "labels = np.array([a + b for a, b in zip(adata.obs[\"disease\"], adata.obs[\"dataset\"])])\n",
    "len(\n",
    "    set(labels[adata.obs[\"tmp_test\"].values.astype(int).astype(bool)])\n",
    "    & set(labels[~adata.obs[\"tmp_test\"].values.astype(int).astype(bool)])\n",
    ")"
   ]
  },
  {
   "cell_type": "code",
   "execution_count": 67,
   "metadata": {},
   "outputs": [
    {
     "data": {
      "text/plain": [
       "5072"
      ]
     },
     "execution_count": 67,
     "metadata": {},
     "output_type": "execute_result"
    }
   ],
   "source": [
    "len(labels[~adata.obs[\"tmp_test\"].values.astype(int).astype(bool)])"
   ]
  },
  {
   "cell_type": "code",
   "execution_count": 57,
   "metadata": {},
   "outputs": [
    {
     "data": {
      "text/plain": [
       "array([], dtype='<U31')"
      ]
     },
     "execution_count": 57,
     "metadata": {},
     "output_type": "execute_result"
    }
   ],
   "source": [
    "labels[~(adata.obs[\"tmp_test\"].values.astype(bool))]"
   ]
  },
  {
   "cell_type": "code",
   "execution_count": 61,
   "metadata": {},
   "outputs": [
    {
     "data": {
      "text/plain": [
       "array([ True,  True,  True, ..., False,  True,  True])"
      ]
     },
     "execution_count": 61,
     "metadata": {},
     "output_type": "execute_result"
    }
   ],
   "source": [
    "~adata.obs[\"tmp_test\"].values.astype(int).astype(bool)"
   ]
  },
  {
   "cell_type": "code",
   "execution_count": 1,
   "metadata": {},
   "outputs": [
    {
     "name": "stderr",
     "output_type": "stream",
     "text": [
      "/home/ddalton/miniconda3/envs/scgpt/lib/python3.10/site-packages/anndata/__init__.py:55: FutureWarning: `anndata.read` is deprecated, use `anndata.read_h5ad` instead. `ad.read` will be removed in mid 2024.\n",
      "  warnings.warn(\n"
     ]
    }
   ],
   "source": [
    "import anndata as ad\n",
    "\n",
    "\n",
    "adata = ad.read(\"/aloy/home/ddalton/projects/scGPT/data/test_1/test_2.h5ad\")"
   ]
  },
  {
   "cell_type": "code",
   "execution_count": 5,
   "metadata": {},
   "outputs": [
    {
     "data": {
      "text/plain": [
       "['Control', 'Lung Adenocarcinoma', 'Breast Cancer', 'Psoriasis', 'Ulcerative Colitis', 'Crohn's Disease', 'Lung Cancer']\n",
       "Categories (7, object): ['Breast Cancer', 'Control', 'Crohn's Disease', 'Lung Adenocarcinoma', 'Lung Cancer', 'Psoriasis', 'Ulcerative Colitis']"
      ]
     },
     "execution_count": 5,
     "metadata": {},
     "output_type": "execute_result"
    }
   ],
   "source": [
    "adata.obs[\"celltype\"].unique()"
   ]
  },
  {
   "cell_type": "code",
   "execution_count": 24,
   "metadata": {},
   "outputs": [],
   "source": [
    "adata_2 = ad.read(\n",
    "    \"/aloy/home/ddalton/projects/scGPT_playground/data/pp_data-24-09-13-01/data.h5ad\"\n",
    ")"
   ]
  },
  {
   "cell_type": "code",
   "execution_count": 32,
   "metadata": {},
   "outputs": [
    {
     "data": {
      "text/plain": [
       "(10583, 19690)"
      ]
     },
     "execution_count": 32,
     "metadata": {},
     "output_type": "execute_result"
    }
   ],
   "source": [
    "adata.X.shape"
   ]
  },
  {
   "cell_type": "code",
   "execution_count": 33,
   "metadata": {},
   "outputs": [
    {
     "data": {
      "text/plain": [
       "(17397, 19690)"
      ]
     },
     "execution_count": 33,
     "metadata": {},
     "output_type": "execute_result"
    }
   ],
   "source": [
    "adata_2.X.shape"
   ]
  },
  {
   "cell_type": "code",
   "execution_count": 34,
   "metadata": {},
   "outputs": [
    {
     "data": {
      "text/plain": [
       "10583"
      ]
     },
     "execution_count": 34,
     "metadata": {},
     "output_type": "execute_result"
    }
   ],
   "source": [
    "len(set(adata.obs[\"ids\"]) & set(adata_2.obs[\"ids\"]))"
   ]
  },
  {
   "cell_type": "code",
   "execution_count": 46,
   "metadata": {},
   "outputs": [
    {
     "name": "stdout",
     "output_type": "stream",
     "text": [
      "100 100\n"
     ]
    },
    {
     "data": {
      "text/plain": [
       "array([[ True,  True,  True, ..., False, False, False],\n",
       "       [ True,  True,  True, ..., False, False, False],\n",
       "       [ True,  True,  True, ..., False, False, False],\n",
       "       ...,\n",
       "       [ True,  True,  True, ..., False, False, False],\n",
       "       [ True,  True,  True, ..., False, False, False],\n",
       "       [ True,  True,  True, ..., False, False, False]])"
      ]
     },
     "execution_count": 46,
     "metadata": {},
     "output_type": "execute_result"
    }
   ],
   "source": [
    "import numpy as np\n",
    "\n",
    "interest = adata.obs[\"ids\"].to_list()[900:1000]\n",
    "\n",
    "mask_1 = np.array(\n",
    "    [True if x in interest else False for x in adata.obs[\"ids\"].to_list()]\n",
    ")\n",
    "mask_2 = np.array(\n",
    "    [True if x in interest else False for x in adata_2.obs[\"ids\"].to_list()]\n",
    ")\n",
    "\n",
    "print(np.sum(mask_1), np.sum(mask_2))\n",
    "\n",
    "(adata[mask_1].X == adata_2[mask_2].X)"
   ]
  },
  {
   "cell_type": "code",
   "execution_count": null,
   "metadata": {},
   "outputs": [],
   "source": [
    "a = [[np.nan]]\n",
    "b = [[np.nan]]"
   ]
  },
  {
   "cell_type": "code",
   "execution_count": 39,
   "metadata": {},
   "outputs": [
    {
     "data": {
      "text/plain": [
       "ArrayView([[2.9427, 5.2999, 6.2339, ...,    nan,    nan,    nan],\n",
       "           [3.1095, 5.757 , 7.083 , ...,    nan,    nan,    nan],\n",
       "           [3.0431, 6.1122, 6.6146, ...,    nan,    nan,    nan],\n",
       "           ...,\n",
       "           [2.9961, 5.2832, 7.189 , ...,    nan,    nan,    nan],\n",
       "           [3.4241, 5.3499, 7.1087, ...,    nan,    nan,    nan],\n",
       "           [3.1203, 5.5727, 7.4819, ...,    nan,    nan,    nan]])"
      ]
     },
     "execution_count": 39,
     "metadata": {},
     "output_type": "execute_result"
    }
   ],
   "source": [
    "adata_2[mask_2].X"
   ]
  },
  {
   "cell_type": "code",
   "execution_count": 41,
   "metadata": {},
   "outputs": [
    {
     "data": {
      "text/plain": [
       "ArrayView([[2.9427, 5.2999, 6.2339, ...,    nan,    nan,    nan],\n",
       "           [3.1095, 5.757 , 7.083 , ...,    nan,    nan,    nan],\n",
       "           [3.0431, 6.1122, 6.6146, ...,    nan,    nan,    nan],\n",
       "           ...,\n",
       "           [2.9961, 5.2832, 7.189 , ...,    nan,    nan,    nan],\n",
       "           [3.4241, 5.3499, 7.1087, ...,    nan,    nan,    nan],\n",
       "           [3.1203, 5.5727, 7.4819, ...,    nan,    nan,    nan]])"
      ]
     },
     "execution_count": 41,
     "metadata": {},
     "output_type": "execute_result"
    }
   ],
   "source": [
    "adata[mask_1].X"
   ]
  },
  {
   "cell_type": "code",
   "execution_count": 28,
   "metadata": {},
   "outputs": [
    {
     "data": {
      "text/plain": [
       "celltype\n",
       "Control                6700\n",
       "Ulcerative Colitis     3210\n",
       "Crohn's Disease        2638\n",
       "Breast Cancer          1849\n",
       "Lung Adenocarcinoma    1400\n",
       "Psoriasis              1296\n",
       "Lung Cancer             304\n",
       "Name: count, dtype: int64"
      ]
     },
     "execution_count": 28,
     "metadata": {},
     "output_type": "execute_result"
    }
   ],
   "source": [
    "adata_2.obs[\"celltype\"].value_counts()"
   ]
  },
  {
   "cell_type": "code",
   "execution_count": 29,
   "metadata": {},
   "outputs": [
    {
     "data": {
      "text/plain": [
       "celltype\n",
       "Control                4041\n",
       "Ulcerative Colitis     1776\n",
       "Breast Cancer          1740\n",
       "Crohn's Disease        1469\n",
       "Psoriasis               960\n",
       "Lung Adenocarcinoma     335\n",
       "Lung Cancer             262\n",
       "Name: count, dtype: int64"
      ]
     },
     "execution_count": 29,
     "metadata": {},
     "output_type": "execute_result"
    }
   ],
   "source": [
    "adata.obs[\"celltype\"].value_counts()"
   ]
  },
  {
   "cell_type": "code",
   "execution_count": 1,
   "metadata": {},
   "outputs": [
    {
     "name": "stderr",
     "output_type": "stream",
     "text": [
      "2024-09-14 11:28:57,773 - Nº of DSAIDs of interest: 286\n",
      "100%|██████████| 286/286 [04:11<00:00,  1.14it/s]\n",
      "2024-09-14 11:33:09,741 - Loaded dataframe with shape: (10963, 19691)\n",
      "2024-09-14 11:33:10,107 - Filtered dataframe with shape: (10791, 19691)\n",
      "2024-09-14 11:33:10,293 - Filtered out Unkowns from dataframe with shape: (10583, 19691)\n"
     ]
    }
   ],
   "source": [
    "\"\"\"Pre-Process Data\n",
    "\n",
    "Convert the raw data counts into sc-RNAseq compatible data format.\n",
    "\n",
    "Structure:\n",
    "    1. Imports, Variables, Functions\n",
    "    2. Load Data\n",
    "    3. Convert to `adata` object\n",
    "\n",
    "\"\"\"\n",
    "\n",
    "# 1. Imports, Variables, Functions\n",
    "# imports\n",
    "import numpy as np, os, sys, pandas as pd, scanpy as sc\n",
    "import anndata as ad\n",
    "import logging\n",
    "from tqdm import tqdm\n",
    "\n",
    "logging.basicConfig(level=logging.INFO, format=\"%(asctime)s - %(message)s\")\n",
    "from matplotlib import pyplot as plt\n",
    "from collections import Counter\n",
    "\n",
    "# import random\n",
    "import random\n",
    "\n",
    "from sklearn.model_selection import train_test_split\n",
    "\n",
    "\n",
    "# variables\n",
    "diseases_of_interest_set = {\"Influenza\", \"Colorectal Carcinoma\", \"Breast Cancer\"}\n",
    "diseases_of_interest_set = {\n",
    "    \"Crohn's Disease\",\n",
    "    \"Ulcerative Colitis\",\n",
    "    \"Lung Cancer\",\n",
    "    \"Lung Adenocarcinoma\",\n",
    "    \"Breast Cancer\",\n",
    "    \"Psoriasis\",\n",
    "}\n",
    "\n",
    "\n",
    "example_data_path = (\n",
    "    \"/aloy/home/ddalton/projects/disease_signatures/data/DiSignAtlas/tmp/DSA00123.csv\"\n",
    ")\n",
    "\n",
    "df_info_path = os.path.join(\n",
    "    \"/aloy\",\n",
    "    \"home\",\n",
    "    \"ddalton\",\n",
    "    \"projects\",\n",
    "    \"disease_signatures\",\n",
    "    \"data\",\n",
    "    \"DiSignAtlas\",\n",
    "    \"Disease_information_Datasets_extended.csv\",\n",
    ")\n",
    "\n",
    "\n",
    "large_df_path = \"/aloy/home/ddalton/projects/disease_signatures/data/DiSignAtlas/DiSignAtlas.exp_prof_merged.csv\"\n",
    "\n",
    "\n",
    "# functions\n",
    "def get_exp_prof(dsaids_interest):\n",
    "    \"\"\"Get Expression Profiles\"\"\"\n",
    "\n",
    "    # variables\n",
    "    file_dir = \"/aloy/home/ddalton/projects/disease_signatures/data/DiSignAtlas/tmp/\"\n",
    "    first = True\n",
    "    for dsaid in tqdm(dsaids_interest):\n",
    "        __df = pd.read_csv(os.path.join(file_dir, f\"{dsaid}.csv\"))\n",
    "        if first:\n",
    "            df_global = __df\n",
    "            first = False\n",
    "        else:\n",
    "            df_global = pd.concat([df_global, __df], axis=0)\n",
    "    return df_global\n",
    "\n",
    "\n",
    "def get_dataset_info(ids, df_info):\n",
    "    \"\"\"Get Disease Information\"\"\"\n",
    "\n",
    "    dsaid_2_accession = dict(zip(df_info[\"dsaid\"], df_info[\"accession\"]))\n",
    "\n",
    "    dataset_accessions = [dsaid_2_accession[id.split(\";\")[0]] for id in ids]\n",
    "\n",
    "    accession_2_id = {k: v for v, k in enumerate(set(dataset_accessions))}\n",
    "    dataset_ids = [accession_2_id[accession] for accession in dataset_accessions]\n",
    "\n",
    "    return dataset_accessions, dataset_ids\n",
    "\n",
    "\n",
    "def get_disease_info(ids, df_info):\n",
    "    \"\"\"Get Disease Information\"\"\"\n",
    "    dsaid_2_disease = dict(zip(df_info[\"dsaid\"], df_info[\"disease\"]))\n",
    "    disease_types = list()\n",
    "    for id in ids:\n",
    "        if id.split(\";\")[2] == \"Control\":\n",
    "            disease_types.append(\"Control\")\n",
    "        elif id.split(\";\")[2] == \"Case\":\n",
    "            disease_types.append(dsaid_2_disease[id.split(\";\")[0]])\n",
    "        else:\n",
    "            print(f\"Error with ID: {id}\")\n",
    "\n",
    "    map_2_id = {k: v for v, k in enumerate(set(disease_types))}\n",
    "\n",
    "    disease_ids = [map_2_id[x] for x in disease_types]\n",
    "\n",
    "    return disease_types, disease_ids\n",
    "\n",
    "\n",
    "# 2. Load Data\n",
    "# df = pd.read_csv(example_data_path)\n",
    "\n",
    "df_info = pd.read_csv(df_info_path)\n",
    "\n",
    "\n",
    "# Query data to retrieve dsaids of interest\n",
    "library_strategies_of_interest_set = {\"RNA-seq\", \"Microarray\"}\n",
    "QUERY = \"disease in @diseases_of_interest_set & library_strategy in @library_strategies_of_interest_set & organism == 'Homo sapiens'\"\n",
    "dsaids_interest = df_info.query(QUERY)[\"dsaid\"].to_list()\n",
    "logging.info(f\"Nº of DSAIDs of interest: {len(dsaids_interest)}\")\n",
    "\n",
    "# skip_rows_idxs = get_skip_rows(dsaids_interest)\n",
    "\n",
    "df = get_exp_prof(dsaids_interest)\n",
    "\n",
    "# 3. Convert to `adata` object\n",
    "# load dataframe\n",
    "# df = pd.read_csv(large_df_path, skiprows=skip_rows_idxs, index_col=0)\n",
    "logging.info(f\"Loaded dataframe with shape: {df.shape}\")\n",
    "\n",
    "# drop non significant rows\n",
    "# Calculate the number of NaNs in each row\n",
    "nan_counts = df.isna().sum(axis=1)\n",
    "\n",
    "# Filter the DataFrame to keep only rows with NaNs less than or equal to 18,000\n",
    "df = df[nan_counts <= 18000]\n",
    "logging.info(f\"Filtered dataframe with shape: {df.shape}\")\n",
    "\n",
    "# Filter out Unknown samples\n",
    "mask = [False if id.split(\";\")[2] == \"Unknown\" else True for id in df.iloc[:, 0].values]\n",
    "\n",
    "df = df[mask]\n",
    "\n",
    "logging.info(f\"Filtered out Unkowns from dataframe with shape: {df.shape}\")"
   ]
  },
  {
   "cell_type": "code",
   "execution_count": 3,
   "metadata": {},
   "outputs": [
    {
     "name": "stderr",
     "output_type": "stream",
     "text": [
      " 50%|█████     | 217/431 [01:39<02:35,  1.38it/s]"
     ]
    }
   ],
   "source": [
    "\"\"\"Pre-Process Data\n",
    "\n",
    "Convert the raw data counts into sc-RNAseq compatible data format.\n",
    "\n",
    "Structure:\n",
    "    1. Imports, Variables, Functions\n",
    "    2. Load Data\n",
    "    3. Convert to `adata` object\n",
    "    4. Save to output file\n",
    "\n",
    "\"\"\"\n",
    "\n",
    "# region 1. Imports, Variables, Functions\n",
    "# imports\n",
    "import numpy as np, os, sys, pandas as pd, scanpy as sc\n",
    "import anndata as ad\n",
    "import logging\n",
    "from tqdm import tqdm\n",
    "from typing import *\n",
    "\n",
    "logging.basicConfig(level=logging.INFO, format=\"%(asctime)s - %(message)s\")\n",
    "from matplotlib import pyplot as plt\n",
    "from datetime import datetime\n",
    "import pickle\n",
    "from typing import *\n",
    "\n",
    "# variables\n",
    "# diseases_of_interest_set = {\"Influenza\", \"Colorectal Carcinoma\", \"Asthma\"}\n",
    "# diseases_of_interest_set = None\n",
    "# diseases_of_interest_set = {\"Huntington's Disease\", \"Alzheimer's Disease\", 'Asthma', 'COVID-19',\n",
    "#        'Influenza', \"Parkinson's Disease\", 'Systemic Lupus Erythematosus',\n",
    "#        'Obesity', 'Hepatocellular Carcinoma', \"Crohn's Disease\",\n",
    "#        'Ulcerative Colitis', 'Sepsis', 'Breast Cancer', 'Psoriasis',\n",
    "#        'Schizophrenia', 'Multiple Sclerosis', 'Amyotrophic Lateral Sclerosis',\n",
    "#        'Tuberculosis', 'Chronic Obstructive Pulmonary Disease',\n",
    "#        'Rheumatoid Arthritis', 'Idiopathic Pulmonary Fibrosis',\n",
    "#        'Colorectal Carcinoma', 'Type 1 Diabetes',\n",
    "#        'Non-Alcoholic Steatohepatitis', 'Melanoma', 'Diabetes',\n",
    "#        'Myocardial Infarction', 'Acute Myeloid Leukemia (Aml-M2)', 'Colitis',\n",
    "#        'Prostate Cancer'}\n",
    "\n",
    "# diseases_of_interest_set = {'Acute-On-Chronic Liver Failure',\n",
    "#  \"Barrett's Esophagus\",\n",
    "#  \"Behcet's Disease\",\n",
    "#  'Chronic Rhinosinusitis',\n",
    "#  'Cornelia De Lange Syndrome',\n",
    "#  'Coronary Artery Disease',\n",
    "#  'Diabetes',\n",
    "#  'Diabetic Kidney Disease',\n",
    "#  'Follicular Lymphoma',\n",
    "#  'Glioblastoma Multiforme',\n",
    "#  'Hepatitis B',\n",
    "#  'Hutchinson-Gilford Progeria Syndrome',\n",
    "#  'Hypertension',\n",
    "#  'Multiple System Atrophy',\n",
    "#  'Pneumonia',\n",
    "#  'Primary Myelofibrosis',\n",
    "#  'Spinal Muscular Atrophy',\n",
    "#  'Squamous Cell Carcinoma',\n",
    "#  'Steatosis',\n",
    "#  'Type 2 Diabetes Mellitus'}\n",
    "\n",
    "# diseases_of_interest_set = {'Breast Cancer', 'Colorectal Carcinoma', 'Influenza'}\n",
    "diseases_of_interest_set = {\n",
    "    \"Crohn's Disease\",\n",
    "    \"Ulcerative Colitis\",\n",
    "    \"Lung Cancer\",\n",
    "    \"Lung Adenocarcinoma\",\n",
    "    \"Breast Cancer\",\n",
    "    \"Psoriasis\",\n",
    "}\n",
    "\n",
    "\n",
    "# example_data_path = (\n",
    "#     \"/aloy/home/ddalton/projects/disease_signatures/data/DiSignAtlas/tmp/DSA00123.csv\"\n",
    "# )\n",
    "\n",
    "df_info_path = os.path.join(\n",
    "    \"/aloy\",\n",
    "    \"home\",\n",
    "    \"ddalton\",\n",
    "    \"projects\",\n",
    "    \"disease_signatures\",\n",
    "    \"data\",\n",
    "    \"DiSignAtlas\",\n",
    "    \"Disease_information_Datasets_extended.csv\",\n",
    ")\n",
    "\n",
    "\n",
    "large_df_path = \"/aloy/home/ddalton/projects/disease_signatures/data/DiSignAtlas/DiSignAtlas.exp_prof_merged.csv\"\n",
    "\n",
    "base_output_dir = \"../data\"\n",
    "\n",
    "\n",
    "# functions\n",
    "def get_skip_rows(dsaids_interest):\n",
    "    \"\"\"Get Skip Rows\n",
    "    Args:\n",
    "        - dsaids_interest (list): List of DSAIDs of interest\n",
    "    Returns:\n",
    "        skip_rows_idxs (np.array): Array of indexes to skip\n",
    "    \"\"\"\n",
    "    # variables\n",
    "    large_df_path = \"/aloy/home/ddalton/projects/disease_signatures/data/DiSignAtlas/DiSignAtlas.exp_prof_merged.csv\"\n",
    "\n",
    "    # load entire dataframe ID column only\n",
    "    id_values = pd.read_csv(large_df_path, usecols=[\"ID\"])[\"ID\"].values\n",
    "\n",
    "    # get indexes to skip\n",
    "    skip_rows_idxs = np.argwhere(\n",
    "        ~np.isin([x.split(\";\")[0] for x in id_values], dsaids_interest)\n",
    "    ).flatten()\n",
    "\n",
    "    skip_rows_idxs = skip_rows_idxs + 1  # add 1 to skip\n",
    "\n",
    "    logging.info(f\"Skipping {len(skip_rows_idxs)} rows\")\n",
    "    return skip_rows_idxs\n",
    "\n",
    "\n",
    "def get_exp_prof(dsaids_interest):\n",
    "    \"\"\"Get Expression Profiles\"\"\"\n",
    "\n",
    "    # variables\n",
    "    file_dir = \"/aloy/home/ddalton/projects/disease_signatures/data/DiSignAtlas/tmp/\"\n",
    "    first = True\n",
    "    for dsaid in tqdm(dsaids_interest):\n",
    "        __df = pd.read_csv(os.path.join(file_dir, f\"{dsaid}.csv\"))\n",
    "        if first:\n",
    "            df_global = __df\n",
    "            first = False\n",
    "        else:\n",
    "            df_global = pd.concat([df_global, __df], axis=0)\n",
    "    return df_global\n",
    "\n",
    "\n",
    "def get_tissue(ids: List[str]) -> List[str]:\n",
    "    \"\"\"Get Tissue\n",
    "    Args:\n",
    "        - ids (list): List of IDs\n",
    "    Returns:\n",
    "        - tissues (list): List of tissues\n",
    "    \"\"\"\n",
    "    dsaids = [x.split(\";\")[0] for x in ids]\n",
    "    dsaid_2_tissue = dict(zip(df_info[\"dsaid\"], df_info[\"tissue\"]))\n",
    "    tissues = [str(dsaid_2_tissue[dsaid]) for dsaid in dsaids]\n",
    "    return tissues\n",
    "\n",
    "\n",
    "def get_disease_study(ids: List[str]) -> List[str]:\n",
    "    \"\"\"Get Disease Study\n",
    "    Args:\n",
    "        - ids (list): List of IDs\n",
    "    Returns:\n",
    "        - diseases (list): List of diseases\n",
    "    \"\"\"\n",
    "    dsaids = [x.split(\";\")[0] for x in ids]\n",
    "    dsaid_2_disease = dict(zip(df_info[\"dsaid\"], df_info[\"disease\"]))\n",
    "    disease_study = [str(dsaid_2_disease[dsaid]) for dsaid in dsaids]\n",
    "    return disease_study\n",
    "\n",
    "\n",
    "def get_disease(ids: List[str]) -> List[str]:\n",
    "    \"\"\"Get Disease\n",
    "    Args:\n",
    "        - ids (list): List of IDs\n",
    "    Returns:\n",
    "        - diseases (list): List of diseases\n",
    "    \"\"\"\n",
    "    dsaid_2_disease = dict(zip(df_info[\"dsaid\"], df_info[\"disease\"]))\n",
    "    diseases = list()\n",
    "    for id in ids:\n",
    "        dsaid = id.split(\";\")[0]\n",
    "        state = id.split(\";\")[2]\n",
    "        if state == \"Control\":\n",
    "            diseases.append(\"Control\")\n",
    "        else:\n",
    "            diseases.append(dsaid_2_disease.get(dsaid))\n",
    "    return diseases\n",
    "\n",
    "\n",
    "def get_dataset(ids: List[str]) -> List[str]:\n",
    "    \"\"\"Get Dataset\n",
    "    Args:\n",
    "        - ids (list): List of IDs\n",
    "    Returns:\n",
    "        - datasets (list): List of datasets\n",
    "    \"\"\"\n",
    "    dsaids = [x.split(\";\")[0] for x in ids]\n",
    "    dsaid_2_dataset = dict(zip(df_info[\"dsaid\"], df_info[\"accession\"]))\n",
    "    datasets = [str(dsaid_2_dataset[dsaid]) for dsaid in dsaids]\n",
    "    return datasets\n",
    "\n",
    "\n",
    "def get_folder_name(base_output_dir: str) -> str:\n",
    "    \"\"\"Get Folder Name\n",
    "    Args:\n",
    "        - output_path (str): Output folder\n",
    "    Returns:\n",
    "        - output_dir (str): Output directory\n",
    "    \"\"\"\n",
    "    # Step 1: Generate today's date string\n",
    "    today = datetime.now().strftime(\"%y-%m-%d\")\n",
    "\n",
    "    # Step 2: Find the highest existing run number for today\n",
    "    existing_runs = [\n",
    "        d\n",
    "        for d in os.listdir(base_output_dir)\n",
    "        if os.path.isdir(os.path.join(base_output_dir, d))\n",
    "        and d.startswith(f\"pp_data-{today}\")\n",
    "    ]\n",
    "\n",
    "    # Extract numbers from existing runs and find the max\n",
    "    existing_numbers = [\n",
    "        int(d.split(\"-\")[-1]) for d in existing_runs if d.split(\"-\")[-1].isdigit()\n",
    "    ]\n",
    "\n",
    "    # Calculate the next run number\n",
    "    next_run_number = max(existing_numbers, default=0) + 1\n",
    "\n",
    "    # Step 3: Create the directory name with zero-padded run number\n",
    "    output_dir = os.path.join(base_output_dir, f\"pp_data-{today}-{next_run_number:02d}\")\n",
    "\n",
    "    # Step 4: Create the directory\n",
    "    os.makedirs(output_dir, exist_ok=True)\n",
    "\n",
    "    print(f\"Output directory created: {output_dir}\")\n",
    "    return output_dir\n",
    "\n",
    "\n",
    "def get_dataset_to_batch(\n",
    "    ids: List[str], df_info: pd.DataFrame\n",
    ") -> Tuple[List[str], List[int]]:\n",
    "    \"\"\"Get Dataset to Batch\n",
    "    Args:\n",
    "        - ids (list): List of IDs\n",
    "        - df_info (pd.DataFrame): DataFrame with information\n",
    "    Returns:\n",
    "        - dataset_accessions (list): List of dataset accessions\n",
    "        - dataset_ids (list): List of dataset IDs\n",
    "    \"\"\"\n",
    "    dsaid_2_accession = dict(zip(df_info[\"dsaid\"], df_info[\"accession\"]))\n",
    "\n",
    "    dataset_accessions = [dsaid_2_accession[id.split(\";\")[0]] for id in ids]\n",
    "\n",
    "    accession_2_id = {k: v for v, k in enumerate(set(dataset_accessions))}\n",
    "    dataset_ids = [accession_2_id[accession] for accession in dataset_accessions]\n",
    "\n",
    "    return dataset_accessions, dataset_ids\n",
    "\n",
    "\n",
    "# endregion\n",
    "\n",
    "# region 2. Load Data\n",
    "# df = pd.read_csv(example_data_path)\n",
    "df_info = pd.read_csv(df_info_path)\n",
    "\n",
    "\n",
    "# Query data to retrieve dsaids of interest\n",
    "library_strategies_of_interest_set = {\"RNA-Seq\", \"Microarray\"}\n",
    "\n",
    "if diseases_of_interest_set:\n",
    "    QUERY = \"disease in @diseases_of_interest_set & library_strategy in @library_strategies_of_interest_set & organism == 'Homo sapiens'\"\n",
    "    dsaids_interest = df_info.query(QUERY)[\"dsaid\"].to_list()\n",
    "    # df = get_exp_prof(dsaids_interest)\n",
    "    df_2 = get_exp_prof(dsaids_interest)\n",
    "\n",
    "\n",
    "# load dataframe\n",
    "logging.info(f\"Loaded dataframe with shape: {df.shape}\")\n",
    "\n",
    "# Calculate the number of NaNs in each row\n",
    "nan_counts = df_2.isna().sum(axis=1)\n",
    "\n",
    "# # Filter the DataFrame to keep only rows with NaNs less than or equal to 18,000\n",
    "# df = df[nan_counts <= 18000]\n",
    "# logging.info(f\"Filtered dataframe with shape: {df.shape}\")\n",
    "\n",
    "\n",
    "# Filter out Unknown samples\n",
    "mask = [False if id.split(\";\")[2] == \"Unknown\" else True for id in df.iloc[:, 0].values]\n",
    "df = df_2[mask]\n",
    "logging.info(f\"Filtered out Unkowns from dataframe with shape: {df.shape}\")"
   ]
  },
  {
   "cell_type": "code",
   "execution_count": null,
   "metadata": {},
   "outputs": [],
   "source": [
    "len(dsaids_interest)"
   ]
  },
  {
   "cell_type": "code",
   "execution_count": 4,
   "metadata": {},
   "outputs": [],
   "source": [
    "import anndata as ad\n",
    "import numpy as np\n",
    "import logging\n",
    "\n",
    "logging.basicConfig(level=logging.INFO, format=\"%(asctime)s - %(message)s\")"
   ]
  },
  {
   "cell_type": "code",
   "execution_count": 34,
   "metadata": {},
   "outputs": [
    {
     "name": "stderr",
     "output_type": "stream",
     "text": [
      "/home/ddalton/miniconda3/envs/scgpt/lib/python3.10/site-packages/anndata/__init__.py:55: FutureWarning: `anndata.read` is deprecated, use `anndata.read_h5ad` instead. `ad.read` will be removed in mid 2024.\n",
      "  warnings.warn(\n"
     ]
    }
   ],
   "source": [
    "adata = ad.read(\"/aloy/home/ddalton/projects/scGPT/data/test_1/test_2.h5ad\")"
   ]
  },
  {
   "cell_type": "code",
   "execution_count": 85,
   "metadata": {},
   "outputs": [
    {
     "name": "stderr",
     "output_type": "stream",
     "text": [
      "2024-09-15 16:48:18,381 - Presence thr 10053.85, 7192 genes left\n",
      "2024-09-15 16:48:20,499 - Variance thr 5472438.08, 10619 genes left\n",
      "2024-09-15 16:48:20,500 - Combined mask 3663 genes left\n"
     ]
    }
   ],
   "source": [
    "celltype_id_labels = adata.obs[\"celltype\"].astype(\"category\").cat.codes.values\n",
    "celltypes = adata.obs[\"celltype\"].unique()\n",
    "num_types = len(np.unique(celltype_id_labels))\n",
    "id2type = dict(enumerate(adata.obs[\"celltype\"].astype(\"category\").cat.categories))\n",
    "adata.obs[\"celltype_id\"] = celltype_id_labels\n",
    "\n",
    "np.sum(np.sum(np.isnan(adata.X), axis=0) > adata.X.shape[0] * 0.3)\n",
    "\n",
    "\n",
    "presence = 0.95  # gene presence in samples\n",
    "variance = 45  # gene variance in top %\n",
    "\n",
    "# filter out the genes with lowest presence\n",
    "thr_presence = adata.X.shape[0] * presence\n",
    "\n",
    "mask_presence = np.sum(~np.isnan(adata.X), axis=0) > thr_presence\n",
    "\n",
    "logging.info(f\"Presence thr {thr_presence}, {np.sum(mask_presence)} genes left\")\n",
    "\n",
    "\n",
    "# filter out the genes with lowest standard deviation\n",
    "gene_std = np.nanstd(adata.X, axis=0)\n",
    "gene_std = gene_std[~np.isnan(gene_std)]\n",
    "thr_std = np.percentile(gene_std, variance)\n",
    "\n",
    "mask_variance = np.nanstd(adata.X, axis=0) > thr_std\n",
    "\n",
    "\n",
    "logging.info(f\"Variance thr {thr_std:.2f}, {np.sum(mask_variance)} genes left\")\n",
    "\n",
    "# combine mask\n",
    "mask = mask_presence & mask_variance\n",
    "\n",
    "\n",
    "logging.info(f\"Combined mask {np.sum(mask)} genes left\")\n",
    "\n",
    "\n",
    "# adata_orig = adata.copy()\n",
    "# adata = adata[:, mask]"
   ]
  },
  {
   "cell_type": "code",
   "execution_count": 89,
   "metadata": {},
   "outputs": [
    {
     "data": {
      "text/plain": [
       "10583"
      ]
     },
     "execution_count": 89,
     "metadata": {},
     "output_type": "execute_result"
    }
   ],
   "source": [
    "adata.X.shape[0]"
   ]
  },
  {
   "cell_type": "code",
   "execution_count": 88,
   "metadata": {},
   "outputs": [
    {
     "data": {
      "text/plain": [
       "array([ 8452, 10377, 10290, ...,     0,  2491,   524])"
      ]
     },
     "execution_count": 88,
     "metadata": {},
     "output_type": "execute_result"
    }
   ],
   "source": [
    "np.sum(~np.isnan(adata.X), axis=0)"
   ]
  },
  {
   "cell_type": "code",
   "execution_count": 87,
   "metadata": {},
   "outputs": [
    {
     "data": {
      "text/plain": [
       "10053.85"
      ]
     },
     "execution_count": 87,
     "metadata": {},
     "output_type": "execute_result"
    }
   ],
   "source": [
    "thr_presence"
   ]
  },
  {
   "cell_type": "code",
   "execution_count": 21,
   "metadata": {},
   "outputs": [
    {
     "name": "stdout",
     "output_type": "stream",
     "text": [
      "[ True False  True ... False  True False]\n"
     ]
    }
   ],
   "source": [
    "print(mask)"
   ]
  },
  {
   "cell_type": "code",
   "execution_count": 19,
   "metadata": {},
   "outputs": [
    {
     "name": "stdout",
     "output_type": "stream",
     "text": [
      "[ True  True  True ... False False  True]\n"
     ]
    }
   ],
   "source": [
    "print(mask)"
   ]
  },
  {
   "cell_type": "code",
   "execution_count": 6,
   "metadata": {},
   "outputs": [],
   "source": [
    "def mask_genes(adata: ad, presence: float = 0.95, variance: int = 45) -> np.array:\n",
    "\n",
    "    # filter out the genes with lowest presence\n",
    "    thr_presence = adata.X.shape[0] * presence\n",
    "    mask_presence = np.sum(~np.isnan(adata.X), axis=0) > thr_presence\n",
    "\n",
    "    logging.info(f\"Presence thr {thr_presence}, {np.sum(mask_presence)} genes left\")\n",
    "\n",
    "    # filter out the genes with lowest standard deviation\n",
    "    gene_std = np.nanstd(adata.X, axis=0)\n",
    "    gene_std = gene_std[~np.isnan(gene_std)]\n",
    "    thr_std = np.percentile(gene_std, variance)\n",
    "\n",
    "    mask_variance = np.nanstd(adata.X, axis=0) > thr_std\n",
    "\n",
    "    logging.info(f\"Variance thr {thr_std:.2f}, {np.sum(mask_variance)} genes left\")\n",
    "\n",
    "    # combine mask\n",
    "    mask = mask_presence & mask_variance\n",
    "\n",
    "    logging.info(f\"Combined mask {np.sum(mask)} genes left\")\n",
    "\n",
    "    return mask"
   ]
  },
  {
   "cell_type": "code",
   "execution_count": 57,
   "metadata": {},
   "outputs": [
    {
     "name": "stderr",
     "output_type": "stream",
     "text": [
      "2024-09-15 16:04:58,927 - Presence thr 8464 42.99%, 13781 genes left\n",
      "2024-09-15 16:04:59,944 - Variance thr 11808343, 4520 genes left\n",
      "2024-09-15 16:04:59,945 - Combined mask 3001 genes left\n"
     ]
    }
   ],
   "source": []
  },
  {
   "cell_type": "code",
   "execution_count": 53,
   "metadata": {},
   "outputs": [
    {
     "data": {
      "text/plain": [
       "array([[          nan, 1.9311800e+04, 3.9650000e+02, ...,           nan,\n",
       "                  nan,           nan],\n",
       "       [          nan, 1.9481200e+04, 3.2200000e+02, ...,           nan,\n",
       "                  nan,           nan],\n",
       "       [          nan, 2.2331600e+04, 4.0630000e+02, ...,           nan,\n",
       "                  nan,           nan],\n",
       "       ...,\n",
       "       [          nan, 1.0951651e+01, 8.0090670e+00, ...,           nan,\n",
       "                  nan,           nan],\n",
       "       [          nan, 1.1814744e+01, 6.7910690e+00, ...,           nan,\n",
       "                  nan,           nan],\n",
       "       [          nan, 9.6267640e+00, 7.6575410e+00, ...,           nan,\n",
       "                  nan,           nan]])"
      ]
     },
     "execution_count": 53,
     "metadata": {},
     "output_type": "execute_result"
    }
   ],
   "source": [
    "adata.X[]"
   ]
  },
  {
   "cell_type": "code",
   "execution_count": 52,
   "metadata": {},
   "outputs": [
    {
     "data": {
      "text/plain": [
       "array([3.40702855e+06, 1.72496191e+07, 3.62347230e+06, ...,\n",
       "                  nan, 1.50079619e+07, 4.30917177e+00])"
      ]
     },
     "execution_count": 52,
     "metadata": {},
     "output_type": "execute_result"
    }
   ],
   "source": [
    "count_variance[]"
   ]
  },
  {
   "cell_type": "code",
   "execution_count": null,
   "metadata": {},
   "outputs": [],
   "source": [
    "# get top k variance genes\n",
    "count_variance = count_variance[~np.isnan(count_variance)]"
   ]
  },
  {
   "cell_type": "code",
   "execution_count": null,
   "metadata": {},
   "outputs": [],
   "source": [
    "count_variance = np.sort(count_variance)[::-1]"
   ]
  },
  {
   "cell_type": "code",
   "execution_count": 37,
   "metadata": {},
   "outputs": [
    {
     "data": {
      "text/plain": [
       "array([ 8452, 10377, 10290, ...,     0,  2491,   524])"
      ]
     },
     "execution_count": 37,
     "metadata": {},
     "output_type": "execute_result"
    }
   ],
   "source": [
    "count_presence"
   ]
  },
  {
   "cell_type": "code",
   "execution_count": 90,
   "metadata": {},
   "outputs": [],
   "source": [
    "def get_mask_genes(\n",
    "    adata: ad,\n",
    "    max_n_genes: int = 3501,\n",
    "    gene_presence_pct: float = 0.95,\n",
    ") -> np.array:\n",
    "    \"\"\"\n",
    "    Filters genes based on presence and variance, returning a mask of selected genes.\n",
    "\n",
    "    Parameters:\n",
    "    - adata: AnnData object containing gene expression data\n",
    "    - max_n_genes: The maximum number of genes to retain based on variance\n",
    "    - gene_presence_pctl: Percentile of gene presence for the filtering threshold\n",
    "\n",
    "    Returns:\n",
    "    - A boolean array (mask) indicating which genes to keep.\n",
    "    \"\"\"\n",
    "    total_n_genes = adata.X.shape[1]\n",
    "    total_n_samples = adata.X.shape[0]\n",
    "\n",
    "    # Step 1: Filter out based on presence\n",
    "    count_presence = np.sum(~np.isnan(adata.X), axis=0)\n",
    "    thr_presence = gene_presence_pct * total_n_samples\n",
    "    mask_presence = count_presence > thr_presence\n",
    "    logging.info(\n",
    "        f\"Presence threshold: {thr_presence:.0f} ({thr_presence/total_n_genes*100:.2f}%), {np.sum(mask_presence)} genes left\"\n",
    "    )\n",
    "\n",
    "    # Step 2: Filter out based on variance\n",
    "    count_variance = np.nanstd(adata.X, axis=0)  # Standard deviation (variance)\n",
    "\n",
    "    # Step 3: Apply the presence mask and filter out NaN genes\n",
    "    count_variance_masked = count_variance[mask_presence]\n",
    "    count_variance_masked = count_variance_masked[~np.isnan(count_variance_masked)]\n",
    "\n",
    "    # Step 4: Get the variance threshold, ensuring we don’t exceed available genes\n",
    "    n_variance_masked_genes = len(count_variance_masked)\n",
    "    thr_variance = np.sort(count_variance_masked)[::-1][\n",
    "        min(max_n_genes, n_variance_masked_genes) - 1  # Adjust for 0-based indexing\n",
    "    ]\n",
    "\n",
    "    # Step 5: Create the variance mask\n",
    "    mask_variance = count_variance >= thr_variance\n",
    "    logging.info(\n",
    "        f\"Variance threshold: {thr_variance:.0f}, {np.sum(mask_variance)} genes left\"\n",
    "    )\n",
    "\n",
    "    # Step 6: Combine presence and variance masks\n",
    "    combined_mask = mask_presence & mask_variance\n",
    "    logging.info(f\"Combined mask: {np.sum(combined_mask)} genes left\")\n",
    "\n",
    "    return combined_mask"
   ]
  },
  {
   "cell_type": "code",
   "execution_count": 83,
   "metadata": {},
   "outputs": [],
   "source": [
    "def get_mask_samples(adata: ad, gene_presence_pct: float = 0.90) -> np.array:\n",
    "    \"\"\"Get Mask Samples\n",
    "    Args:\n",
    "        - adata (ad.AnnData): AnnData object\n",
    "    Returns:\n",
    "        - np.array: Mask\n",
    "    \"\"\"\n",
    "\n",
    "    total_n_genes = adata.X.shape[1]\n",
    "    total_n_samples = adata.X.shape[0]\n",
    "\n",
    "    # Step 1: Filter out based on presence\n",
    "    count_presence = np.sum(~np.isnan(adata.X), axis=1)\n",
    "    # thr_presence = np.percentile(count_presence, gene_presence_pctl)\n",
    "    thr_presence = total_n_genes * gene_presence_pct\n",
    "    mask_presence = count_presence > thr_presence\n",
    "    logging.info(\n",
    "        f\"Presence threshold: {thr_presence:.0f} ({thr_presence/total_n_genes*100:.2f}%), {np.sum(mask_presence)} / {total_n_samples} Samples left\"\n",
    "    )\n",
    "\n",
    "    return mask_presence"
   ]
  },
  {
   "cell_type": "code",
   "execution_count": 93,
   "metadata": {},
   "outputs": [
    {
     "name": "stderr",
     "output_type": "stream",
     "text": [
      "2024-09-15 16:58:58,503 - Presence threshold: 10054 (51.06%), 7192 genes left\n",
      "2024-09-15 16:58:59,539 - Variance threshold: 5744528, 10237 genes left\n",
      "2024-09-15 16:58:59,540 - Combined mask: 3501 genes left\n"
     ]
    }
   ],
   "source": [
    "mask_genes = get_mask_genes(adata, max_n_genes=3501, gene_presence_pct=0.95)\n",
    "# mask_samples = get_mask_samples(adata[:, mask], gene_presence_pct=0.60)"
   ]
  },
  {
   "cell_type": "code",
   "execution_count": 77,
   "metadata": {},
   "outputs": [],
   "source": [
    "adata_m = adata[:, mask_genes][mask_samples]"
   ]
  },
  {
   "cell_type": "code",
   "execution_count": 78,
   "metadata": {},
   "outputs": [
    {
     "data": {
      "text/plain": [
       "(8256, 100)"
      ]
     },
     "execution_count": 78,
     "metadata": {},
     "output_type": "execute_result"
    }
   ],
   "source": [
    "adata_m.shape"
   ]
  },
  {
   "cell_type": "code",
   "execution_count": 31,
   "metadata": {},
   "outputs": [
    {
     "name": "stderr",
     "output_type": "stream",
     "text": [
      "2024-09-15 15:26:59,860 - Presence thr 10053.85, 1108 genes left\n",
      "2024-09-15 15:26:59,935 - Variance thr 15871246.534087, 609 genes left\n",
      "2024-09-15 15:26:59,935 - Combined mask 609 genes left\n"
     ]
    }
   ],
   "source": [
    "# filter out the genes with lowest presence\n",
    "thr_presence = adata.X.shape[0] * presence\n",
    "mask_presence = np.sum(~np.isnan(adata.X), axis=0) > thr_presence\n",
    "\n",
    "logging.info(f\"Presence thr {thr_presence}, {np.sum(mask_presence)} genes left\")\n",
    "\n",
    "# filter out the genes with lowest standard deviation\n",
    "gene_std = np.nanstd(adata.X, axis=0)\n",
    "\n",
    "# Ensure stability by ignoring NaN when calculating threshold\n",
    "valid_gene_std = gene_std[~np.isnan(gene_std)]\n",
    "\n",
    "thr_std = np.percentile(valid_gene_std, variance)\n",
    "thr_std = round(thr_std, 6)  # Round to avoid precision issues\n",
    "\n",
    "mask_variance = gene_std > thr_std\n",
    "\n",
    "logging.info(f\"Variance thr {thr_std:.6f}, {np.sum(mask_variance)} genes left\")\n",
    "\n",
    "# combine mask\n",
    "mask = mask_presence & mask_variance\n",
    "\n",
    "logging.info(f\"Combined mask {np.sum(mask)} genes left\")"
   ]
  },
  {
   "cell_type": "code",
   "execution_count": 30,
   "metadata": {},
   "outputs": [
    {
     "data": {
      "text/plain": [
       "array([17249619.06058184, 17996507.41830535, 12245202.83173485, ...,\n",
       "       50143374.77605147, 13571369.17558099, 26243258.33474221])"
      ]
     },
     "execution_count": 30,
     "metadata": {},
     "output_type": "execute_result"
    }
   ],
   "source": [
    "gene_std"
   ]
  },
  {
   "cell_type": "code",
   "execution_count": 27,
   "metadata": {},
   "outputs": [
    {
     "name": "stderr",
     "output_type": "stream",
     "text": [
      "2024-09-15 15:25:26,367 - Presence thr 10053.85, 1108 genes left\n",
      "2024-09-15 15:25:26,437 - Variance thr 15871246.534087, 609 genes left\n",
      "2024-09-15 15:25:26,438 - Combined mask 609 genes left\n"
     ]
    }
   ],
   "source": [
    "mask_2 = mask_genes(adata)"
   ]
  },
  {
   "cell_type": "code",
   "execution_count": 97,
   "metadata": {},
   "outputs": [],
   "source": [
    "import pandas as pd\n",
    "from typing import *\n",
    "\n",
    "\n",
    "def get_test_split(obs: pd.DataFrame, n_splits=5) -> List[str]:\n",
    "    \"\"\"Get Test Split\n",
    "    We will perform a split for those diseases which have more than one dataset.\n",
    "\n",
    "    Ther MUST not be any data-leakage between the train and test set - no shared datasets between the two sets.\n",
    "\n",
    "    Strategy:\n",
    "        1. Check diseases w/ 5+ datasets\n",
    "        2. Divide dataset into train and test w/ 4:1 ratio\n",
    "        3. Assign train and test to the respective datasets\n",
    "\n",
    "    \"\"\"\n",
    "\n",
    "    obs_copy = obs.copy(deep=True)\n",
    "\n",
    "    # pre-process data\n",
    "    obs_copy[\"combination\"] = (\n",
    "        obs_copy[\"celltype\"].astype(str) + \"_\" + obs_copy[\"dataset_id\"].astype(str)\n",
    "    )\n",
    "\n",
    "    logging.info(f\"Columns in obs_copy {obs_copy.columns}\")\n",
    "\n",
    "    assert \"combination\" in obs_copy.columns, \"combination column not created in obs\"\n",
    "\n",
    "    diseases_f1 = set()  # diseases filter 1\n",
    "\n",
    "    # 1. Check diseases w/ 5+ datasets\n",
    "    all_diseases = obs_copy[\"celltype\"].unique()\n",
    "    for diseases in all_diseases:\n",
    "        QUERY = f'celltype == \"{diseases}\"'\n",
    "        _df_query = obs_copy.query(QUERY)\n",
    "        if len(_df_query[\"dataset_id\"].unique()) >= 5:\n",
    "            diseases_f1.add(diseases)\n",
    "\n",
    "    logging.info(f\"Number of diseases with 5+ datasets: {len(diseases_f1)}\")\n",
    "\n",
    "    # 2. Divide dataset into train and test w/ 4:1 ratio\n",
    "    QUERY = \"celltype in @diseases_f1\"\n",
    "    df_diseases_f1 = obs_copy.query(QUERY)\n",
    "\n",
    "    sgkf = StratifiedGroupKFold(n_splits=n_splits)\n",
    "    for i, (train_idx, test_idx) in enumerate(\n",
    "        sgkf.split(\n",
    "            X=df_diseases_f1[\"ids\"],\n",
    "            y=df_diseases_f1[\"celltype\"],\n",
    "            groups=df_diseases_f1[\"dataset_id\"],\n",
    "        )\n",
    "    ):\n",
    "\n",
    "        # get which disease & datasets are in the test\n",
    "        df_diseases_f1_test = df_diseases_f1.iloc[test_idx]\n",
    "\n",
    "        assert \"combination\" in obs_copy.columns, \"combination column not found in obs\"\n",
    "        assert (\n",
    "            \"combination\" in df_diseases_f1_test.columns\n",
    "        ), \"combination column not found in df_diseases_f1_test\"\n",
    "\n",
    "        logging.info(\n",
    "            f\"Nº of diseases in test split {i+1}: {len(df_diseases_f1_test['celltype'].unique())}\"\n",
    "        )\n",
    "        logging.info(\n",
    "            f\"Nº of datasets in test split {i+1}: {len(df_diseases_f1_test['dataset_id'].unique())}\"\n",
    "        )\n",
    "\n",
    "        # 3. Assign train and test labels\n",
    "        obs_copy[f\"test_split_{i+1}\"] = (\n",
    "            obs_copy[\"combination\"].isin(df_diseases_f1_test[\"combination\"]).astype(int)\n",
    "        )\n",
    "\n",
    "        logging.info(\n",
    "            f\"Nº of samples in test split {i+1}: {obs_copy[f'test_split_{i+1}'].sum()}\"\n",
    "        )\n",
    "\n",
    "    obs_copy.drop(columns=[\"combination\"], inplace=True)\n",
    "\n",
    "    return obs_copy"
   ]
  },
  {
   "cell_type": "code",
   "execution_count": 76,
   "metadata": {},
   "outputs": [
    {
     "name": "stderr",
     "output_type": "stream",
     "text": [
      "/home/ddalton/miniconda3/envs/scgpt/lib/python3.10/site-packages/anndata/__init__.py:55: FutureWarning: `anndata.read` is deprecated, use `anndata.read_h5ad` instead. `ad.read` will be removed in mid 2024.\n",
      "  warnings.warn(\n",
      "/home/ddalton/miniconda3/envs/scgpt/lib/python3.10/site-packages/anndata/__init__.py:55: FutureWarning: `anndata.read` is deprecated, use `anndata.read_h5ad` instead. `ad.read` will be removed in mid 2024.\n",
      "  warnings.warn(\n"
     ]
    }
   ],
   "source": [
    "import anndata as ad\n",
    "import numpy as np, pandas as pd, os, sys, logging\n",
    "from datetime import datetime\n",
    "import random\n",
    "from sklearn.model_selection import train_test_split\n",
    "\n",
    "\n",
    "logging.basicConfig(\n",
    "    level=logging.INFO, format=\"%(asctime)s - %(name)s - %(levelname)s - %(message)s\"\n",
    ")\n",
    "\n",
    "\n",
    "adata_bm = ad.read(\n",
    "    \"/aloy/home/ddalton/projects/scGPT_playground/data/test_1/test_1.h5ad\"\n",
    ")\n",
    "\n",
    "\n",
    "adata_nw = ad.read(\"../data/pp_data-24-09-23-01/data.h5ad\")"
   ]
  },
  {
   "cell_type": "code",
   "execution_count": 77,
   "metadata": {},
   "outputs": [
    {
     "name": "stderr",
     "output_type": "stream",
     "text": [
      "/tmp/ipykernel_12613/943333554.py:14: FutureWarning: The default of observed=False is deprecated and will be changed to True in a future version of pandas. Pass observed=False to retain current behavior or observed=True to adopt the future default and silence this warning.\n",
      "  grouped = expr_data.groupby(disease_labels)\n"
     ]
    },
    {
     "name": "stdout",
     "output_type": "stream",
     "text": [
      "   intra_disease_var  inter_disease_var\n",
      "0       1.669023e+13       5.634277e+10\n",
      "1       4.574723e+14       4.674190e+12\n",
      "2       1.995206e+13       1.762840e+11\n",
      "3       2.088544e+14       9.094017e+11\n",
      "4       1.690967e+14       3.579367e+11\n"
     ]
    }
   ],
   "source": [
    "import numpy as np\n",
    "import pandas as pd\n",
    "\n",
    "# Assume 'adata_nw' is your AnnData object, and it contains your expression data in 'adata_nw.X'\n",
    "# and disease labels in 'adata_nw.obs['disease']'\n",
    "\n",
    "# Step 1: Convert your gene expression matrix and disease labels to a pandas DataFrame\n",
    "# adata_nw.X contains the expression values (cells/samples as rows, genes as columns)\n",
    "# adata_nw.obs['disease'] contains the disease labels\n",
    "expr_data = pd.DataFrame(\n",
    "    adata_nw.X, index=adata_nw.obs_names, columns=adata_nw.var_names\n",
    ")\n",
    "disease_labels = adata_nw.obs[\"disease\"]\n",
    "\n",
    "# Step 2: Group data by disease\n",
    "grouped = expr_data.groupby(disease_labels)\n",
    "\n",
    "# Step 3: Compute Intra-Disease Variance (variance within each disease group)\n",
    "# For each disease group, compute the variance for each gene\n",
    "intra_disease_var = grouped.var()\n",
    "\n",
    "# Step 4: Compute Inter-Disease Variance (variance between diseases)\n",
    "# First, compute the mean expression for each gene across diseases\n",
    "mean_expr_per_disease = grouped.mean()\n",
    "\n",
    "# Compute the overall mean across all disease groups for each gene\n",
    "overall_mean_expr = expr_data.mean()\n",
    "\n",
    "# Now compute the variance between disease group means (inter-disease variance)\n",
    "# This calculates the variance of the means for each gene across disease groups\n",
    "inter_disease_var = mean_expr_per_disease.var()\n",
    "\n",
    "# Combine intra- and inter-disease variance into a DataFrame for easy inspection\n",
    "variance_df = pd.DataFrame(\n",
    "    {\n",
    "        \"intra_disease_var\": intra_disease_var.mean(axis=0),\n",
    "        \"inter_disease_var\": inter_disease_var,\n",
    "    }\n",
    ")\n",
    "\n",
    "# Inspect the variance dataframe\n",
    "print(variance_df.head())\n",
    "\n",
    "# You can now use this dataframe for further analysis or filtering based on variance"
   ]
  },
  {
   "cell_type": "code",
   "execution_count": 90,
   "metadata": {},
   "outputs": [
    {
     "name": "stdout",
     "output_type": "stream",
     "text": [
      "   intra_disease_var  disease_vs_control_var  inter_disease_var\n",
      "0       1.861930e+13            1.662060e+13       2.622429e+13\n",
      "1       5.829830e+14            4.593116e+14       8.113737e+14\n",
      "2       1.999604e+13            1.994453e+13       2.781064e+13\n",
      "3       1.249607e+14            2.181274e+14       1.685443e+14\n",
      "4       7.416028e+13            1.693124e+14       1.031357e+14\n"
     ]
    }
   ],
   "source": [
    "import pandas as pd\n",
    "import numpy as np\n",
    "\n",
    "# Assume 'adata_nw' is your AnnData object, and it contains your expression data in 'adata_nw.X'\n",
    "# and disease labels and study labels in 'adata_nw.obs'\n",
    "\n",
    "# Step 1: Convert your gene expression matrix and disease labels to a pandas DataFrame\n",
    "expr_data = pd.DataFrame(\n",
    "    adata_nw.X, index=adata_nw.obs_names, columns=adata_nw.var_names\n",
    ")\n",
    "disease_labels = adata_nw.obs[\"disease\"]\n",
    "study_labels = adata_nw.obs[\"disease_study\"]\n",
    "\n",
    "\n",
    "# Function to separate controls from the disease group based on your logic\n",
    "def is_control(sample, disease_label):\n",
    "    # Sample is a row from adata_nw.obs\n",
    "    return (sample[\"disease_study\"] == disease_label) & (sample[\"disease\"] == \"Control\")\n",
    "\n",
    "\n",
    "def is_same_disease(sample, disease_label):\n",
    "    return (sample[\"disease_study\"] == disease_label) & (\n",
    "        sample[\"disease\"] == disease_label\n",
    "    )\n",
    "\n",
    "\n",
    "# Step 2: Create empty dataframes to store variance\n",
    "variance_within_disease = pd.DataFrame(index=expr_data.columns)  # Genes as index\n",
    "variance_disease_vs_control = pd.DataFrame(index=expr_data.columns)\n",
    "variance_between_diseases = pd.DataFrame(index=expr_data.columns)\n",
    "\n",
    "# Step 3: Iterate through each disease label\n",
    "for disease_label in adata_nw.obs[\"disease\"].unique():\n",
    "    if disease_label == \"Control\":\n",
    "        continue  # Skip control group itself\n",
    "\n",
    "    # Filter for disease group samples (excluding controls) and control samples\n",
    "    disease_samples = adata_nw.obs.apply(\n",
    "        lambda x: is_same_disease(x, disease_label), axis=1\n",
    "    )\n",
    "    control_samples = adata_nw.obs.apply(lambda x: is_control(x, disease_label), axis=1)\n",
    "\n",
    "    # Subset the expression data for disease and control groups\n",
    "    disease_expr = expr_data[disease_samples]\n",
    "    control_expr = expr_data[control_samples]\n",
    "\n",
    "    # Step 4: Intra-disease variance (excluding controls)\n",
    "    if not disease_expr.empty:\n",
    "        intra_var = disease_expr.var(axis=0)\n",
    "        variance_within_disease[disease_label] = intra_var\n",
    "\n",
    "    # Step 5: Disease vs control variance\n",
    "    if not control_expr.empty:\n",
    "        combined_expr = pd.concat([disease_expr, control_expr])\n",
    "        disease_vs_control_var = combined_expr.var(axis=0)\n",
    "        variance_disease_vs_control[disease_label] = disease_vs_control_var\n",
    "\n",
    "# Step 6: Compute variance between diseases (excluding controls)\n",
    "for disease1 in adata_nw.obs[\"disease\"].unique():\n",
    "    if disease1 == \"Control\":\n",
    "        continue\n",
    "\n",
    "    for disease2 in adata_nw.obs[\"disease\"].unique():\n",
    "        if disease2 == \"Control\" or disease1 == disease2:\n",
    "            continue\n",
    "\n",
    "        # Filter disease samples for each disease\n",
    "        disease1_samples = adata_nw.obs.apply(\n",
    "            lambda x: is_same_disease(x, disease1), axis=1\n",
    "        )\n",
    "        disease2_samples = adata_nw.obs.apply(\n",
    "            lambda x: is_same_disease(x, disease2), axis=1\n",
    "        )\n",
    "\n",
    "        disease1_expr = expr_data[disease1_samples]\n",
    "        disease2_expr = expr_data[disease2_samples]\n",
    "\n",
    "        if not disease1_expr.empty and not disease2_expr.empty:\n",
    "            combined_expr = pd.concat([disease1_expr, disease2_expr])\n",
    "            inter_disease_var = combined_expr.var(axis=0)\n",
    "            variance_between_diseases[f\"{disease1}_vs_{disease2}\"] = inter_disease_var\n",
    "\n",
    "# Step 7: Combine the results into a single DataFrame for analysis\n",
    "variance_results = pd.concat(\n",
    "    [\n",
    "        variance_within_disease.mean(axis=1).rename(\"intra_disease_var\"),\n",
    "        variance_disease_vs_control.mean(axis=1).rename(\"disease_vs_control_var\"),\n",
    "        variance_between_diseases.mean(axis=1).rename(\"inter_disease_var\"),\n",
    "    ],\n",
    "    axis=1,\n",
    ")\n",
    "\n",
    "# Display the final variance results\n",
    "print(variance_results.head())"
   ]
  },
  {
   "cell_type": "code",
   "execution_count": 98,
   "metadata": {},
   "outputs": [
    {
     "data": {
      "text/plain": [
       "Text(0.5, 1.0, 'Intra Disease Variance vs Inter Disease Variance\\nPearson Correlation: 0.95')"
      ]
     },
     "execution_count": 98,
     "metadata": {},
     "output_type": "execute_result"
    },
    {
     "data": {
      "image/png": "[encoded data removed]",
      "text/plain": [
       "<Figure size 640x480 with 1 Axes>"
      ]
     },
     "metadata": {},
     "output_type": "display_data"
    }
   ],
   "source": [
    "import numpy as np\n",
    "import matplotlib.pyplot as plt\n",
    "from scipy.stats import gaussian_kde\n",
    "\n",
    "# Plot Gene Vairance vs Gene Presence\n",
    "\n",
    "\n",
    "variance_results\n",
    "variance_results_clean = variance_results.dropna()\n",
    "y_data = variance_results_clean[\"inter_disease_var\"]\n",
    "x_data = variance_results_clean[\"intra_disease_var\"]\n",
    "\n",
    "# Calculate the point density\n",
    "xy = np.vstack([x_data, y_data])\n",
    "z = gaussian_kde(xy)(xy)\n",
    "\n",
    "fig, ax = plt.subplots()\n",
    "ax.scatter(x_data, y_data, c=z, s=10, alpha=0.5)\n",
    "\n",
    "# fit regression line\n",
    "from scipy.stats import linregress\n",
    "\n",
    "slope, intercept, r_value, p_value, std_err = linregress(x_data, y_data)\n",
    "\n",
    "plt.plot(\n",
    "    x_data,\n",
    "    slope * x_data + intercept,\n",
    "    color=\"red\",\n",
    "    label=f\"y = {slope:.2f}x + {intercept:.2f}\",\n",
    ")\n",
    "\n",
    "plt.xlabel(\"Intra Disease Variance\")\n",
    "plt.ylabel(\"Inter Disease Variance\")\n",
    "plt.title(\n",
    "    \"Intra Disease Variance vs Inter Disease Variance\\nPearson Correlation: {:.2f}\".format(\n",
    "        r_value\n",
    "    )\n",
    ")"
   ]
  },
  {
   "cell_type": "code",
   "execution_count": 99,
   "metadata": {},
   "outputs": [],
   "source": [
    "import numpy as np\n",
    "import matplotlib.pyplot as plt\n",
    "from scipy.stats import gaussian_kde\n",
    "\n",
    "# Plot Gene Vairance vs Gene Presence\n",
    "\n",
    "\n",
    "variance_results\n",
    "variance_results_clean = variance_results.dropna()\n",
    "y_data = variance_results_clean[\"inter_disease_var\"]\n",
    "x_data = variance_results_clean[\"disease_vs_control_var\"]\n",
    "\n",
    "# Calculate the point density\n",
    "xy = np.vstack([x_data, y_data])\n",
    "z = gaussian_kde(xy)(xy)\n",
    "\n",
    "fig, ax = plt.subplots()\n",
    "ax.scatter(x_data, y_data, c=z, s=10, alpha=0.5)\n",
    "\n",
    "# fit regression line\n",
    "from scipy.stats import linregress\n",
    "\n",
    "slope, intercept, r_value, p_value, std_err = linregress(x_data, y_data)\n",
    "\n",
    "plt.plot(\n",
    "    x_data,\n",
    "    slope * x_data + intercept,\n",
    "    color=\"red\",\n",
    "    label=f\"y = {slope:.2f}x + {intercept:.2f}\",\n",
    ")\n",
    "\n",
    "plt.xlabel(\"Intra Disease Variance\")\n",
    "plt.ylabel(\"Disease-Control Variance\")\n",
    "plt.title(\n",
    "    \"Intra Disease Variance vs Disease-Control Variance\\nPearson Correlation: {:.2f}\".format(\n",
    "        r_value\n",
    "    )\n",
    ")"
   ]
  },
  {
   "cell_type": "code",
   "execution_count": 95,
   "metadata": {},
   "outputs": [
    {
     "data": {
      "text/plain": [
       "<matplotlib.collections.PathCollection at 0x7bf9c14dbbe0>"
      ]
     },
     "execution_count": 95,
     "metadata": {},
     "output_type": "execute_result"
    },
    {
     "data": {
      "image/png": "[encoded data removed]",
      "text/plain": [
       "<Figure size 640x480 with 1 Axes>"
      ]
     },
     "metadata": {},
     "output_type": "display_data"
    }
   ],
   "source": [
    "plt.scatter(\n",
    "    variance_results[\"intra_disease_var\"], variance_results[\"disease_vs_control_var\"]\n",
    ")"
   ]
  },
  {
   "cell_type": "code",
   "execution_count": 87,
   "metadata": {},
   "outputs": [
    {
     "data": {
      "text/html": [
       "<div>\n",
       "<style scoped>\n",
       "    .dataframe tbody tr th:only-of-type {\n",
       "        vertical-align: middle;\n",
       "    }\n",
       "\n",
       "    .dataframe tbody tr th {\n",
       "        vertical-align: top;\n",
       "    }\n",
       "\n",
       "    .dataframe thead th {\n",
       "        text-align: right;\n",
       "    }\n",
       "</style>\n",
       "<table border=\"1\" class=\"dataframe\">\n",
       "  <thead>\n",
       "    <tr style=\"text-align: right;\">\n",
       "      <th></th>\n",
       "      <th>0</th>\n",
       "      <th>1</th>\n",
       "      <th>2</th>\n",
       "      <th>3</th>\n",
       "      <th>4</th>\n",
       "      <th>5</th>\n",
       "      <th>6</th>\n",
       "      <th>7</th>\n",
       "      <th>8</th>\n",
       "      <th>9</th>\n",
       "      <th>...</th>\n",
       "      <th>19680</th>\n",
       "      <th>19681</th>\n",
       "      <th>19682</th>\n",
       "      <th>19683</th>\n",
       "      <th>19684</th>\n",
       "      <th>19685</th>\n",
       "      <th>19686</th>\n",
       "      <th>19687</th>\n",
       "      <th>19688</th>\n",
       "      <th>19689</th>\n",
       "    </tr>\n",
       "    <tr>\n",
       "      <th>disease</th>\n",
       "      <th></th>\n",
       "      <th></th>\n",
       "      <th></th>\n",
       "      <th></th>\n",
       "      <th></th>\n",
       "      <th></th>\n",
       "      <th></th>\n",
       "      <th></th>\n",
       "      <th></th>\n",
       "      <th></th>\n",
       "      <th></th>\n",
       "      <th></th>\n",
       "      <th></th>\n",
       "      <th></th>\n",
       "      <th></th>\n",
       "      <th></th>\n",
       "      <th></th>\n",
       "      <th></th>\n",
       "      <th></th>\n",
       "      <th></th>\n",
       "      <th></th>\n",
       "    </tr>\n",
       "  </thead>\n",
       "  <tbody>\n",
       "    <tr>\n",
       "      <th>Breast Cancer</th>\n",
       "      <td>5.585791e+13</td>\n",
       "      <td>1.748949e+15</td>\n",
       "      <td>5.998811e+13</td>\n",
       "      <td>3.748822e+14</td>\n",
       "      <td>2.224808e+14</td>\n",
       "      <td>1.100344e+15</td>\n",
       "      <td>1.851494e+13</td>\n",
       "      <td>1.073753e+14</td>\n",
       "      <td>1.991901e+13</td>\n",
       "      <td>7.585606e+14</td>\n",
       "      <td>...</td>\n",
       "      <td>NaN</td>\n",
       "      <td>NaN</td>\n",
       "      <td>NaN</td>\n",
       "      <td>NaN</td>\n",
       "      <td>NaN</td>\n",
       "      <td>NaN</td>\n",
       "      <td>NaN</td>\n",
       "      <td>NaN</td>\n",
       "      <td>1.821119e+15</td>\n",
       "      <td>31.053480</td>\n",
       "    </tr>\n",
       "    <tr>\n",
       "      <th>Colorectal Carcinoma</th>\n",
       "      <td>5.867213e+03</td>\n",
       "      <td>1.657429e+06</td>\n",
       "      <td>4.313312e+05</td>\n",
       "      <td>8.715821e+04</td>\n",
       "      <td>1.430623e+06</td>\n",
       "      <td>2.854360e+04</td>\n",
       "      <td>2.828476e+05</td>\n",
       "      <td>6.845682e+02</td>\n",
       "      <td>2.262469e+06</td>\n",
       "      <td>1.052245e+04</td>\n",
       "      <td>...</td>\n",
       "      <td>NaN</td>\n",
       "      <td>NaN</td>\n",
       "      <td>NaN</td>\n",
       "      <td>NaN</td>\n",
       "      <td>NaN</td>\n",
       "      <td>NaN</td>\n",
       "      <td>NaN</td>\n",
       "      <td>NaN</td>\n",
       "      <td>4.799846e+02</td>\n",
       "      <td>13.950167</td>\n",
       "    </tr>\n",
       "    <tr>\n",
       "      <th>Control</th>\n",
       "      <td>1.090301e+13</td>\n",
       "      <td>8.094029e+13</td>\n",
       "      <td>1.982014e+13</td>\n",
       "      <td>4.605353e+14</td>\n",
       "      <td>4.539059e+14</td>\n",
       "      <td>9.735362e+14</td>\n",
       "      <td>4.423274e+12</td>\n",
       "      <td>1.074259e+13</td>\n",
       "      <td>9.451230e+13</td>\n",
       "      <td>1.577873e+14</td>\n",
       "      <td>...</td>\n",
       "      <td>NaN</td>\n",
       "      <td>NaN</td>\n",
       "      <td>NaN</td>\n",
       "      <td>NaN</td>\n",
       "      <td>NaN</td>\n",
       "      <td>NaN</td>\n",
       "      <td>NaN</td>\n",
       "      <td>NaN</td>\n",
       "      <td>4.365157e+14</td>\n",
       "      <td>17.659166</td>\n",
       "    </tr>\n",
       "    <tr>\n",
       "      <th>Influenza</th>\n",
       "      <td>1.620445e+03</td>\n",
       "      <td>1.509411e+03</td>\n",
       "      <td>4.242721e+04</td>\n",
       "      <td>1.036061e+02</td>\n",
       "      <td>4.778916e+05</td>\n",
       "      <td>3.346238e+04</td>\n",
       "      <td>1.308737e+05</td>\n",
       "      <td>9.552229e+01</td>\n",
       "      <td>7.980582e+05</td>\n",
       "      <td>2.599565e+02</td>\n",
       "      <td>...</td>\n",
       "      <td>NaN</td>\n",
       "      <td>NaN</td>\n",
       "      <td>NaN</td>\n",
       "      <td>NaN</td>\n",
       "      <td>NaN</td>\n",
       "      <td>NaN</td>\n",
       "      <td>NaN</td>\n",
       "      <td>NaN</td>\n",
       "      <td>1.343140e+02</td>\n",
       "      <td>NaN</td>\n",
       "    </tr>\n",
       "  </tbody>\n",
       "</table>\n",
       "<p>4 rows × 19690 columns</p>\n",
       "</div>"
      ],
      "text/plain": [
       "                                 0             1             2             3  \\\n",
       "disease                                                                        \n",
       "Breast Cancer         5.585791e+13  1.748949e+15  5.998811e+13  3.748822e+14   \n",
       "Colorectal Carcinoma  5.867213e+03  1.657429e+06  4.313312e+05  8.715821e+04   \n",
       "Control               1.090301e+13  8.094029e+13  1.982014e+13  4.605353e+14   \n",
       "Influenza             1.620445e+03  1.509411e+03  4.242721e+04  1.036061e+02   \n",
       "\n",
       "                                 4             5             6             7  \\\n",
       "disease                                                                        \n",
       "Breast Cancer         2.224808e+14  1.100344e+15  1.851494e+13  1.073753e+14   \n",
       "Colorectal Carcinoma  1.430623e+06  2.854360e+04  2.828476e+05  6.845682e+02   \n",
       "Control               4.539059e+14  9.735362e+14  4.423274e+12  1.074259e+13   \n",
       "Influenza             4.778916e+05  3.346238e+04  1.308737e+05  9.552229e+01   \n",
       "\n",
       "                                 8             9  ...  19680  19681  19682  \\\n",
       "disease                                           ...                        \n",
       "Breast Cancer         1.991901e+13  7.585606e+14  ...    NaN    NaN    NaN   \n",
       "Colorectal Carcinoma  2.262469e+06  1.052245e+04  ...    NaN    NaN    NaN   \n",
       "Control               9.451230e+13  1.577873e+14  ...    NaN    NaN    NaN   \n",
       "Influenza             7.980582e+05  2.599565e+02  ...    NaN    NaN    NaN   \n",
       "\n",
       "                      19683  19684  19685  19686  19687         19688  \\\n",
       "disease                                                                 \n",
       "Breast Cancer           NaN    NaN    NaN    NaN    NaN  1.821119e+15   \n",
       "Colorectal Carcinoma    NaN    NaN    NaN    NaN    NaN  4.799846e+02   \n",
       "Control                 NaN    NaN    NaN    NaN    NaN  4.365157e+14   \n",
       "Influenza               NaN    NaN    NaN    NaN    NaN  1.343140e+02   \n",
       "\n",
       "                          19689  \n",
       "disease                          \n",
       "Breast Cancer         31.053480  \n",
       "Colorectal Carcinoma  13.950167  \n",
       "Control               17.659166  \n",
       "Influenza                   NaN  \n",
       "\n",
       "[4 rows x 19690 columns]"
      ]
     },
     "execution_count": 87,
     "metadata": {},
     "output_type": "execute_result"
    }
   ],
   "source": [
    "intra_disease_var"
   ]
  },
  {
   "cell_type": "code",
   "execution_count": 83,
   "metadata": {},
   "outputs": [
    {
     "data": {
      "text/html": [
       "<div>\n",
       "<style scoped>\n",
       "    .dataframe tbody tr th:only-of-type {\n",
       "        vertical-align: middle;\n",
       "    }\n",
       "\n",
       "    .dataframe tbody tr th {\n",
       "        vertical-align: top;\n",
       "    }\n",
       "\n",
       "    .dataframe thead th {\n",
       "        text-align: right;\n",
       "    }\n",
       "</style>\n",
       "<table border=\"1\" class=\"dataframe\">\n",
       "  <thead>\n",
       "    <tr style=\"text-align: right;\">\n",
       "      <th></th>\n",
       "      <th>intra_disease_var</th>\n",
       "      <th>inter_disease_var</th>\n",
       "    </tr>\n",
       "  </thead>\n",
       "  <tbody>\n",
       "    <tr>\n",
       "      <th>1220</th>\n",
       "      <td>588.401774</td>\n",
       "      <td>0.361861</td>\n",
       "    </tr>\n",
       "    <tr>\n",
       "      <th>2360</th>\n",
       "      <td>1.186597</td>\n",
       "      <td>0.175902</td>\n",
       "    </tr>\n",
       "    <tr>\n",
       "      <th>10069</th>\n",
       "      <td>2.271271</td>\n",
       "      <td>0.108105</td>\n",
       "    </tr>\n",
       "    <tr>\n",
       "      <th>12245</th>\n",
       "      <td>0.725632</td>\n",
       "      <td>0.164737</td>\n",
       "    </tr>\n",
       "    <tr>\n",
       "      <th>12446</th>\n",
       "      <td>0.782216</td>\n",
       "      <td>0.004759</td>\n",
       "    </tr>\n",
       "    <tr>\n",
       "      <th>...</th>\n",
       "      <td>...</td>\n",
       "      <td>...</td>\n",
       "    </tr>\n",
       "    <tr>\n",
       "      <th>19451</th>\n",
       "      <td>456.571315</td>\n",
       "      <td>0.355329</td>\n",
       "    </tr>\n",
       "    <tr>\n",
       "      <th>19550</th>\n",
       "      <td>6.999935</td>\n",
       "      <td>0.228084</td>\n",
       "    </tr>\n",
       "    <tr>\n",
       "      <th>19568</th>\n",
       "      <td>52.036539</td>\n",
       "      <td>0.139211</td>\n",
       "    </tr>\n",
       "    <tr>\n",
       "      <th>19581</th>\n",
       "      <td>41.911244</td>\n",
       "      <td>0.121393</td>\n",
       "    </tr>\n",
       "    <tr>\n",
       "      <th>19674</th>\n",
       "      <td>1.206793</td>\n",
       "      <td>0.032213</td>\n",
       "    </tr>\n",
       "  </tbody>\n",
       "</table>\n",
       "<p>82 rows × 2 columns</p>\n",
       "</div>"
      ],
      "text/plain": [
       "       intra_disease_var  inter_disease_var\n",
       "1220          588.401774           0.361861\n",
       "2360            1.186597           0.175902\n",
       "10069           2.271271           0.108105\n",
       "12245           0.725632           0.164737\n",
       "12446           0.782216           0.004759\n",
       "...                  ...                ...\n",
       "19451         456.571315           0.355329\n",
       "19550           6.999935           0.228084\n",
       "19568          52.036539           0.139211\n",
       "19581          41.911244           0.121393\n",
       "19674           1.206793           0.032213\n",
       "\n",
       "[82 rows x 2 columns]"
      ]
     },
     "execution_count": 83,
     "metadata": {},
     "output_type": "execute_result"
    }
   ],
   "source": [
    "variance_df[\n",
    "    (variance_df[\"intra_disease_var\"] > 0.5) & (variance_df[\"inter_disease_var\"] < 0.5)\n",
    "]"
   ]
  },
  {
   "cell_type": "code",
   "execution_count": 30,
   "metadata": {},
   "outputs": [
    {
     "data": {
      "text/plain": [
       "(5090, 19690)"
      ]
     },
     "execution_count": 30,
     "metadata": {},
     "output_type": "execute_result"
    }
   ],
   "source": [
    "adata_bm.shape"
   ]
  },
  {
   "cell_type": "code",
   "execution_count": 24,
   "metadata": {},
   "outputs": [
    {
     "data": {
      "text/plain": [
       "['Control', 'Colorectal Carcinoma', 'Breast Cancer', 'Influenza']\n",
       "Categories (4, object): ['Breast Cancer', 'Colorectal Carcinoma', 'Control', 'Influenza']"
      ]
     },
     "execution_count": 24,
     "metadata": {},
     "output_type": "execute_result"
    }
   ],
   "source": [
    "adata_bm.obs[\"celltype\"].unique()"
   ]
  },
  {
   "cell_type": "code",
   "execution_count": 29,
   "metadata": {},
   "outputs": [
    {
     "data": {
      "text/plain": [
       "(5108, 19690)"
      ]
     },
     "execution_count": 29,
     "metadata": {},
     "output_type": "execute_result"
    }
   ],
   "source": [
    "adata_nw.shape"
   ]
  },
  {
   "cell_type": "code",
   "execution_count": 40,
   "metadata": {},
   "outputs": [],
   "source": [
    "from typing import *\n",
    "import anndata as AnnData\n",
    "\n",
    "\n",
    "def get_mask_genes(\n",
    "    adata: AnnData,\n",
    "    max_n_genes: int = 3501,\n",
    "    gene_presence_pct: float = 0.95,\n",
    ") -> np.array:\n",
    "    \"\"\"\n",
    "    Filters genes based on presence and variance, returning a mask of selected genes.\n",
    "\n",
    "    Parameters:\n",
    "    - adata: AnnData object containing gene expression data\n",
    "    - max_n_genes: The maximum number of genes to retain based on variance\n",
    "    - gene_presence_pctl: Percentile of gene presence for the filtering threshold\n",
    "\n",
    "    Returns:\n",
    "    - A boolean array (mask) indicating which genes to keep.\n",
    "    \"\"\"\n",
    "    total_n_genes = adata.X.shape[1]\n",
    "    total_n_samples = adata.X.shape[0]\n",
    "\n",
    "    # Step 1: Filter out based on presence\n",
    "    count_presence = np.sum(~np.isnan(adata.X), axis=0)\n",
    "    thr_presence = gene_presence_pct * total_n_samples\n",
    "    mask_presence = count_presence > thr_presence\n",
    "    logging.info(\n",
    "        f\"Presence threshold: {thr_presence:.0f} ({thr_presence/total_n_genes*100:.2f}%), {np.sum(mask_presence)} genes left\"\n",
    "    )\n",
    "\n",
    "    # Step 2: Filter out based on variance\n",
    "    count_variance = np.nanstd(adata.X, axis=0)  # Standard deviation (variance)\n",
    "\n",
    "    # Step 3: Apply the presence mask and filter out NaN genes\n",
    "    count_variance_masked = count_variance[mask_presence]\n",
    "    count_variance_masked = count_variance_masked[~np.isnan(count_variance_masked)]\n",
    "\n",
    "    # Step 4: Get the variance threshold, ensuring we don’t exceed available genes\n",
    "    n_variance_masked_genes = len(count_variance_masked)\n",
    "    thr_variance = np.sort(count_variance_masked)[::-1][\n",
    "        min(max_n_genes, n_variance_masked_genes) - 1  # Adjust for 0-based indexing\n",
    "    ]\n",
    "\n",
    "    # Step 5: Create the variance mask\n",
    "    mask_variance = count_variance >= thr_variance\n",
    "    logging.info(\n",
    "        f\"Variance threshold: {thr_variance:.0f}, {np.sum(mask_variance)} genes left\"\n",
    "    )\n",
    "\n",
    "    # Step 6: Combine presence and variance masks\n",
    "    combined_mask = mask_presence & mask_variance\n",
    "    logging.info(f\"Combined mask: {np.sum(combined_mask)} genes left\")\n",
    "\n",
    "    return combined_mask"
   ]
  },
  {
   "cell_type": "code",
   "execution_count": 31,
   "metadata": {},
   "outputs": [
    {
     "name": "stderr",
     "output_type": "stream",
     "text": [
      "2024-09-23 12:39:03,765 - root - INFO - Presence thr 4852.599999999999, 6311 genes left\n",
      "/home/ddalton/miniconda3/envs/scgpt/lib/python3.10/site-packages/numpy/lib/nanfunctions.py:1879: RuntimeWarning: Degrees of freedom <= 0 for slice.\n",
      "  var = nanvar(a, axis=axis, dtype=dtype, out=out, ddof=ddof,\n",
      "2024-09-23 12:39:04,787 - root - INFO - Variance thr 7901173.85, 10603 genes left\n"
     ]
    }
   ],
   "source": [
    "presence = 0.95  # gene presence in samples\n",
    "variance = 45  # gene variance in top %\n",
    "\n",
    "# filter out the genes with lowest presence\n",
    "thr_presence = adata_nw.X.shape[0] * presence\n",
    "\n",
    "mask_presence = np.sum(~np.isnan(adata_nw.X), axis=0) > thr_presence\n",
    "\n",
    "logging.info(f\"Presence thr {thr_presence}, {np.sum(mask_presence)} genes left\")\n",
    "\n",
    "\n",
    "# filter out the genes with lowest standard deviation\n",
    "gene_std = np.nanstd(adata_nw.X, axis=0)\n",
    "gene_std = gene_std[~np.isnan(gene_std)]\n",
    "thr_std = np.percentile(gene_std, variance)\n",
    "\n",
    "mask_variance = np.nanstd(adata_nw.X, axis=0) > thr_std\n",
    "\n",
    "\n",
    "logging.info(f\"Variance thr {thr_std:.2f}, {np.sum(mask_variance)} genes left\")\n",
    "\n",
    "# combine mask\n",
    "mask_genes = mask_presence & mask_variance"
   ]
  },
  {
   "cell_type": "code",
   "execution_count": 21,
   "metadata": {},
   "outputs": [
    {
     "name": "stderr",
     "output_type": "stream",
     "text": [
      "/home/ddalton/miniconda3/envs/scgpt/lib/python3.10/site-packages/numpy/lib/nanfunctions.py:1879: RuntimeWarning: Degrees of freedom <= 0 for slice.\n",
      "  var = nanvar(a, axis=axis, dtype=dtype, out=out, ddof=ddof,\n"
     ]
    },
    {
     "data": {
      "text/plain": [
       "<Axes: ylabel='Density'>"
      ]
     },
     "execution_count": 21,
     "metadata": {},
     "output_type": "execute_result"
    },
    {
     "data": {
      "image/png": "[encoded data removed]",
      "text/plain": [
       "<Figure size 640x480 with 1 Axes>"
      ]
     },
     "metadata": {},
     "output_type": "display_data"
    }
   ],
   "source": [
    "import seaborn as sns\n",
    "\n",
    "sns.kdeplot(np.nanstd(adata_nw.X, axis=0))"
   ]
  },
  {
   "cell_type": "code",
   "execution_count": 67,
   "metadata": {},
   "outputs": [
    {
     "name": "stderr",
     "output_type": "stream",
     "text": [
      "/home/ddalton/miniconda3/envs/scgpt/lib/python3.10/site-packages/numpy/lib/nanfunctions.py:1879: RuntimeWarning: Degrees of freedom <= 0 for slice.\n",
      "  var = nanvar(a, axis=axis, dtype=dtype, out=out, ddof=ddof,\n",
      "/tmp/ipykernel_12613/3506046679.py:25: UserWarning: No artists with labels found to put in legend.  Note that artists whose label start with an underscore are ignored when legend() is called with no argument.\n",
      "  plt.legend()\n"
     ]
    },
    {
     "data": {
      "text/plain": [
       "Text(0.5, 1.0, 'Gene Variance Distribution')"
      ]
     },
     "execution_count": 67,
     "metadata": {},
     "output_type": "execute_result"
    },
    {
     "data": {
      "image/png": "[encoded data removed]",
      "text/plain": [
       "<Figure size 640x480 with 1 Axes>"
      ]
     },
     "metadata": {},
     "output_type": "display_data"
    }
   ],
   "source": [
    "# Plot Gene Variance across samples\n",
    "\n",
    "import matplotlib.pyplot as plt\n",
    "\n",
    "presence = 0.95  # gene presence in samples\n",
    "\n",
    "# filter out the genes with lowest presence\n",
    "thr_presence = adata_nw.X.shape[0] * presence\n",
    "\n",
    "data = np.nanstd(adata_nw.X, axis=0)\n",
    "\n",
    "sns.violinplot(\n",
    "    data,\n",
    "    orient=\"h\",\n",
    "    # inner_kws=dict(box_width=15, whis_width=2, color=\".8\"),\n",
    "    split=True,\n",
    "    inner=\"quartile\",\n",
    "    color=\"paleturquoise\",\n",
    ")\n",
    "\n",
    "\n",
    "plt.ylabel(\"KDE ~ PDF\")\n",
    "plt.xlabel(\"Gene Variance\")\n",
    "\n",
    "plt.legend()\n",
    "plt.title(f\"Gene Variance Distribution\")"
   ]
  },
  {
   "cell_type": "code",
   "execution_count": 65,
   "metadata": {},
   "outputs": [
    {
     "data": {
      "text/plain": [
       "Text(0.5, 1.0, 'Gene Variance vs Gene Presence\\nPearson Correlation: 0.07')"
      ]
     },
     "execution_count": 65,
     "metadata": {},
     "output_type": "execute_result"
    },
    {
     "data": {
      "image/png": "[encoded data removed]",
      "text/plain": [
       "<Figure size 640x480 with 1 Axes>"
      ]
     },
     "metadata": {},
     "output_type": "display_data"
    }
   ],
   "source": [
    "# Plot Gene Vairance vs Gene Presence\n",
    "import numpy as np\n",
    "import matplotlib.pyplot as plt\n",
    "from scipy.stats import gaussian_kde\n",
    "\n",
    "# remove genes w/ no presence\n",
    "mask_presence = np.sum(~np.isnan(adata_nw.X), axis=0) > 0\n",
    "\n",
    "x_data = np.nanstd(adata_nw.X[:, mask_presence], axis=0)\n",
    "y_data = np.sum(~np.isnan(adata_nw.X[:, mask_presence]), axis=0)\n",
    "\n",
    "# Calculate the point density\n",
    "xy = np.vstack([x_data, y_data])\n",
    "z = gaussian_kde(xy)(xy)\n",
    "\n",
    "fig, ax = plt.subplots()\n",
    "ax.scatter(x_data, y_data, c=z, s=10, alpha=0.5)\n",
    "\n",
    "# fit regression line\n",
    "from scipy.stats import linregress\n",
    "\n",
    "slope, intercept, r_value, p_value, std_err = linregress(x_data, y_data)\n",
    "\n",
    "plt.plot(\n",
    "    x_data,\n",
    "    slope * x_data + intercept,\n",
    "    color=\"red\",\n",
    "    label=f\"y = {slope:.2f}x + {intercept:.2f}\",\n",
    ")\n",
    "\n",
    "plt.xlabel(\"Gene Variance\")\n",
    "plt.ylabel(\"Gene Presence\")\n",
    "plt.title(\"Gene Variance vs Gene Presence\\nPearson Correlation: {:.2f}\".format(r_value))"
   ]
  },
  {
   "cell_type": "code",
   "execution_count": 42,
   "metadata": {},
   "outputs": [
    {
     "data": {
      "text/plain": [
       "Text(0.5, 1.0, 'Gene presence (19690) across samples (5108)')"
      ]
     },
     "execution_count": 42,
     "metadata": {},
     "output_type": "execute_result"
    },
    {
     "data": {
      "image/png": "[encoded data removed]",
      "text/plain": [
       "<Figure size 640x480 with 1 Axes>"
      ]
     },
     "metadata": {},
     "output_type": "display_data"
    }
   ],
   "source": [
    "# Plot presence of of gene across samples\n",
    "\n",
    "import matplotlib.pyplot as plt\n",
    "\n",
    "presence = 0.95  # gene presence in samples\n",
    "\n",
    "# filter out the genes with lowest presence\n",
    "thr_presence = adata_nw.X.shape[0] * presence\n",
    "\n",
    "data = np.sum(~np.isnan(adata_nw.X), axis=0)\n",
    "\n",
    "sns.violinplot(\n",
    "    data,\n",
    "    orient=\"h\",\n",
    "    # inner_kws=dict(box_width=15, whis_width=2, color=\".8\"),\n",
    "    split=True,\n",
    "    inner=\"quartile\",\n",
    "    color=\"paleturquoise\",\n",
    ")\n",
    "\n",
    "plt.axvline(\n",
    "    adata_nw.X.shape[0] * 0.95,\n",
    "    color=\"red\",\n",
    "    label=f\"≥95% Presence {np.sum(data>=adata_nw.X.shape[0] * 0.95)} genes\",\n",
    "    alpha=0.5,\n",
    "    linestyle=\"--\",\n",
    ")\n",
    "plt.axvline(\n",
    "    adata_nw.X.shape[0] * 0.9,\n",
    "    color=\"green\",\n",
    "    label=f\"≥90% Presence {np.sum(data>=adata_nw.X.shape[0] * 0.90)} genes\",\n",
    "    alpha=0.5,\n",
    "    linestyle=\"--\",\n",
    ")\n",
    "plt.axvline(\n",
    "    adata_nw.X.shape[0] * 0.6,\n",
    "    color=\"blue\",\n",
    "    label=f\"≥60% Presence {np.sum(data>=adata_nw.X.shape[0] * 0.60)} genes\",\n",
    "    alpha=0.5,\n",
    "    linestyle=\"--\",\n",
    ")\n",
    "plt.ylabel(\"KDE ~ PDF\")\n",
    "plt.xlabel(\"Nº of Samples\")\n",
    "\n",
    "plt.legend()\n",
    "plt.title(f\"Gene presence ({adata_nw.shape[1]}) across samples ({adata_nw.shape[0]})\")"
   ]
  },
  {
   "cell_type": "code",
   "execution_count": 46,
   "metadata": {
    "vscode": {
     "languageId": "javascript"
    }
   },
   "outputs": [
    {
     "name": "stderr",
     "output_type": "stream",
     "text": [
      "2024-09-23 12:43:50,185 - root - INFO - Presence threshold: 4853 (24.64%), 6311 genes left\n",
      "2024-09-23 12:43:50,697 - root - INFO - Variance threshold: 7129126, 11519 genes left\n",
      "2024-09-23 12:43:50,697 - root - INFO - Combined mask: 3501 genes left\n"
     ]
    },
    {
     "name": "stdout",
     "output_type": "stream",
     "text": [
      "3095 3501\n",
      "3095\n"
     ]
    }
   ],
   "source": [
    "list_1 = adata_nw.var[\"gene_symbols\"][mask_genes].to_list()\n",
    "\n",
    "mask_genes_2 = get_mask_genes(adata_nw, gene_presence_pct=0.95)\n",
    "list_2 = adata_nw.var[\"gene_symbols\"][mask_genes_2].to_list()\n",
    "\n",
    "\n",
    "print(len(list_1), len(list_2))\n",
    "\n",
    "print(len(set(list_1) & set(list_2)))"
   ]
  },
  {
   "cell_type": "code",
   "execution_count": 1,
   "metadata": {
    "vscode": {
     "languageId": "javascript"
    }
   },
   "outputs": [],
   "source": [
    "import anndata as ad\n",
    "\n",
    "\n",
    "adata_nw = ad.read_h5ad(\"/aloy/home/ddalton/projects/scGPT_playground/data/pp_data-24-09-24-01/data.h5ad\")"
   ]
  },
  {
   "cell_type": "code",
   "execution_count": 9,
   "metadata": {
    "vscode": {
     "languageId": "javascript"
    }
   },
   "outputs": [],
   "source": [
    "from typing import *\n",
    "import numpy as np\n",
    "import pandas as pd\n",
    "import anndata as AnnData\n",
    "import logging\n",
    "\n",
    "logging.basicConfig(level=logging.INFO)\n",
    "\n",
    "\n",
    "def get_top_k_most_present_genes(\n",
    "    adata: AnnData,\n",
    "    k: int = 3501,\n",
    ") -> np.array:\n",
    "    \"\"\"\n",
    "    Filters genes based on the top `k` most present genes across samples.\n",
    "\n",
    "    Parameters:\n",
    "    - adata: AnnData object containing gene expression data\n",
    "    - k: The number of top genes to retain based on their presence across samples\n",
    "\n",
    "    Returns:\n",
    "    - A boolean array (mask) indicating which genes to keep.\n",
    "    \"\"\"\n",
    "    total_n_genes = adata.X.shape[1]\n",
    "    total_n_samples = adata.X.shape[0]\n",
    "\n",
    "    logging.info(f\"Nº genes: {total_n_genes}, Nº samples: {total_n_samples}\")\n",
    "\n",
    "    # Step 1: Count gene presence (non-NaN values) across samples\n",
    "    count_presence = np.sum(~np.isnan(adata.X), axis=0)\n",
    "\n",
    "    # Step 2: Sort genes by presence and select the top `k`\n",
    "    top_k_indices = np.argsort(count_presence)[::-1][:k]\n",
    "\n",
    "    # Step 3: Create a boolean mask with `True` for the top `k` genes\n",
    "    mask_top_k = np.zeros(total_n_genes, dtype=bool)\n",
    "    mask_top_k[top_k_indices] = True\n",
    "\n",
    "\n",
    "\n",
    "    logging.info(f\"Top {k} most present genes selected. - >= {min(count_presence[mask_top_k])}\")\n",
    "\n",
    "    return mask_top_k\n",
    "\n",
    "\n",
    "\n",
    "def get_mask_genes(\n",
    "    adata: AnnData,\n",
    "    max_n_genes: int = 3501,\n",
    "    gene_presence_pct: float = 0.95,\n",
    ") -> np.array:\n",
    "    \"\"\"\n",
    "    Filters genes based on presence and variance, returning a mask of selected genes.\n",
    "\n",
    "    Parameters:\n",
    "    - adata: AnnData object containing gene expression data\n",
    "    - max_n_genes: The maximum number of genes to retain based on variance\n",
    "    - gene_presence_pctl: Percentile of gene presence for the filtering threshold\n",
    "\n",
    "    Returns:\n",
    "    - A boolean array (mask) indicating which genes to keep.\n",
    "    \"\"\"\n",
    "    total_n_genes = adata.X.shape[1]\n",
    "    total_n_samples = adata.X.shape[0]\n",
    "\n",
    "    logging.info(f\"Nº genes: {total_n_genes}, Nº samples: {total_n_samples}\")\n",
    "\n",
    "\n",
    "    # Step 1: Filter out based on presence\n",
    "    count_presence = np.sum(~np.isnan(adata.X), axis=0)\n",
    "    thr_presence = gene_presence_pct * total_n_samples\n",
    "    mask_presence = count_presence > thr_presence\n",
    "    logging.info(\n",
    "        f\"Presence threshold: {thr_presence:.0f} ({thr_presence/total_n_genes*100:.2f}%), {np.sum(mask_presence)} genes left\"\n",
    "    )\n",
    "\n",
    "    # Step 2: Filter out based on variance\n",
    "    count_variance = np.nanstd(adata.X, axis=0)  # Standard deviation (variance)\n",
    "\n",
    "    # Step 3: Apply the presence mask and filter out NaN genes\n",
    "    count_variance_masked = count_variance[mask_presence]\n",
    "    count_variance_masked = count_variance_masked[~np.isnan(count_variance_masked)]\n",
    "\n",
    "    # Step 4: Get the variance threshold, ensuring we don’t exceed available genes\n",
    "    n_variance_masked_genes = len(count_variance_masked)\n",
    "    thr_variance = np.sort(count_variance_masked)[::-1][\n",
    "        min(max_n_genes, n_variance_masked_genes) - 1  # Adjust for 0-based indexing\n",
    "    ]\n",
    "\n",
    "    # Step 5: Create the variance mask\n",
    "    mask_variance = count_variance >= thr_variance\n",
    "    logging.info(\n",
    "        f\"Variance threshold: {thr_variance:.0f}, {np.sum(mask_variance)} genes left\"\n",
    "    )\n",
    "\n",
    "    # Step 6: Combine presence and variance masks\n",
    "    combined_mask = mask_presence & mask_variance\n",
    "    logging.info(f\"Combined mask: {np.sum(combined_mask)} genes left\")\n",
    "\n",
    "    return combined_mask"
   ]
  },
  {
   "cell_type": "code",
   "execution_count": 17,
   "metadata": {
    "vscode": {
     "languageId": "javascript"
    }
   },
   "outputs": [
    {
     "name": "stderr",
     "output_type": "stream",
     "text": [
      "INFO:root:Nº genes: 19690, Nº samples: 1231\n",
      "INFO:root:Presence threshold: 1231 (6.25%), 14597 genes left\n",
      "INFO:root:Variance threshold: 1061, 3786 genes left\n",
      "INFO:root:Combined mask: 3501 genes left\n",
      "INFO:root:Nº genes: 19690, Nº samples: 1231\n",
      "INFO:root:Top 3501 most present genes selected. - >= 1231\n"
     ]
    },
    {
     "data": {
      "text/plain": [
       "array([ True,  True,  True, ..., False, False, False])"
      ]
     },
     "execution_count": 17,
     "metadata": {},
     "output_type": "execute_result"
    }
   ],
   "source": [
    "get_mask_genes(adata_nw, gene_presence_pct=0.9999999)\n",
    "\n",
    "get_top_k_most_present_genes(adata_nw)"
   ]
  },
  {
   "cell_type": "code",
   "execution_count": 13,
   "metadata": {
    "vscode": {
     "languageId": "javascript"
    }
   },
   "outputs": [
    {
     "data": {
      "text/plain": [
       "14597"
      ]
     },
     "execution_count": 13,
     "metadata": {},
     "output_type": "execute_result"
    }
   ],
   "source": [
    "list(np.sum(~np.isnan(adata_nw.X),axis=0)).count(1231)"
   ]
  },
  {
   "cell_type": "code",
   "execution_count": 18,
   "metadata": {
    "vscode": {
     "languageId": "javascript"
    }
   },
   "outputs": [],
   "source": [
    "import anndata as ad\n",
    "\n",
    "adata_nw = ad.read_h5ad(\"/aloy/home/ddalton/projects/scGPT_playground/data/pp_data-24-09-24-01/data.h5ad\")"
   ]
  },
  {
   "cell_type": "code",
   "execution_count": 27,
   "metadata": {
    "vscode": {
     "languageId": "javascript"
    }
   },
   "outputs": [
    {
     "name": "stdout",
     "output_type": "stream",
     "text": [
      "Colorectal Carcinoma 11\n",
      "Breast Cancer 11\n",
      "Influenza 4\n"
     ]
    }
   ],
   "source": [
    "for disease in adata_nw.obs[\"disease_study\"].unique():\n",
    "    QUERY = \"disease_study == @disease\"\n",
    "    df_query = adata_nw.obs.query(QUERY)\n",
    "    print(disease, df_query[\"dataset_id\"].nunique())"
   ]
  },
  {
   "cell_type": "code",
   "execution_count": 30,
   "metadata": {
    "vscode": {
     "languageId": "javascript"
    }
   },
   "outputs": [],
   "source": [
    "import os,  pandas as pd\n",
    "df_info_path = os.path.join(\n",
    "    \"/aloy\",\n",
    "    \"home\",\n",
    "    \"ddalton\",\n",
    "    \"projects\",\n",
    "    \"disease_signatures\",\n",
    "    \"data\",\n",
    "    \"DiSignAtlas\",\n",
    "    \"Disease_information_Datasets_extended.csv\",\n",
    ")\n",
    "\n",
    "\n",
    "\n",
    "df_info = pd.read_csv(df_info_path)"
   ]
  },
  {
   "cell_type": "code",
   "execution_count": 37,
   "metadata": {
    "vscode": {
     "languageId": "javascript"
    }
   },
   "outputs": [
    {
     "data": {
      "text/plain": [
       "[[\"Alzheimer's Disease\", 43, 39],\n",
       " ['Myotonic Dystrophy Type 1', 7, 6],\n",
       " ['Diabetes', 36, 7],\n",
       " ['COVID-19', 8, 66],\n",
       " ['Diabetic Kidney Disease', 10, 6],\n",
       " ['Amyotrophic Lateral Sclerosis', 22, 23],\n",
       " ['Colon Cancer', 7, 7],\n",
       " ['Lung Cancer', 13, 5],\n",
       " ['Prostate Cancer', 21, 9],\n",
       " ['Cardiomyopathy', 6, 12],\n",
       " ['Leukemia', 8, 9],\n",
       " ['Colorectal Carcinoma', 39, 19],\n",
       " ['Type 1 Diabetes', 26, 16],\n",
       " ['Type 2 Diabetes', 20, 13],\n",
       " ['Osteoarthritis', 17, 9],\n",
       " ['Asthma', 46, 26],\n",
       " ['Atherosclerosis', 10, 5],\n",
       " ['Breast Cancer', 51, 14],\n",
       " ['Polycystic Ovary Syndrome', 14, 10],\n",
       " ['Psoriasis', 37, 16],\n",
       " ['Myocardial Infarction', 10, 13],\n",
       " ['Pancreatic Cancer', 6, 8],\n",
       " ['Dilated Cardiomyopathy', 6, 10],\n",
       " ['Obesity', 36, 41],\n",
       " [\"Parkinson's Disease\", 38, 38],\n",
       " ['Non-Alcoholic Fatty Liver Disease', 9, 13],\n",
       " ['Systemic Lupus Erythematosus', 38, 31],\n",
       " ['Melanoma', 25, 14],\n",
       " ['Atopic Dermatitis', 16, 6],\n",
       " ['Juvenile Idiopathic Arthritis', 10, 7],\n",
       " ['Hepatocellular Carcinoma', 55, 20],\n",
       " ['Non-Alcoholic Steatohepatitis', 18, 23],\n",
       " ['Pre-Eclampsia', 15, 7],\n",
       " ['Heart Failure', 8, 10],\n",
       " ['Chronic Obstructive Pulmonary Disease', 40, 10],\n",
       " ['Sepsis', 30, 11],\n",
       " ['Influenza', 23, 8],\n",
       " ['Multiple Sclerosis', 30, 25],\n",
       " ['Tuberculosis', 27, 18],\n",
       " ['Rheumatoid Arthritis', 27, 15],\n",
       " ['Colon Tumor', 10, 5],\n",
       " ['Endometriosis', 11, 5],\n",
       " ['Idiopathic Pulmonary Fibrosis', 21, 19],\n",
       " ['T-Cell Acute Lymphoblastic Leukemia', 6, 5],\n",
       " ['Ulcerative Colitis', 39, 19],\n",
       " ['Cystic Fibrosis', 12, 8],\n",
       " ['Acute Myeloid Leukemia (Aml-M2)', 30, 10],\n",
       " [\"Huntington's Disease\", 32, 32],\n",
       " [\"Crohn's Disease\", 34, 28],\n",
       " ['Spinal Muscular Atrophy', 6, 8],\n",
       " ['Autism Spectrum Disorder', 10, 11],\n",
       " ['Coeliac Disease', 6, 7],\n",
       " ['Pancreatic Ductal Adenocarcinoma', 17, 6],\n",
       " ['Colitis', 10, 16],\n",
       " ['Systemic Sclerosis [Scleroderma]', 10, 10],\n",
       " ['Glioblastoma', 16, 10],\n",
       " ['Duchenne Muscular Dystrophy', 14, 7],\n",
       " ['Squamous Cell Carcinoma', 10, 5],\n",
       " ['Hutchinson-Gilford Progeria Syndrome', 8, 6],\n",
       " ['Ovarian Cancer', 11, 5],\n",
       " ['Chronic Lymphocytic Leukemia', 20, 6],\n",
       " ['Schizophrenia', 30, 22],\n",
       " ['Primary Sjogren Syndrome', 8, 8],\n",
       " ['Acute Kidney Injury', 5, 6],\n",
       " ['Myelodysplastic Syndromes', 7, 10],\n",
       " ['Bipolar Disorder', 23, 8],\n",
       " ['Major Depressive Disorder', 21, 5],\n",
       " ['Down Syndrome', 17, 11],\n",
       " ['Cirrhosis', 8, 5]]"
      ]
     },
     "execution_count": 37,
     "metadata": {},
     "output_type": "execute_result"
    }
   ],
   "source": [
    "\n",
    "diseases_with_multiple_datasets = []\n",
    "\n",
    "for disease in df_info[\"disease\"].unique():\n",
    "\n",
    "    QUERY = \"disease == @disease\"\n",
    "    df_q = df_info.query(QUERY)\n",
    "    if df_q[df_q[\"library_strategy\"]==\"Microarray\"][\"accession\"].nunique() >= 5:\n",
    "\n",
    "        if df_q[df_q[\"library_strategy\"]==\"RNA-Seq\"][\"accession\"].nunique() >= 5:\n",
    "            diseases_with_multiple_datasets.append([disease, df_q[df_q[\"library_strategy\"]==\"Microarray\"][\"accession\"].nunique(), df_q[df_q[\"library_strategy\"]==\"RNA-Seq\"][\"accession\"].nunique()])\n",
    "\n",
    "\n",
    "\n",
    "diseases_with_multiple_datasets"
   ]
  },
  {
   "cell_type": "code",
   "execution_count": 32,
   "metadata": {
    "vscode": {
     "languageId": "javascript"
    }
   },
   "outputs": [
    {
     "data": {
      "text/plain": [
       "Index(['dsaid', 'accession', 'platform', 'deg_count', 'disease', 'diseaseid',\n",
       "       'tissue', 'data_source', 'library_strategy', 'organism',\n",
       "       'control_case_sample_count', 'definition', 'Control', 'Case'],\n",
       "      dtype='object')"
      ]
     },
     "execution_count": 32,
     "metadata": {},
     "output_type": "execute_result"
    }
   ],
   "source": [
    "df_info.columns"
   ]
  },
  {
   "cell_type": "code",
   "execution_count": 38,
   "metadata": {
    "vscode": {
     "languageId": "javascript"
    }
   },
   "outputs": [],
   "source": [
    "import anndata as ad\n",
    "\n",
    "adata_nw = ad.read_h5ad(\"/aloy/home/ddalton/projects/scGPT_playground/data/pp_data-24-09-24-01/data.h5ad\")"
   ]
  },
  {
   "cell_type": "code",
   "execution_count": 49,
   "metadata": {
    "vscode": {
     "languageId": "javascript"
    }
   },
   "outputs": [
    {
     "data": {
      "text/plain": [
       "12827"
      ]
     },
     "execution_count": 49,
     "metadata": {},
     "output_type": "execute_result"
    }
   ],
   "source": [
    "\n",
    "list(np.sum(~np.isnan(adata_nw.X), axis=0)).count(4561)"
   ]
  },
  {
   "cell_type": "code",
   "execution_count": 61,
   "metadata": {
    "vscode": {
     "languageId": "javascript"
    }
   },
   "outputs": [
    {
     "name": "stderr",
     "output_type": "stream",
     "text": [
      "INFO:root:Nº genes: 19690, Nº samples: 4561\n",
      "INFO:root:Top 3501 most present genes selected. - >= 4561\n"
     ]
    },
    {
     "data": {
      "text/plain": [
       "array([False,  True, False, ..., False, False, False])"
      ]
     },
     "execution_count": 61,
     "metadata": {},
     "output_type": "execute_result"
    }
   ],
   "source": [
    "def get_top_k_most_present_genes(\n",
    "    adata: AnnData,\n",
    "    k: int = 3501,\n",
    ") -> np.array:\n",
    "    \"\"\"\n",
    "    Filters genes based on the top `k` most present genes across samples.\n",
    "    If there are more genes with the same presence, the top `k` will be selected\n",
    "    based on variance as a secondary criterion.\n",
    "\n",
    "    Parameters:\n",
    "    - adata: AnnData object containing gene expression data\n",
    "    - k: The number of top genes to retain based on their presence across samples\n",
    "\n",
    "    Returns:\n",
    "    - A boolean array (mask) indicating which genes to keep.\n",
    "    \"\"\"\n",
    "    total_n_genes = adata.X.shape[1]\n",
    "    total_n_samples = adata.X.shape[0]\n",
    "\n",
    "    logging.info(f\"Nº genes: {total_n_genes}, Nº samples: {total_n_samples}\")\n",
    "\n",
    "    # Step 1: Count gene presence (non-NaN and non-zero values) across samples\n",
    "    count_presence = np.sum(~np.isnan(adata.X), axis=0)\n",
    "\n",
    "    # Step 2: Sort genes by presence in descending order\n",
    "    sorted_indices = np.argsort(count_presence)[::-1]\n",
    "\n",
    "    # Step 3: Handle the case where multiple genes have the same presence\n",
    "    top_k_indices = sorted_indices[:k]\n",
    "    \n",
    "    if k < len(sorted_indices) and count_presence[top_k_indices[-1]] == count_presence[sorted_indices[k]]:\n",
    "        min_presence = count_presence[top_k_indices[-1]]\n",
    "\n",
    "        # Step 4: Find all genes with the same presence as the cutoff\n",
    "        equal_presence_indices = sorted_indices[count_presence[sorted_indices] == min_presence]\n",
    "\n",
    "        # Step 5: If the number of equal presence genes exceeds `k`, use variance as a tie-breaker\n",
    "        remaining_slots = k - np.sum(count_presence[sorted_indices[:k]] > min_presence)\n",
    "        if len(equal_presence_indices) > remaining_slots:\n",
    "            # Compute variance for all genes\n",
    "            gene_variance = np.std(adata.X, axis=0)\n",
    "            \n",
    "            # Sort equal presence genes by variance in descending order\n",
    "            sorted_by_variance = equal_presence_indices[np.argsort(gene_variance[equal_presence_indices])[::-1]]\n",
    "\n",
    "            # Replace the last entries in the top `k` with highest variance genes from the tie\n",
    "            top_k_indices = np.concatenate(\n",
    "                [sorted_indices[count_presence[sorted_indices] > min_presence], \n",
    "                 sorted_by_variance[:remaining_slots]]\n",
    "            )\n",
    "        else:\n",
    "            top_k_indices = sorted_indices[:k]\n",
    "\n",
    "    # Step 6: Create a boolean mask for the top `k` genes\n",
    "    mask_top_k = np.zeros(total_n_genes, dtype=bool)\n",
    "    mask_top_k[top_k_indices] = True\n",
    "\n",
    "    logging.info(f\"Top {k} most present genes selected. - >= {min(count_presence[mask_top_k])}\")\n",
    "\n",
    "    return mask_top_k\n",
    "\n",
    "get_top_k_most_present_genes(adata_nw)"
   ]
  },
  {
   "cell_type": "code",
   "execution_count": 55,
   "metadata": {
    "vscode": {
     "languageId": "javascript"
    }
   },
   "outputs": [
    {
     "data": {
      "text/plain": [
       "12827"
      ]
     },
     "execution_count": 55,
     "metadata": {},
     "output_type": "execute_result"
    }
   ],
   "source": [
    "np.sum(np.sum(~np.isnan(adata_nw.X), axis=0)>=4561)"
   ]
  }
 ],
 "metadata": {
  "kernelspec": {
   "display_name": "scgpt",
   "language": "python",
   "name": "python3"
  },
  "language_info": {
   "codemirror_mode": {
    "name": "ipython",
    "version": 3
   },
   "file_extension": ".py",
   "mimetype": "text/x-python",
   "name": "python",
   "nbconvert_exporter": "python",
   "pygments_lexer": "ipython3",
   "version": "3.10.14"
  }
 },
 "nbformat": 4,
 "nbformat_minor": 2
}
