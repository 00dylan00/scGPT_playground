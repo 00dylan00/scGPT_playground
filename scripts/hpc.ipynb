{
 "cells": [
  {
   "cell_type": "code",
   "execution_count": 1,
   "metadata": {},
   "outputs": [
    {
     "name": "stderr",
     "output_type": "stream",
     "text": [
      "2024-08-30 13:35:22,432 :: INFO :: 'Stand tall, even in the mud. 🦶🌧' - Shreck\n",
      "2024-08-30 13:35:22,524 :: INFO :: Connected (version 2.0, client OpenSSH_8.0)\n",
      "2024-08-30 13:35:22,771 :: INFO :: Authentication (password) successful!\n",
      "2024-08-30 13:35:22,811 :: INFO :: 'Embrace the adventure of life. 🚀✨' - Shreck\n",
      "2024-08-30 13:35:22,878 :: INFO :: Connected (version 2.0, client OpenSSH_8.0)\n",
      "2024-08-30 13:35:23,137 :: INFO :: Authentication (password) successful!\n",
      "2024-08-30 13:35:23,137 :: INFO :: Running command: sbatch /aloy/home/ddalton/projects/scGPT_playground/scripts/job_6757.sh /aloy/home/ddalton/projects/scGPT_playground/scripts/pp_gex_data.py \n",
      "2024-08-30 13:35:23,274 :: INFO :: \n",
      "2024-08-30 13:35:23,274 :: INFO :: sbatch: error: Batch job submission failed: Invalid qos specification\n",
      "\n"
     ]
    },
    {
     "ename": "UnboundLocalError",
     "evalue": "cannot access local variable 'jobname_sh_path_new' where it is not associated with a value",
     "output_type": "error",
     "traceback": [
      "\u001b[0;31m---------------------------------------------------------------------------\u001b[0m",
      "\u001b[0;31mIndexError\u001b[0m                                Traceback (most recent call last)",
      "File \u001b[0;32m/aloy/home/ddalton/projects/ClusterSubmit/cluster_submitter/slurm.py:224\u001b[0m, in \u001b[0;36mSlurm._submit_single_job\u001b[0;34m(self, script_py, time, mem, cpus, array, offset, gpus, N, args, sh_path, eo_path, image, cc_image, os_remove, partition, exclude)\u001b[0m\n\u001b[1;32m    223\u001b[0m logging\u001b[38;5;241m.\u001b[39minfo(_stderr\u001b[38;5;241m.\u001b[39mread()\u001b[38;5;241m.\u001b[39mdecode())\n\u001b[0;32m--> 224\u001b[0m \u001b[38;5;28mself\u001b[39m\u001b[38;5;241m.\u001b[39mjob_id \u001b[38;5;241m=\u001b[39m \u001b[43moutput_message\u001b[49m\u001b[38;5;241;43m.\u001b[39;49m\u001b[43msplit\u001b[49m\u001b[43m(\u001b[49m\u001b[43m)\u001b[49m\u001b[43m[\u001b[49m\u001b[38;5;241;43m-\u001b[39;49m\u001b[38;5;241;43m1\u001b[39;49m\u001b[43m]\u001b[49m\n\u001b[1;32m    226\u001b[0m \u001b[38;5;66;03m# safely rename the bash script to the job_id ! !\u001b[39;00m\n",
      "\u001b[0;31mIndexError\u001b[0m: list index out of range",
      "\nDuring handling of the above exception, another exception occurred:\n",
      "\u001b[0;31mUnboundLocalError\u001b[0m                         Traceback (most recent call last)",
      "Cell \u001b[0;32mIn[1], line 20\u001b[0m\n\u001b[1;32m     17\u001b[0m slurm_job_manager \u001b[38;5;241m=\u001b[39m Slurm(\u001b[38;5;241m*\u001b[39m\u001b[38;5;241m*\u001b[39mslurm_config)\n\u001b[1;32m     19\u001b[0m \u001b[38;5;66;03m# Define job parameters for Slurm\u001b[39;00m\n\u001b[0;32m---> 20\u001b[0m \u001b[43mslurm_job_manager\u001b[49m\u001b[38;5;241;43m.\u001b[39;49m\u001b[43msubmit_job\u001b[49m\u001b[43m(\u001b[49m\n\u001b[1;32m     21\u001b[0m \u001b[43m    \u001b[49m\u001b[43mscript_py\u001b[49m\u001b[38;5;241;43m=\u001b[39;49m\u001b[38;5;124;43m\"\u001b[39;49m\u001b[38;5;124;43mpp_gex_data.py\u001b[39;49m\u001b[38;5;124;43m\"\u001b[39;49m\u001b[43m,\u001b[49m\n\u001b[1;32m     22\u001b[0m \u001b[43m    \u001b[49m\u001b[43mtime\u001b[49m\u001b[38;5;241;43m=\u001b[39;49m\u001b[38;5;124;43m\"\u001b[39;49m\u001b[38;5;124;43m0-1:00:00\u001b[39;49m\u001b[38;5;124;43m\"\u001b[39;49m\u001b[43m \u001b[49m\u001b[43m,\u001b[49m\n\u001b[1;32m     23\u001b[0m \u001b[43m    \u001b[49m\u001b[43mmem\u001b[49m\u001b[38;5;241;43m=\u001b[39;49m\u001b[38;5;241;43m120\u001b[39;49m\u001b[43m,\u001b[49m\n\u001b[1;32m     24\u001b[0m \u001b[43m    \u001b[49m\u001b[43mcpus\u001b[49m\u001b[38;5;241;43m=\u001b[39;49m\u001b[38;5;241;43m32\u001b[39;49m\u001b[43m,\u001b[49m\n\u001b[1;32m     25\u001b[0m \u001b[43m    \u001b[49m\u001b[43mN\u001b[49m\u001b[38;5;241;43m=\u001b[39;49m\u001b[38;5;124;43m\"\u001b[39;49m\u001b[38;5;124;43mpp_data\u001b[39;49m\u001b[38;5;124;43m\"\u001b[39;49m\u001b[43m,\u001b[49m\n\u001b[1;32m     26\u001b[0m \u001b[43m    \u001b[49m\u001b[38;5;66;43;03m# gpus=1,\u001b[39;49;00m\n\u001b[1;32m     27\u001b[0m \u001b[43m    \u001b[49m\u001b[43msh_path\u001b[49m\u001b[38;5;241;43m=\u001b[39;49m\u001b[38;5;124;43m\"\u001b[39;49m\u001b[38;5;124;43m../scripts\u001b[39;49m\u001b[38;5;124;43m\"\u001b[39;49m\u001b[43m,\u001b[49m\n\u001b[1;32m     28\u001b[0m \u001b[43m    \u001b[49m\u001b[43meo_path\u001b[49m\u001b[38;5;241;43m=\u001b[39;49m\u001b[38;5;124;43m\"\u001b[39;49m\u001b[38;5;124;43mlogs/\u001b[39;49m\u001b[38;5;124;43m\"\u001b[39;49m\u001b[43m,\u001b[49m\u001b[43m  \u001b[49m\u001b[38;5;66;43;03m# Replace with your log directory\u001b[39;49;00m\n\u001b[1;32m     29\u001b[0m \u001b[43m    \u001b[49m\u001b[43mimage\u001b[49m\u001b[38;5;241;43m=\u001b[39;49m\u001b[38;5;124;43m\"\u001b[39;49m\u001b[38;5;124;43m/aloy/home/ddalton/singularity_images/scgpt.sif\u001b[39;49m\u001b[38;5;124;43m\"\u001b[39;49m\u001b[43m,\u001b[49m\u001b[43m  \u001b[49m\u001b[38;5;66;43;03m# Replace with your Singularity image\u001b[39;49;00m\n\u001b[1;32m     30\u001b[0m \u001b[43m    \u001b[49m\u001b[43mcc_image\u001b[49m\u001b[38;5;241;43m=\u001b[39;49m\u001b[38;5;28;43;01mFalse\u001b[39;49;00m\u001b[43m,\u001b[49m\n\u001b[1;32m     31\u001b[0m \u001b[43m    \u001b[49m\u001b[43mos_remove\u001b[49m\u001b[38;5;241;43m=\u001b[39;49m\u001b[38;5;28;43;01mTrue\u001b[39;49;00m\u001b[43m,\u001b[49m\n\u001b[1;32m     32\u001b[0m \u001b[43m    \u001b[49m\u001b[38;5;66;43;03m# partition=\"sbnb-gpu\",\u001b[39;49;00m\n\u001b[1;32m     33\u001b[0m \u001b[43m    \u001b[49m\u001b[38;5;66;43;03m# partition=\"irb_gpu_3090\",  # Replace with your partition\u001b[39;49;00m\n\u001b[1;32m     34\u001b[0m \u001b[43m    \u001b[49m\u001b[38;5;66;43;03m# exclude=\"node[01-05]\"  # Replace with nodes to exclude if necessary\u001b[39;49;00m\n\u001b[1;32m     35\u001b[0m \u001b[43m)\u001b[49m\n\u001b[1;32m     37\u001b[0m \u001b[38;5;66;03m# Print confirmation\u001b[39;00m\n\u001b[1;32m     38\u001b[0m \u001b[38;5;28mprint\u001b[39m(\u001b[38;5;124m\"\u001b[39m\u001b[38;5;124mJob submitted to Slurm successfully!\u001b[39m\u001b[38;5;124m\"\u001b[39m)\n",
      "File \u001b[0;32m/aloy/home/ddalton/projects/ClusterSubmit/cluster_submitter/slurm.py:75\u001b[0m, in \u001b[0;36mSlurm.submit_job\u001b[0;34m(self, script_py, time, mem, cpus, n_array, gpus, N, args, sh_path, eo_path, image, cc_image, os_remove, partition, exclude)\u001b[0m\n\u001b[1;32m     70\u001b[0m         \u001b[38;5;28mself\u001b[39m\u001b[38;5;241m.\u001b[39m_submit_single_job(script_py, time, mem, cpus, array\u001b[38;5;241m=\u001b[39m\u001b[38;5;124mf\u001b[39m\u001b[38;5;124m\"\u001b[39m\u001b[38;5;124m1-\u001b[39m\u001b[38;5;132;01m{\u001b[39;00mn_jobs_last\u001b[38;5;132;01m}\u001b[39;00m\u001b[38;5;124m\"\u001b[39m, offset\u001b[38;5;241m=\u001b[39mn_jobs\u001b[38;5;241m*\u001b[39mmax_jobs, gpus\u001b[38;5;241m=\u001b[39mgpus, N\u001b[38;5;241m=\u001b[39mN, args\u001b[38;5;241m=\u001b[39margs,\n\u001b[1;32m     71\u001b[0m            sh_path\u001b[38;5;241m=\u001b[39msh_path, eo_path\u001b[38;5;241m=\u001b[39meo_path, image\u001b[38;5;241m=\u001b[39mimage, cc_image\u001b[38;5;241m=\u001b[39mcc_image,\n\u001b[1;32m     72\u001b[0m            os_remove\u001b[38;5;241m=\u001b[39mos_remove, partition\u001b[38;5;241m=\u001b[39mpartition, exclude\u001b[38;5;241m=\u001b[39mexclude)\n\u001b[1;32m     74\u001b[0m \u001b[38;5;28;01melse\u001b[39;00m:\n\u001b[0;32m---> 75\u001b[0m     \u001b[38;5;28;43mself\u001b[39;49m\u001b[38;5;241;43m.\u001b[39;49m\u001b[43m_submit_single_job\u001b[49m\u001b[43m(\u001b[49m\u001b[43mscript_py\u001b[49m\u001b[43m,\u001b[49m\u001b[43m \u001b[49m\u001b[43mtime\u001b[49m\u001b[43m,\u001b[49m\u001b[43m \u001b[49m\u001b[43mmem\u001b[49m\u001b[43m,\u001b[49m\u001b[43m \u001b[49m\u001b[43mcpus\u001b[49m\u001b[43m,\u001b[49m\u001b[43m \u001b[49m\u001b[43marray\u001b[49m\u001b[38;5;241;43m=\u001b[39;49m\u001b[38;5;28;43;01mNone\u001b[39;49;00m\u001b[43m,\u001b[49m\u001b[43m \u001b[49m\u001b[43mgpus\u001b[49m\u001b[38;5;241;43m=\u001b[39;49m\u001b[43mgpus\u001b[49m\u001b[43m,\u001b[49m\u001b[43m \u001b[49m\u001b[43mN\u001b[49m\u001b[38;5;241;43m=\u001b[39;49m\u001b[43mN\u001b[49m\u001b[43m,\u001b[49m\u001b[43m \u001b[49m\u001b[43margs\u001b[49m\u001b[38;5;241;43m=\u001b[39;49m\u001b[43margs\u001b[49m\u001b[43m,\u001b[49m\n\u001b[1;32m     76\u001b[0m \u001b[43m           \u001b[49m\u001b[43msh_path\u001b[49m\u001b[38;5;241;43m=\u001b[39;49m\u001b[43msh_path\u001b[49m\u001b[43m,\u001b[49m\u001b[43m \u001b[49m\u001b[43meo_path\u001b[49m\u001b[38;5;241;43m=\u001b[39;49m\u001b[43meo_path\u001b[49m\u001b[43m,\u001b[49m\u001b[43m \u001b[49m\u001b[43mimage\u001b[49m\u001b[38;5;241;43m=\u001b[39;49m\u001b[43mimage\u001b[49m\u001b[43m,\u001b[49m\u001b[43m \u001b[49m\u001b[43mcc_image\u001b[49m\u001b[38;5;241;43m=\u001b[39;49m\u001b[43mcc_image\u001b[49m\u001b[43m,\u001b[49m\n\u001b[1;32m     77\u001b[0m \u001b[43m           \u001b[49m\u001b[43mos_remove\u001b[49m\u001b[38;5;241;43m=\u001b[39;49m\u001b[43mos_remove\u001b[49m\u001b[43m,\u001b[49m\u001b[43m \u001b[49m\u001b[43mpartition\u001b[49m\u001b[38;5;241;43m=\u001b[39;49m\u001b[43mpartition\u001b[49m\u001b[43m,\u001b[49m\u001b[43m \u001b[49m\u001b[43mexclude\u001b[49m\u001b[38;5;241;43m=\u001b[39;49m\u001b[43mexclude\u001b[49m\u001b[43m)\u001b[49m\n",
      "File \u001b[0;32m/aloy/home/ddalton/projects/ClusterSubmit/cluster_submitter/slurm.py:238\u001b[0m, in \u001b[0;36mSlurm._submit_single_job\u001b[0;34m(self, script_py, time, mem, cpus, array, offset, gpus, N, args, sh_path, eo_path, image, cc_image, os_remove, partition, exclude)\u001b[0m\n\u001b[1;32m    236\u001b[0m \u001b[38;5;28;01mif\u001b[39;00m \u001b[38;5;28mself\u001b[39m\u001b[38;5;241m.\u001b[39mssh:\n\u001b[1;32m    237\u001b[0m     \u001b[38;5;28mself\u001b[39m\u001b[38;5;241m.\u001b[39mssh\u001b[38;5;241m.\u001b[39mclose()\n\u001b[0;32m--> 238\u001b[0m \u001b[38;5;28;01mif\u001b[39;00m os_remove \u001b[38;5;129;01mand\u001b[39;00m os\u001b[38;5;241m.\u001b[39mpath\u001b[38;5;241m.\u001b[39mexists(\u001b[43mjobname_sh_path_new\u001b[49m):\n\u001b[1;32m    239\u001b[0m     os\u001b[38;5;241m.\u001b[39mremove(jobname_sh_path_new)\n",
      "\u001b[0;31mUnboundLocalError\u001b[0m: cannot access local variable 'jobname_sh_path_new' where it is not associated with a value"
     ]
    }
   ],
   "source": [
    "# imports\n",
    "import sys, os, json\n",
    "\n",
    "sys.path.insert(0, \"/aloy/home/ddalton/projects/ClusterSubmit\")\n",
    "from cluster_submitter.slurm import Slurm\n",
    "from cluster_submitter import *\n",
    "\n",
    "# variables\n",
    "\n",
    "# functions\n",
    "\n",
    "# Load Config\n",
    "with open(\"config/config.irb_cluster.json\", \"r\") as f:\n",
    "    slurm_config = json.load(f)\n",
    "\n",
    "# Initialize Slurm for Slurm\n",
    "slurm_job_manager = Slurm(**slurm_config)\n",
    "\n",
    "# Define job parameters for Slurm\n",
    "slurm_job_manager.submit_job(\n",
    "    script_py=\"pp_gex_data.py\",\n",
    "    time=\"0-1:00:00\" ,\n",
    "    mem=120,\n",
    "    cpus=32,\n",
    "    N=\"pp_data\",\n",
    "    # gpus=1,\n",
    "    sh_path=\"../scripts\",\n",
    "    eo_path=\"logs/\",  # Replace with your log directory\n",
    "    image=\"/aloy/home/ddalton/singularity_images/scgpt.sif\",  # Replace with your Singularity image\n",
    "    cc_image=False,\n",
    "    os_remove=True,\n",
    "    # partition=\"sbnb-gpu\",\n",
    "    # partition=\"irb_gpu_3090\",  # Replace with your partition\n",
    "    # exclude=\"node[01-05]\"  # Replace with nodes to exclude if necessary\n",
    ")\n",
    "\n",
    "# Print confirmation\n",
    "print(\"Job submitted to Slurm successfully!\")"
   ]
  },
  {
   "cell_type": "code",
   "execution_count": null,
   "metadata": {},
   "outputs": [
    {
     "name": "stderr",
     "output_type": "stream",
     "text": [
      "2024-08-30 11:56:45,190 :: INFO :: 'Find the beauty in the ordinary. 🌼🌟' - Shreck\n",
      "2024-08-30 11:56:45,208 :: INFO :: Connected (version 2.0, client OpenSSH_8.0)\n",
      "2024-08-30 11:56:45,346 :: INFO :: Authentication (password) successful!\n",
      "2024-08-30 11:56:45,346 :: INFO :: Running command: squeue -u ddalton\n",
      "2024-08-30 11:56:45,451 :: INFO ::              JOBID PARTITION     NAME     USER ST       TIME  NODES NODELIST(REASON)\n",
      "           1492650 irb_gpu_3 fine_tun  ddalton PD       0:00      1 (None)\n",
      "\n",
      "2024-08-30 11:56:45,451 :: INFO :: \n"
     ]
    }
   ],
   "source": [
    "slurm_job_manager.get_status()"
   ]
  },
  {
   "cell_type": "code",
   "execution_count": 15,
   "metadata": {},
   "outputs": [
    {
     "ename": "AttributeError",
     "evalue": "'Slurm' object has no attribute 'job_id'",
     "output_type": "error",
     "traceback": [
      "\u001b[0;31m---------------------------------------------------------------------------\u001b[0m",
      "\u001b[0;31mAttributeError\u001b[0m                            Traceback (most recent call last)",
      "Cell \u001b[0;32mIn[15], line 1\u001b[0m\n\u001b[0;32m----> 1\u001b[0m \u001b[43mslurm_job_manager\u001b[49m\u001b[38;5;241;43m.\u001b[39;49m\u001b[43mlogs\u001b[49m\u001b[43m(\u001b[49m\u001b[43m)\u001b[49m\n",
      "File \u001b[0;32m/aloy/home/ddalton/projects/ClusterSubmit/cluster_submitter/slurm.py:308\u001b[0m, in \u001b[0;36mSlurm.logs\u001b[0;34m(self)\u001b[0m\n\u001b[1;32m    302\u001b[0m \u001b[38;5;250m\u001b[39m\u001b[38;5;124;03m\"\"\"Print the logs of the submitted job.\u001b[39;00m\n\u001b[1;32m    303\u001b[0m \u001b[38;5;124;03mFor that open the output and error log files.\"\"\"\u001b[39;00m\n\u001b[1;32m    305\u001b[0m \u001b[38;5;28;01mfrom\u001b[39;00m \u001b[38;5;21;01mtime\u001b[39;00m \u001b[38;5;28;01mimport\u001b[39;00m sleep\n\u001b[0;32m--> 308\u001b[0m output_path \u001b[38;5;241m=\u001b[39m os\u001b[38;5;241m.\u001b[39mpath\u001b[38;5;241m.\u001b[39mjoin(\u001b[38;5;28mself\u001b[39m\u001b[38;5;241m.\u001b[39meo_path,\u001b[38;5;124mf\u001b[39m\u001b[38;5;124m\"\u001b[39m\u001b[38;5;132;01m{\u001b[39;00m\u001b[38;5;28mself\u001b[39m\u001b[38;5;241m.\u001b[39mN\u001b[38;5;132;01m}\u001b[39;00m\u001b[38;5;124m.\u001b[39m\u001b[38;5;132;01m{\u001b[39;00m\u001b[38;5;28;43mself\u001b[39;49m\u001b[38;5;241;43m.\u001b[39;49m\u001b[43mjob_id\u001b[49m\u001b[38;5;132;01m}\u001b[39;00m\u001b[38;5;124m.out\u001b[39m\u001b[38;5;124m\"\u001b[39m)\n\u001b[1;32m    310\u001b[0m \u001b[38;5;28;01mfor\u001b[39;00m i \u001b[38;5;129;01min\u001b[39;00m \u001b[38;5;28mrange\u001b[39m(\u001b[38;5;241m10\u001b[39m):\n\u001b[1;32m    312\u001b[0m     \u001b[38;5;28;01mif\u001b[39;00m os\u001b[38;5;241m.\u001b[39mpath\u001b[38;5;241m.\u001b[39mexists(output_path):\n",
      "\u001b[0;31mAttributeError\u001b[0m: 'Slurm' object has no attribute 'job_id'"
     ]
    }
   ],
   "source": [
    "slurm_job_manager.logs()"
   ]
  }
 ],
 "metadata": {
  "kernelspec": {
   "display_name": "ClusterSubmitter",
   "language": "python",
   "name": "python3"
  },
  "language_info": {
   "codemirror_mode": {
    "name": "ipython",
    "version": 3
   },
   "file_extension": ".py",
   "mimetype": "text/x-python",
   "name": "python",
   "nbconvert_exporter": "python",
   "pygments_lexer": "ipython3",
   "version": "3.12.3"
  }
 },
 "nbformat": 4,
 "nbformat_minor": 2
}
