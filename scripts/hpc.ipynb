{
 "cells": [
  {
   "cell_type": "code",
   "execution_count": 1,
   "metadata": {},
   "outputs": [
    {
     "name": "stderr",
     "output_type": "stream",
     "text": [
      "2024-09-02 18:25:47,088 :: INFO :: 'You have the power to change your life. 🏰📖' - Shreck\n",
      "2024-09-02 18:26:06,684 :: INFO :: Connected (version 2.0, client OpenSSH_8.0)\n",
      "2024-09-02 18:26:07,903 :: INFO :: Authentication (password) successful!\n",
      "2024-09-02 18:26:07,907 :: INFO :: 'Every day is a new chapter. 📖✨' - Shreck\n",
      "2024-09-02 18:26:07,931 :: INFO :: Connected (version 2.0, client OpenSSH_8.0)\n",
      "2024-09-02 18:26:08,126 :: INFO :: Authentication (password) successful!\n",
      "2024-09-02 18:26:08,126 :: INFO :: Running command: sbatch /aloy/home/ddalton/projects/scGPT_playground/scripts/job_e7f8.sh /aloy/home/ddalton/projects/scGPT_playground/scripts/metadata.py \n",
      "2024-09-02 18:26:08,293 :: INFO :: Submitted batch job 1492963\n",
      "2024-09-02 18:26:08,293 :: INFO :: \n"
     ]
    },
    {
     "name": "stdout",
     "output_type": "stream",
     "text": [
      "Job submitted to Slurm successfully!\n"
     ]
    }
   ],
   "source": [
    "# imports\n",
    "import sys, os, json\n",
    "\n",
    "sys.path.insert(0, \"/aloy/home/ddalton/projects/ClusterSubmit\")\n",
    "from cluster_submitter.slurm import Slurm\n",
    "from cluster_submitter import *\n",
    "\n",
    "# variables\n",
    "\n",
    "# functions\n",
    "\n",
    "# Load Config\n",
    "with open(\"config/config.irb_cluster.json\", \"r\") as f:\n",
    "    slurm_config = json.load(f)\n",
    "\n",
    "# Initialize Slurm for Slurm\n",
    "slurm_job_manager = Slurm(**slurm_config)\n",
    "\n",
    "# Define job parameters for Slurm\n",
    "slurm_job_manager.submit_job(\n",
    "    script_py=\"pp_gex_data.py\",\n",
    "    time=\"0-10:00:00\" ,\n",
    "    mem=200,\n",
    "    cpus=48,\n",
    "    N=\"pp_gex\",\n",
    "    # gpus=1,\n",
    "    sh_path=\"../scripts\",\n",
    "    eo_path=\"logs/\",  # Replace with your log directory\n",
    "    image=\"/aloy/home/ddalton/singularity_images/scgpt.sif\",  # Replace with your Singularity image\n",
    "    cc_image=False,\n",
    "    os_remove=True,\n",
    "    partition = \"sbnb_cpu_zen3\",\n",
    "    # partition=\"sbnb-gpu\",\n",
    "    # partition=\"irb_gpu_3090\",  # Replace with your partition\n",
    "    # exclude=\"node[01-05]\"  # Replace with nodes to exclude if necessary\n",
    ")\n",
    "\n",
    "# Print confirmation\n",
    "print(\"Job submitted to Slurm successfully!\")"
   ]
  },
  {
   "cell_type": "code",
   "execution_count": 2,
   "metadata": {},
   "outputs": [
    {
     "name": "stderr",
     "output_type": "stream",
     "text": [
      "2024-09-02 18:26:08,298 :: INFO :: 'Find your strength in the swamp. 🌿💪' - Shreck\n",
      "2024-09-02 18:26:08,319 :: INFO :: Connected (version 2.0, client OpenSSH_8.0)\n",
      "2024-09-02 18:26:08,480 :: INFO :: Authentication (password) successful!\n",
      "2024-09-02 18:26:08,481 :: INFO :: Running command: squeue -u ddalton\n",
      "2024-09-02 18:26:08,616 :: INFO ::              JOBID PARTITION     NAME     USER ST       TIME  NODES NODELIST(REASON)\n",
      "           1492963 sbnb_cpu_ metadata  ddalton PD       0:00      1 (None)\n",
      "\n",
      "2024-09-02 18:26:08,617 :: INFO :: \n"
     ]
    }
   ],
   "source": [
    "slurm_job_manager.get_status()"
   ]
  },
  {
   "cell_type": "code",
   "execution_count": 4,
   "metadata": {},
   "outputs": [
    {
     "name": "stderr",
     "output_type": "stream",
     "text": [
      "2024-09-02 18:27:18,079 :: INFO :: Output log file: logs/metadata.1492963.out\n"
     ]
    },
    {
     "name": "stdout",
     "output_type": "stream",
     "text": [
      "Traceback (most recent call last):\n",
      "  File \"/aloy/home/ddalton/projects/scGPT_playground/scripts/metadata.py\", line 18, in <module>\n",
      "    adata = sc.read(data_path)\n",
      "  File \"/opt/conda/lib/python3.10/site-packages/legacy_api_wrap/__init__.py\", line 80, in fn_compatible\n",
      "    return fn(*args_all, **kw)\n",
      "  File \"/opt/conda/lib/python3.10/site-packages/scanpy/readwrite.py\", line 129, in read\n",
      "    return _read(\n",
      "  File \"/opt/conda/lib/python3.10/site-packages/scanpy/readwrite.py\", line 764, in _read\n",
      "    return read_h5ad(filename, backed=backed)\n",
      "  File \"/opt/conda/lib/python3.10/site-packages/anndata/_io/h5ad.py\", line 237, in read_h5ad\n",
      "    with h5py.File(filename, \"r\") as f:\n",
      "  File \"/opt/conda/lib/python3.10/site-packages/h5py/_hl/files.py\", line 562, in __init__\n",
      "    fid = make_fid(name, mode, userblock_size, fapl, fcpl, swmr=swmr)\n",
      "  File \"/opt/conda/lib/python3.10/site-packages/h5py/_hl/files.py\", line 235, in make_fid\n",
      "    fid = h5f.open(name, flags, fapl=fapl)\n",
      "  File \"h5py/_objects.pyx\", line 54, in h5py._objects.with_phil.wrapper\n",
      "  File \"h5py/_objects.pyx\", line 55, in h5py._objects.with_phil.wrapper\n",
      "  File \"h5py/h5f.pyx\", line 102, in h5py.h5f.open\n",
      "OSError: Unable to synchronously open file (truncated file: eof = 96, sblock->base_addr = 0, stored_eof = 2048)\n",
      "\n"
     ]
    }
   ],
   "source": [
    "slurm_job_manager.logs()"
   ]
  }
 ],
 "metadata": {
  "kernelspec": {
   "display_name": "ClusterSubmitter",
   "language": "python",
   "name": "python3"
  },
  "language_info": {
   "codemirror_mode": {
    "name": "ipython",
    "version": 3
   },
   "file_extension": ".py",
   "mimetype": "text/x-python",
   "name": "python",
   "nbconvert_exporter": "python",
   "pygments_lexer": "ipython3",
   "version": "3.12.3"
  }
 },
 "nbformat": 4,
 "nbformat_minor": 2
}
