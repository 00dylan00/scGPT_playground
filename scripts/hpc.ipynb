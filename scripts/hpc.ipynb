{
 "cells": [
  {
   "cell_type": "code",
   "execution_count": 29,
   "metadata": {},
   "outputs": [
    {
     "name": "stderr",
     "output_type": "stream",
     "text": [
      "2024-09-26 13:16:22,248 :: INFO :: Connected (version 2.0, client OpenSSH_8.0)\n"
     ]
    },
    {
     "name": "stderr",
     "output_type": "stream",
     "text": [
      "2024-09-26 13:16:22,393 :: INFO :: Authentication (password) successful!\n",
      "2024-09-26 13:16:22,402 :: INFO :: 'Find joy in the simple moments. 🌼✨' - Shreck\n",
      "2024-09-26 13:16:22,424 :: INFO :: Connected (version 2.0, client OpenSSH_8.0)\n",
      "2024-09-26 13:16:22,571 :: INFO :: Authentication (password) successful!\n",
      "2024-09-26 13:16:22,571 :: INFO :: Running command: sbatch /aloy/home/ddalton/projects/scGPT_playground/scripts/job_89c2.sh /aloy/home/ddalton/projects/scGPT_playground/scripts/whoami.py \n",
      "2024-09-26 13:16:22,685 :: INFO :: Submitted batch job 1552139\n",
      "2024-09-26 13:16:22,685 :: INFO :: \n"
     ]
    },
    {
     "name": "stdout",
     "output_type": "stream",
     "text": [
      "Job submitted to Slurm successfully!\n"
     ]
    }
   ],
   "source": [
    "# imports\n",
    "import sys, os, json\n",
    "\n",
    "sys.path.insert(0, \"/aloy/home/ddalton/projects/ClusterSubmit\")\n",
    "from cluster_submitter.slurm import Slurm\n",
    "from cluster_submitter import *\n",
    "\n",
    "# variables\n",
    "\n",
    "# functions\n",
    "\n",
    "# Load Config\n",
    "with open(\"config/config.irb_cluster.json\", \"r\") as f:\n",
    "    slurm_config = json.load(f)\n",
    "\n",
    "# Initialize Slurm for Slurm\n",
    "slurm_job_manager = Slurm(**slurm_config)\n",
    "\n",
    "\n",
    "# Define job parameters for Slurm\n",
    "slurm_job_manager.submit_job(\n",
    "    # script_py=\"Tutorial_Annotation.nb_clean.py\",\n",
    "    # script_py=\"test_gpu.py\",\n",
    "    # script_py=\"/aloy/home/ddalton/projects/scGPT/playground/Tutorial_Annotation.nb_clean.py\",\n",
    "    # script_py=\"pp_gex_data.py\",\n",
    "    script_py=\"whoami.py\",\n",
    "    time=\"0-00:05:00\",\n",
    "    mem=5,\n",
    "    cpus=1,\n",
    "    N=\"test_yasmmin\",\n",
    "    # gpus=1,\n",
    "    sh_path=\"../scripts\",\n",
    "    eo_path=\"logs/\",  # Replace with your log directory\n",
    "    image=\"/aloy/home/ddalton/singularity_images/scgpt.sif\",  # Replace with your Singularity image\n",
    "    cc_image=False,\n",
    "    os_remove=True,\n",
    "    partition=\"sbnb_cpu_zen3\",\n",
    "    # partition=\"sbnb-gpu\",\n",
    "    # partition=\"irb_gpu_3090\",  # Replace with your partition\n",
    "    # exclude=\"node[01-05]\"  # Replace with nodes to exclude if necessary\n",
    ")\n",
    "\n",
    "# Print confirmation\n",
    "print(\"Job submitted to Slurm successfully!\")"
   ]
  },
  {
   "cell_type": "code",
   "execution_count": 17,
   "metadata": {},
   "outputs": [
    {
     "name": "stderr",
     "output_type": "stream",
     "text": [
      "2024-09-25 23:04:11,410 :: INFO :: Connected (version 2.0, client OpenSSH_8.0)\n"
     ]
    },
    {
     "name": "stderr",
     "output_type": "stream",
     "text": [
      "2024-09-25 23:04:11,550 :: INFO :: Authentication (password) successful!\n",
      "2024-09-25 23:04:11,553 :: INFO :: 'You are more than your layers. 🧅💚' - Shreck\n",
      "2024-09-25 23:04:11,573 :: INFO :: Connected (version 2.0, client OpenSSH_8.0)\n",
      "2024-09-25 23:04:11,709 :: INFO :: Authentication (password) successful!\n",
      "2024-09-25 23:04:11,709 :: INFO :: Running command: sbatch /aloy/home/ddalton/projects/scGPT_playground/scripts/job_b96c.sh /aloy/home/ddalton/projects/scGPT_playground/scripts/Tutorial_Annotation.nb_clean.py --data_path /aloy/home/ddalton/projects/scGPT_playground/data/pp_data-24-09-25-01/data.h5ad \n",
      "2024-09-25 23:04:11,823 :: INFO :: Submitted batch job 1546912\n",
      "2024-09-25 23:04:11,823 :: INFO :: \n",
      "2024-09-25 23:04:11,826 :: INFO :: 'You are more than your layers. 🧅💚' - Shreck\n",
      "2024-09-25 23:04:11,847 :: INFO :: Connected (version 2.0, client OpenSSH_8.0)\n",
      "2024-09-25 23:04:11,985 :: INFO :: Authentication (password) successful!\n",
      "2024-09-25 23:04:11,985 :: INFO :: Running command: sbatch /aloy/home/ddalton/projects/scGPT_playground/scripts/job_4699.sh /aloy/home/ddalton/projects/scGPT_playground/scripts/Tutorial_Annotation.nb_clean.py --data_path /aloy/home/ddalton/projects/scGPT_playground/data/pp_data-24-09-25-02/data.h5ad \n"
     ]
    },
    {
     "name": "stdout",
     "output_type": "stream",
     "text": [
      "Job submitted to Slurm successfully!\n"
     ]
    },
    {
     "name": "stderr",
     "output_type": "stream",
     "text": [
      "2024-09-25 23:04:12,101 :: INFO :: Submitted batch job 1546913\n",
      "2024-09-25 23:04:12,101 :: INFO :: \n",
      "2024-09-25 23:04:12,105 :: INFO :: 'True friends make the journey worthwhile. 🤝💫' - Shreck\n",
      "2024-09-25 23:04:12,123 :: INFO :: Connected (version 2.0, client OpenSSH_8.0)\n",
      "2024-09-25 23:04:12,270 :: INFO :: Authentication (password) successful!\n",
      "2024-09-25 23:04:12,270 :: INFO :: Running command: sbatch /aloy/home/ddalton/projects/scGPT_playground/scripts/job_f8e5.sh /aloy/home/ddalton/projects/scGPT_playground/scripts/Tutorial_Annotation.nb_clean.py --data_path /aloy/home/ddalton/projects/scGPT_playground/data/pp_data-24-09-25-03/data.h5ad \n"
     ]
    },
    {
     "name": "stdout",
     "output_type": "stream",
     "text": [
      "Job submitted to Slurm successfully!\n"
     ]
    },
    {
     "name": "stderr",
     "output_type": "stream",
     "text": [
      "2024-09-25 23:04:12,388 :: INFO :: Submitted batch job 1546914\n",
      "2024-09-25 23:04:12,389 :: INFO :: \n"
     ]
    },
    {
     "name": "stdout",
     "output_type": "stream",
     "text": [
      "Job submitted to Slurm successfully!\n"
     ]
    }
   ],
   "source": [
    "# imports\n",
    "import sys, os, json\n",
    "\n",
    "sys.path.insert(0, \"/aloy/home/ddalton/projects/ClusterSubmit\")\n",
    "from cluster_submitter.slurm import Slurm\n",
    "from cluster_submitter import *\n",
    "\n",
    "# variables\n",
    "\n",
    "# functions\n",
    "\n",
    "# Load Config\n",
    "with open(\"config/config.irb_cluster.json\", \"r\") as f:\n",
    "    slurm_config = json.load(f)\n",
    "\n",
    "# Initialize Slurm for Slurm\n",
    "slurm_job_manager = Slurm(**slurm_config)\n",
    "\n",
    "\n",
    "data_paths = [\n",
    "    \"/aloy/home/ddalton/projects/scGPT_playground/data/pp_data-24-09-25-01/data.h5ad\",\n",
    "    \"/aloy/home/ddalton/projects/scGPT_playground/data/pp_data-24-09-25-02/data.h5ad\",\n",
    "    \"/aloy/home/ddalton/projects/scGPT_playground/data/pp_data-24-09-25-03/data.h5ad\",\n",
    "]\n",
    "for i, data_path in enumerate(data_paths):\n",
    "    # Define job parameters for Slurm\n",
    "    slurm_job_manager.submit_job(\n",
    "        script_py=f\"Tutorial_Annotation.nb_clean.py --data_path {data_path} --max_seq_len 3501 --batch_size 16\",\n",
    "        time=\"0-12:00:00\",\n",
    "        mem=70,\n",
    "        cpus=10,\n",
    "        N=f\"run_{i}\",\n",
    "        gpus=1,\n",
    "        sh_path=\"../scripts\",\n",
    "        eo_path=\"logs/\",  # Replace with your log directory\n",
    "        image=\"/aloy/home/ddalton/singularity_images/scgpt.sif\",  # Replace with your Singularity image\n",
    "        cc_image=False,\n",
    "        os_remove=True,\n",
    "    )\n",
    "\n",
    "    # Print confirmation\n",
    "    print(\"Job submitted to Slurm successfully!\")"
   ]
  },
  {
   "cell_type": "code",
   "execution_count": 10,
   "metadata": {},
   "outputs": [
    {
     "name": "stderr",
     "output_type": "stream",
     "text": [
      "2024-09-25 23:02:29,308 :: INFO :: Connected (version 2.0, client OpenSSH_8.0)\n"
     ]
    },
    {
     "name": "stderr",
     "output_type": "stream",
     "text": [
      "2024-09-25 23:02:29,448 :: INFO :: Authentication (password) successful!\n",
      "2024-09-25 23:02:29,450 :: INFO :: 'Make your own magic every day. 🪄✨' - Shreck\n",
      "2024-09-25 23:02:29,471 :: INFO :: Connected (version 2.0, client OpenSSH_8.0)\n",
      "2024-09-25 23:02:29,607 :: INFO :: Authentication (password) successful!\n",
      "2024-09-25 23:02:29,607 :: INFO :: Running command: sbatch /aloy/home/ddalton/projects/scGPT_playground/scripts/job_5437.sh /aloy/home/ddalton/projects/scGPT_playground/scripts/Tutorial_Annotation.nb_clean.py --data_path /aloy/home/ddalton/projects/scGPT_playground/data/pp_data-24-09-25-01/data.h5ad --n_splits 3 \n",
      "2024-09-25 23:02:29,721 :: INFO :: Submitted batch job 1546910\n",
      "2024-09-25 23:02:29,721 :: INFO :: \n",
      "2024-09-25 23:02:29,724 :: INFO :: 'True friends are a treasure. 🤝💫' - Shreck\n",
      "2024-09-25 23:02:29,743 :: INFO :: Connected (version 2.0, client OpenSSH_8.0)\n",
      "2024-09-25 23:02:29,881 :: INFO :: Authentication (password) successful!\n",
      "2024-09-25 23:02:29,882 :: INFO :: Running command: sbatch /aloy/home/ddalton/projects/scGPT_playground/scripts/job_5b4c.sh /aloy/home/ddalton/projects/scGPT_playground/scripts/Tutorial_Annotation.nb_clean.py --data_path /aloy/home/ddalton/projects/scGPT_playground/data/pp_data-24-09-25-01/data.h5ad --n_splits 5 \n"
     ]
    },
    {
     "name": "stdout",
     "output_type": "stream",
     "text": [
      "Job submitted to Slurm successfully!\n"
     ]
    },
    {
     "name": "stderr",
     "output_type": "stream",
     "text": [
      "2024-09-25 23:02:29,995 :: INFO :: Submitted batch job 1546911\n",
      "2024-09-25 23:02:29,996 :: INFO :: \n"
     ]
    },
    {
     "name": "stdout",
     "output_type": "stream",
     "text": [
      "Job submitted to Slurm successfully!\n"
     ]
    }
   ],
   "source": [
    "# imports\n",
    "import sys, os, json\n",
    "\n",
    "sys.path.insert(0, \"/aloy/home/ddalton/projects/ClusterSubmit\")\n",
    "from cluster_submitter.slurm import Slurm\n",
    "from cluster_submitter import *\n",
    "\n",
    "# variables\n",
    "\n",
    "# functions\n",
    "\n",
    "# Load Config\n",
    "with open(\"config/config.irb_cluster.json\", \"r\") as f:\n",
    "    slurm_config = json.load(f)\n",
    "\n",
    "# Initialize Slurm for Slurm\n",
    "slurm_job_manager = Slurm(**slurm_config)\n",
    "\n",
    "\n",
    "data_path = (\n",
    "    \"/aloy/home/ddalton/projects/scGPT_playground/data/pp_data-24-09-25-01/data.h5ad\"\n",
    ")\n",
    "for i, n_splits in enumerate([3, 5]):\n",
    "    # Define job parameters for Slurm\n",
    "    slurm_job_manager.submit_job(\n",
    "        script_py=f\"Tutorial_Annotation.nb_clean.py --data_path {data_path} --n_splits {n_splits}\",\n",
    "        time=\"0-12:00:00\",\n",
    "        mem=70,\n",
    "        cpus=10,\n",
    "        N=f\"splits_{i}\",\n",
    "        gpus=1,\n",
    "        sh_path=\"../scripts\",\n",
    "        eo_path=\"logs/\",  # Replace with your log directory\n",
    "        image=\"/aloy/home/ddalton/singularity_images/scgpt.sif\",  # Replace with your Singularity image\n",
    "        cc_image=False,\n",
    "        os_remove=True,\n",
    "    )\n",
    "\n",
    "    # Print confirmation\n",
    "    print(\"Job submitted to Slurm successfully!\")"
   ]
  },
  {
   "cell_type": "code",
   "execution_count": 24,
   "metadata": {},
   "outputs": [
    {
     "name": "stderr",
     "output_type": "stream",
     "text": [
      "2024-09-26 11:54:07,516 :: INFO :: Connected (version 2.0, client OpenSSH_8.0)\n"
     ]
    },
    {
     "name": "stderr",
     "output_type": "stream",
     "text": [
      "2024-09-26 11:54:08,681 :: INFO :: Authentication (password) successful!\n",
      "2024-09-26 11:54:08,683 :: INFO :: 'You are more than your layers. 🧅💚' - Shreck\n",
      "2024-09-26 11:54:08,704 :: INFO :: Connected (version 2.0, client OpenSSH_8.0)\n",
      "2024-09-26 11:54:08,845 :: INFO :: Authentication (password) successful!\n",
      "2024-09-26 11:54:08,846 :: INFO :: Running command: sbatch /aloy/home/ddalton/projects/scGPT_playground/scripts/job_3ff1.sh /aloy/home/ddalton/projects/scGPT_playground/scripts/Tutorial_Annotation.nb_clean.py --data_path /aloy/home/ddalton/projects/scGPT_playground/data/pp_data-24-09-25-02/data.h5ad --max_seq_len 2000 --batch_size 32 --n_tested_splits 1 \n",
      "2024-09-26 11:54:08,966 :: INFO :: Submitted batch job 1551118\n",
      "2024-09-26 11:54:08,967 :: INFO :: \n",
      "2024-09-26 11:54:08,970 :: INFO :: 'You are your own fairy tale. 📖🌟' - Shreck\n",
      "2024-09-26 11:54:08,991 :: INFO :: Connected (version 2.0, client OpenSSH_8.0)\n",
      "2024-09-26 11:54:09,139 :: INFO :: Authentication (password) successful!\n",
      "2024-09-26 11:54:09,140 :: INFO :: Running command: sbatch /aloy/home/ddalton/projects/scGPT_playground/scripts/job_b9b5.sh /aloy/home/ddalton/projects/scGPT_playground/scripts/Tutorial_Annotation.nb_clean.py --data_path /aloy/home/ddalton/projects/scGPT_playground/data/pp_data-24-09-25-02/data.h5ad --max_seq_len 3501 --batch_size 16 --n_tested_splits 1 \n"
     ]
    },
    {
     "name": "stdout",
     "output_type": "stream",
     "text": [
      "Job submitted to Slurm successfully!\n"
     ]
    },
    {
     "name": "stderr",
     "output_type": "stream",
     "text": [
      "2024-09-26 11:54:09,261 :: INFO :: Submitted batch job 1551119\n",
      "2024-09-26 11:54:09,262 :: INFO :: \n",
      "2024-09-26 11:54:09,277 :: INFO :: 'Stand up for your dreams. 🦸‍♀️💪' - Shreck\n",
      "2024-09-26 11:54:09,297 :: INFO :: Connected (version 2.0, client OpenSSH_8.0)\n",
      "2024-09-26 11:54:09,443 :: INFO :: Authentication (password) successful!\n",
      "2024-09-26 11:54:09,443 :: INFO :: Running command: sbatch /aloy/home/ddalton/projects/scGPT_playground/scripts/job_6221.sh /aloy/home/ddalton/projects/scGPT_playground/scripts/Tutorial_Annotation.nb_clean.py --data_path /aloy/home/ddalton/projects/scGPT_playground/data/pp_data-24-09-25-02/data.h5ad --max_seq_len 6500 --batch_size 6 --n_tested_splits 1 \n"
     ]
    },
    {
     "name": "stdout",
     "output_type": "stream",
     "text": [
      "Job submitted to Slurm successfully!\n"
     ]
    },
    {
     "name": "stderr",
     "output_type": "stream",
     "text": [
      "2024-09-26 11:54:09,562 :: INFO :: Submitted batch job 1551120\n",
      "2024-09-26 11:54:09,562 :: INFO :: \n",
      "2024-09-26 11:54:09,585 :: INFO :: 'Be brave, even in the face of dragons. 🐉💪' - Shreck\n",
      "2024-09-26 11:54:09,612 :: INFO :: Connected (version 2.0, client OpenSSH_8.0)\n",
      "2024-09-26 11:54:09,752 :: INFO :: Authentication (password) successful!\n",
      "2024-09-26 11:54:09,752 :: INFO :: Running command: sbatch /aloy/home/ddalton/projects/scGPT_playground/scripts/job_6fe4.sh /aloy/home/ddalton/projects/scGPT_playground/scripts/Tutorial_Annotation.nb_clean.py --data_path /aloy/home/ddalton/projects/scGPT_playground/data/pp_data-24-09-25-02/data.h5ad --max_seq_len 10000 --batch_size 6 --n_tested_splits 1 \n"
     ]
    },
    {
     "name": "stdout",
     "output_type": "stream",
     "text": [
      "Job submitted to Slurm successfully!\n"
     ]
    },
    {
     "name": "stderr",
     "output_type": "stream",
     "text": [
      "2024-09-26 11:54:09,868 :: INFO :: Submitted batch job 1551121\n",
      "2024-09-26 11:54:09,869 :: INFO :: \n",
      "2024-09-26 11:54:09,889 :: INFO :: 'Live life one swamp at a time. 🌿💚' - Shreck\n",
      "2024-09-26 11:54:09,917 :: INFO :: Connected (version 2.0, client OpenSSH_8.0)\n",
      "2024-09-26 11:54:10,061 :: INFO :: Authentication (password) successful!\n",
      "2024-09-26 11:54:10,061 :: INFO :: Running command: sbatch /aloy/home/ddalton/projects/scGPT_playground/scripts/job_c645.sh /aloy/home/ddalton/projects/scGPT_playground/scripts/Tutorial_Annotation.nb_clean.py --data_path /aloy/home/ddalton/projects/scGPT_playground/data/pp_data-24-09-25-02/data.h5ad --max_seq_len 20000 --batch_size 6 --n_tested_splits 1 \n"
     ]
    },
    {
     "name": "stdout",
     "output_type": "stream",
     "text": [
      "Job submitted to Slurm successfully!\n"
     ]
    },
    {
     "name": "stderr",
     "output_type": "stream",
     "text": [
      "2024-09-26 11:54:10,198 :: INFO :: Submitted batch job 1551122\n",
      "2024-09-26 11:54:10,198 :: INFO :: \n"
     ]
    },
    {
     "name": "stdout",
     "output_type": "stream",
     "text": [
      "Job submitted to Slurm successfully!\n"
     ]
    }
   ],
   "source": [
    "# imports\n",
    "import sys, os, json\n",
    "\n",
    "sys.path.insert(0, \"/aloy/home/ddalton/projects/ClusterSubmit\")\n",
    "from cluster_submitter.slurm import Slurm\n",
    "from cluster_submitter import *\n",
    "\n",
    "# variables\n",
    "\n",
    "# functions\n",
    "\n",
    "# Load Config\n",
    "with open(\"config/config.irb_cluster.json\", \"r\") as f:\n",
    "    slurm_config = json.load(f)\n",
    "\n",
    "# Initialize Slurm for Slurm\n",
    "slurm_job_manager = Slurm(**slurm_config)\n",
    "\n",
    "\n",
    "data_path = (\n",
    "    \"/aloy/home/ddalton/projects/scGPT_playground/data/pp_data-24-09-25-02/data.h5ad\"\n",
    ")\n",
    "for i, (max_seq_len, batch_size) in enumerate(\n",
    "    zip([2000, 3501, 6500, 10000, 20000], [32, 16, 6, 6, 6])\n",
    "):\n",
    "    # Define job parameters for Slurm\n",
    "    slurm_job_manager.submit_job(\n",
    "        script_py=f\"Tutorial_Annotation.nb_clean.py --data_path {data_path} --max_seq_len {max_seq_len} --batch_size {batch_size} --n_tested_splits {1}\",\n",
    "        time=\"0-12:00:00\",\n",
    "        mem=70,\n",
    "        cpus=10,\n",
    "        N=f\"testing_{i}\",\n",
    "        gpus=1,\n",
    "        sh_path=\"../scripts\",\n",
    "        eo_path=\"logs/\",  # Replace with your log directory\n",
    "        image=\"/aloy/home/ddalton/singularity_images/scgpt.sif\",  # Replace with your Singularity image\n",
    "        cc_image=False,\n",
    "        os_remove=True,\n",
    "    )\n",
    "\n",
    "    # Print confirmation\n",
    "    print(\"Job submitted to Slurm successfully!\")"
   ]
  },
  {
   "cell_type": "code",
   "execution_count": 1,
   "metadata": {},
   "outputs": [
    {
     "name": "stderr",
     "output_type": "stream",
     "text": [
      "2024-09-28 17:57:43,329 :: INFO :: 'True love’s kiss can break any spell. 💋🔮' - Shreck\n"
     ]
    },
    {
     "name": "stderr",
     "output_type": "stream",
     "text": [
      "2024-09-28 17:57:43,353 :: INFO :: Connected (version 2.0, client OpenSSH_8.0)\n",
      "2024-09-28 17:57:44,533 :: INFO :: Authentication (password) successful!\n"
     ]
    },
    {
     "ename": "ValueError",
     "evalue": "too many values to unpack (expected 2)",
     "output_type": "error",
     "traceback": [
      "\u001b[0;31m---------------------------------------------------------------------------\u001b[0m",
      "\u001b[0;31mValueError\u001b[0m                                Traceback (most recent call last)",
      "Cell \u001b[0;32mIn[1], line 31\u001b[0m\n\u001b[1;32m     24\u001b[0m data_paths \u001b[38;5;241m=\u001b[39m [\n\u001b[1;32m     25\u001b[0m     \u001b[38;5;124m\"\u001b[39m\u001b[38;5;124m/aloy/home/ddalton/projects/scGPT_playground/data/pp_data-24-09-25-01/data.h5ad\u001b[39m\u001b[38;5;124m\"\u001b[39m,\n\u001b[1;32m     26\u001b[0m     \u001b[38;5;124m\"\u001b[39m\u001b[38;5;124m/aloy/home/ddalton/projects/scGPT_playground/data/pp_data-24-09-25-02/data.h5ad\u001b[39m\u001b[38;5;124m\"\u001b[39m,\n\u001b[1;32m     27\u001b[0m     \u001b[38;5;66;03m# \"/aloy/home/ddalton/projects/scGPT_playground/data/pp_data-24-09-25-03/data.h5ad\",\u001b[39;00m\n\u001b[1;32m     28\u001b[0m ]\n\u001b[1;32m     30\u001b[0m \u001b[38;5;66;03m# Define job parameters for Slurm\u001b[39;00m\n\u001b[0;32m---> 31\u001b[0m \u001b[38;5;28;01mfor\u001b[39;00m i, data_path \u001b[38;5;129;01min\u001b[39;00m data_paths:\n\u001b[1;32m     32\u001b[0m     slurm_job_manager\u001b[38;5;241m.\u001b[39msubmit_job(\n\u001b[1;32m     33\u001b[0m         script_py\u001b[38;5;241m=\u001b[39m\u001b[38;5;124mf\u001b[39m\u001b[38;5;124m\"\u001b[39m\u001b[38;5;124mTutorial_Annotation.nb_clean.py --data_path \u001b[39m\u001b[38;5;132;01m{\u001b[39;00mdata_path\u001b[38;5;132;01m}\u001b[39;00m\u001b[38;5;124m --max_seq_len 3501 --batch_size 16 --epochs 20\u001b[39m\u001b[38;5;124m\"\u001b[39m,\n\u001b[1;32m     34\u001b[0m         time\u001b[38;5;241m=\u001b[39m\u001b[38;5;124m\"\u001b[39m\u001b[38;5;124m0-12:00:00\u001b[39m\u001b[38;5;124m\"\u001b[39m,\n\u001b[0;32m   (...)\u001b[0m\n\u001b[1;32m     43\u001b[0m         os_remove\u001b[38;5;241m=\u001b[39m\u001b[38;5;28;01mTrue\u001b[39;00m,\n\u001b[1;32m     44\u001b[0m     )\n\u001b[1;32m     46\u001b[0m \u001b[38;5;66;03m# Print confirmation\u001b[39;00m\n",
      "\u001b[0;31mValueError\u001b[0m: too many values to unpack (expected 2)"
     ]
    }
   ],
   "source": [
    "# imports\n",
    "import sys, os, json\n",
    "\n",
    "sys.path.insert(0, \"/aloy/home/ddalton/projects/ClusterSubmit\")\n",
    "from cluster_submitter.slurm import Slurm\n",
    "from cluster_submitter import *\n",
    "\n",
    "# variables\n",
    "\n",
    "# functions\n",
    "\n",
    "# Load Config\n",
    "with open(\"config/config.irb_cluster.json\", \"r\") as f:\n",
    "    slurm_config = json.load(f)\n",
    "\n",
    "# Initialize Slurm for Slurm\n",
    "slurm_job_manager = Slurm(**slurm_config)\n",
    "\n",
    "\n",
    "data_path = (\n",
    "    \"/aloy/home/ddalton/projects/scGPT_playground/data/pp_data-24-09-25-03/data.h5ad\"\n",
    ")\n",
    "\n",
    "data_paths = [\n",
    "    \"/aloy/home/ddalton/projects/scGPT_playground/data/pp_data-24-09-25-01/data.h5ad\",\n",
    "    \"/aloy/home/ddalton/projects/scGPT_playground/data/pp_data-24-09-25-02/data.h5ad\",\n",
    "    # \"/aloy/home/ddalton/projects/scGPT_playground/data/pp_data-24-09-25-03/data.h5ad\",\n",
    "]\n",
    "\n",
    "# Define job parameters for Slurm\n",
    "for i, data_path in enumerate(data_paths):\n",
    "    slurm_job_manager.submit_job(\n",
    "        script_py=f\"Tutorial_Annotation.nb_clean.py --data_path {data_path} --max_seq_len 3501 --batch_size 16 --epochs 20\",\n",
    "        time=\"0-12:00:00\",\n",
    "        mem=70,\n",
    "        cpus=10,\n",
    "        N=f\"{i}_elefante\",\n",
    "        gpus=1,\n",
    "        sh_path=\"../scripts\",\n",
    "        eo_path=\"logs/\",\n",
    "        image=\"/aloy/home/ddalton/singularity_images/scgpt.sif\",\n",
    "        cc_image=False,\n",
    "        os_remove=True,\n",
    "    )\n",
    "\n",
    "# Print confirmation\n",
    "print(\"Job submitted to Slurm successfully!\")"
   ]
  },
  {
   "cell_type": "code",
   "execution_count": 31,
   "metadata": {},
   "outputs": [
    {
     "name": "stderr",
     "output_type": "stream",
     "text": [
      "2024-09-27 17:00:20,212 :: INFO :: Connected (version 2.0, client OpenSSH_8.0)\n",
      "2024-09-27 17:00:20,372 :: INFO :: Authentication (password) successful!\n",
      "2024-09-27 17:00:20,417 :: INFO :: 'Every day is a new chapter. 📖✨' - Shreck\n",
      "2024-09-27 17:00:20,457 :: INFO :: Connected (version 2.0, client OpenSSH_8.0)\n",
      "2024-09-27 17:00:20,665 :: INFO :: Authentication (password) successful!\n",
      "2024-09-27 17:00:20,666 :: INFO :: Running command: sbatch /aloy/home/ddalton/projects/scGPT_playground/scripts/job_1e8f.sh /aloy/home/ddalton/projects/scGPT_playground/scripts/Tutorial_Annotation.nb_clean.py --data_path /aloy/home/ddalton/projects/scGPT_playground/data/pp_data-24-09-25-01/data.h5ad --max_seq_len 1000 --batch_size 32 --split_type stratified \n",
      "2024-09-27 17:00:20,790 :: INFO :: Submitted batch job 1572687\n",
      "2024-09-27 17:00:20,790 :: INFO :: \n"
     ]
    },
    {
     "name": "stdout",
     "output_type": "stream",
     "text": [
      "Job submitted to Slurm successfully!\n"
     ]
    }
   ],
   "source": [
    "# imports\n",
    "import sys, os, json\n",
    "\n",
    "sys.path.insert(0, \"/aloy/home/ddalton/projects/ClusterSubmit\")\n",
    "from cluster_submitter.slurm import Slurm\n",
    "from cluster_submitter import *\n",
    "\n",
    "# variables\n",
    "\n",
    "# functions\n",
    "\n",
    "# Load Config\n",
    "with open(\"config/config.irb_cluster.json\", \"r\") as f:\n",
    "    slurm_config = json.load(f)\n",
    "\n",
    "# Initialize Slurm for Slurm\n",
    "slurm_job_manager = Slurm(**slurm_config)\n",
    "\n",
    "\n",
    "data_path = (\n",
    "    \"/aloy/home/ddalton/projects/scGPT_playground/data/pp_data-24-09-25-01/data.h5ad\"\n",
    ")\n",
    "\n",
    "\n",
    "for i, split_type in enumerate([\"stratified\"]):\n",
    "    # Define job parameters for Slurm\n",
    "    slurm_job_manager.submit_job(\n",
    "        script_py=f\"Tutorial_Annotation.nb_clean.py --data_path {data_path} --max_seq_len 1000 --batch_size 32 --split_type {split_type}\",\n",
    "        time=\"0-12:00:00\",\n",
    "        mem=70,\n",
    "        cpus=10,\n",
    "        N=f\"testing_{i}\",\n",
    "        gpus=1,\n",
    "        sh_path=\"../scripts\",\n",
    "        eo_path=\"logs/\",  # Replace with your log directory\n",
    "        image=\"/aloy/home/ddalton/singularity_images/scgpt.sif\",  # Replace with your Singularity image\n",
    "        cc_image=False,\n",
    "        os_remove=True,\n",
    "    )\n",
    "\n",
    "    # Print confirmation\n",
    "    print(\"Job submitted to Slurm successfully!\")"
   ]
  },
  {
   "cell_type": "code",
   "execution_count": 34,
   "metadata": {},
   "outputs": [
    {
     "name": "stderr",
     "output_type": "stream",
     "text": [
      "2024-09-27 17:00:28,822 :: INFO :: 'Friendship knows no bounds. 🤝✨' - Shreck\n",
      "2024-09-27 17:00:28,999 :: INFO :: Running command: scancel 1572687\n",
      "2024-09-27 17:00:29,115 :: INFO :: \n",
      "2024-09-27 17:00:29,116 :: INFO :: \n"
     ]
    }
   ],
   "source": [
    "slurm_job_manager.cancel()"
   ]
  },
  {
   "cell_type": "code",
   "execution_count": 30,
   "metadata": {},
   "outputs": [
    {
     "name": "stderr",
     "output_type": "stream",
     "text": [
      "2024-09-27 16:26:04,039 :: INFO :: Output log file: logs/testing_0.1572128.out\n"
     ]
    },
    {
     "name": "stdout",
     "output_type": "stream",
     "text": [
      "/var/spool/slurmd/job1572128/slurm_script: line 22: cd: too many arguments\n",
      "Global seed set to 0\n",
      "2024-09-27 16:04:37,060 - Is Cuda Available True\n",
      "wandb: Currently logged in as: dylandaltonsub (dylandaltonsub-irb). Use `wandb login --relogin` to force relogin\n",
      "wandb: wandb version 0.18.1 is available!  To upgrade, please run:\n",
      "wandb:  $ pip install wandb --upgrade\n",
      "wandb: Tracking run with wandb version 0.17.5\n",
      "wandb: Run data is saved locally in /home/sbnb/ddalton/wandb/run-20240927_160438-qz0sicli\n",
      "wandb: Run `wandb offline` to turn off syncing.\n",
      "wandb: Syncing run vital-snowflake-223\n",
      "wandb: ⭐️ View project at https://wandb.ai/dylandaltonsub-irb/scGPT\n",
      "wandb: 🚀 View run at https://wandb.ai/dylandaltonsub-irb/scGPT/runs/qz0sicli\n",
      "2024-09-27 16:04:49,700 - Nº genes: 19690, Nº samples: 4534\n",
      "2024-09-27 16:04:50,393 - Top 1000 most present genes selected. - >= 4534\n",
      "2024-09-27 16:04:50,394 - Combined mask 1000 genes left\n",
      "2024-09-27 16:04:50,455 - Masking 0 samples with less than 30% non-NaN values\n",
      "1\n",
      "Data path: /aloy/home/ddalton/projects/scGPT_playground/data/pp_data-24-09-25-01/data.h5ad\n",
      "Batch size: 32\n",
      "{'seed': 0, 'dataset_name': 'test_1', 'do_train': True, 'load_model': '/aloy/home/ddalton/projects/scGPT_playground/save/scGPT_human', 'mask_ratio': 0.0, 'epochs': 10, 'n_bins': 51, 'MVC': False, 'ecs_thres': 0.0, 'dab_weight': 0.0, 'lr': 0.0001, 'batch_size': 32, 'layer_size': 128, 'nlayers': 4, 'nhead': 4, 'dropout': 0.2, 'schedule_ratio': 0.9, 'save_eval_interval': 5, 'fast_transformer': True, 'pre_norm': False, 'amp': True, 'include_zero_gene': False, 'freeze': False, 'DSBN': False}\n",
      "save to save/dev_test_1-Sep27-16-04\n",
      "scGPT - INFO - match 999/1000 genes in vocabulary of size 60697.\n",
      "scGPT - INFO - Resume model from /aloy/home/ddalton/projects/scGPT_playground/save/scGPT_human/best_model.pt, the model args will override the config /aloy/home/ddalton/projects/scGPT_playground/save/scGPT_human/args.json.\n",
      "2024-09-27 16:04:50,620 - Columns in obs_copy Index(['ids', 'dataset', 'dataset_id', 'batch', 'batch_id', 'dsaid', 'tissue',\n",
      "       'n_genes', 'disease', 'celltype', 'disease_study', 'library',\n",
      "       'celltype_id', 'combination'],\n",
      "      dtype='object')\n",
      "2024-09-27 16:04:50,644 - Number of diseases with 5+ datasets: 7\n",
      "2024-09-27 16:04:50,672 - Nº of diseases in train split 1: 7\n",
      "2024-09-27 16:04:50,673 - Nº of diseases in test split 1: 7\n",
      "2024-09-27 16:04:50,673 - Nº of datasets in train split 1: 63\n",
      "2024-09-27 16:04:50,674 - Nº of datasets in test split 1: 26\n",
      "2024-09-27 16:04:50,675 - Nº of samples in train split 1: 3091\n",
      "2024-09-27 16:04:50,675 - Nº of samples in test split 1: 1443\n",
      "2024-09-27 16:04:50,678 - Nº of diseases in train split 2: 7\n",
      "2024-09-27 16:04:50,678 - Nº of diseases in test split 2: 7\n",
      "2024-09-27 16:04:50,679 - Nº of datasets in train split 2: 67\n",
      "2024-09-27 16:04:50,679 - Nº of datasets in test split 2: 22\n",
      "2024-09-27 16:04:50,680 - Nº of samples in train split 2: 3038\n",
      "2024-09-27 16:04:50,681 - Nº of samples in test split 2: 1496\n",
      "2024-09-27 16:04:50,683 - Nº of diseases in train split 3: 7\n",
      "2024-09-27 16:04:50,684 - Nº of diseases in test split 3: 7\n",
      "2024-09-27 16:04:50,684 - Nº of datasets in train split 3: 48\n",
      "2024-09-27 16:04:50,685 - Nº of datasets in test split 3: 41\n",
      "2024-09-27 16:04:50,686 - Nº of samples in train split 3: 2939\n",
      "2024-09-27 16:04:50,687 - Nº of samples in test split 3: 1595\n",
      "scGPT - INFO - Normalizing total counts ...\n",
      "scGPT - INFO - Log1p transforming ...\n",
      "scGPT - INFO - Binning data ...\n",
      "scGPT - INFO - Normalizing total counts ...\n",
      "scGPT - INFO - Log1p transforming ...\n",
      "scGPT - INFO - Binning data ...\n",
      "scGPT - INFO - train set number of samples: 2781, \n",
      "\t feature length: 1000\n",
      "scGPT - INFO - valid set number of samples: 310, \n",
      "\t feature length: 1000\n",
      "scGPT - INFO - Total Pre freeze Params 51335176\n",
      "scGPT - INFO - Total Post freeze Params 51335176\n",
      "0\n",
      "NVIDIA GeForce RTX 3090\n",
      "random masking at epoch   1, ratio of masked values in train:  0.0000\n",
      "scGPT - INFO - -----------------------------------------------------------------------------------------\n",
      "scGPT - INFO - | end of epoch   1 | time: 19.13s | valid loss/mse 0.7470 | err 0.3194\n",
      "scGPT - INFO - -----------------------------------------------------------------------------------------\n",
      "scGPT - INFO - Best model with score 0.7470\n",
      "random masking at epoch   2, ratio of masked values in train:  0.0000\n",
      "scGPT - INFO - -----------------------------------------------------------------------------------------\n",
      "scGPT - INFO - | end of epoch   2 | time: 17.88s | valid loss/mse 0.6107 | err 0.2935\n",
      "scGPT - INFO - -----------------------------------------------------------------------------------------\n",
      "scGPT - INFO - Best model with score 0.6107\n",
      "random masking at epoch   3, ratio of masked values in train:  0.0000\n",
      "scGPT - INFO - -----------------------------------------------------------------------------------------\n",
      "scGPT - INFO - | end of epoch   3 | time: 18.12s | valid loss/mse 0.5922 | err 0.2935\n",
      "scGPT - INFO - -----------------------------------------------------------------------------------------\n",
      "scGPT - INFO - Best model with score 0.5922\n",
      "random masking at epoch   4, ratio of masked values in train:  0.0000\n",
      "scGPT - INFO - -----------------------------------------------------------------------------------------\n",
      "scGPT - INFO - | end of epoch   4 | time: 18.28s | valid loss/mse 0.4783 | err 0.2194\n",
      "scGPT - INFO - -----------------------------------------------------------------------------------------\n",
      "scGPT - INFO - Best model with score 0.4783\n",
      "random masking at epoch   5, ratio of masked values in train:  0.0000\n",
      "scGPT - INFO - -----------------------------------------------------------------------------------------\n",
      "scGPT - INFO - | end of epoch   5 | time: 18.45s | valid loss/mse 0.4762 | err 0.2129\n",
      "scGPT - INFO - -----------------------------------------------------------------------------------------\n",
      "scGPT - INFO - Best model with score 0.4762\n",
      "scGPT - INFO - Accuracy: 0.640, Precision: 0.647, Recall: 0.509, Macro F1: 0.522\n",
      "Counter({2: 689, 3: 418, 5: 163, 1: 70, 4: 43, 0: 35, 6: 25}) Counter({2: 657, 3: 609, 4: 52, 1: 50, 5: 47, 6: 21, 0: 7})\n",
      "scGPT - INFO - Accuracy: 0.852, Precision: 0.851, Recall: 0.851, Macro F1: 0.842\n",
      "2024-09-27 16:06:35,691 - region 4\n",
      "2024-09-27 16:06:35,691 - CPU Memory Usage: 10.0% used of 251.23 GB total\n",
      "2024-09-27 16:06:35,692 - GPU 0 Memory Usage: 1.24 GB allocated, 7.69 GB cached\n",
      "scGPT - INFO - Accuracy: 0.640, Precision: 0.647, Recall: 0.509, Macro F1: 0.522\n",
      "2024-09-27 16:06:39,514 - Results Test: {'test/accuracy': 0.6396396396396397, 'test/precision': 0.6469492326273801, 'test/recall': 0.5085599635918693, 'test/macro_f1': 0.5223721043292515}\n",
      "scGPT - INFO - Accuracy: 0.852, Precision: 0.851, Recall: 0.851, Macro F1: 0.842\n",
      "2024-09-27 16:06:46,960 - region 5\n",
      "2024-09-27 16:06:46,960 - CPU Memory Usage: 10.1% used of 251.23 GB total\n",
      "2024-09-27 16:06:46,960 - GPU 0 Memory Usage: 1.24 GB allocated, 1.61 GB cached\n",
      "scGPT - INFO - Normalizing total counts ...\n",
      "scGPT - INFO - Log1p transforming ...\n",
      "scGPT - INFO - Binning data ...\n",
      "scGPT - INFO - Normalizing total counts ...\n",
      "scGPT - INFO - Log1p transforming ...\n",
      "scGPT - INFO - Binning data ...\n",
      "scGPT - INFO - train set number of samples: 2734, \n",
      "\t feature length: 1000\n",
      "scGPT - INFO - valid set number of samples: 304, \n",
      "\t feature length: 1000\n",
      "scGPT - INFO - Total Pre freeze Params 51335176\n",
      "scGPT - INFO - Total Post freeze Params 51335176\n",
      "0\n",
      "NVIDIA GeForce RTX 3090\n",
      "random masking at epoch   1, ratio of masked values in train:  0.0000\n",
      "scGPT - INFO - -----------------------------------------------------------------------------------------\n",
      "scGPT - INFO - | end of epoch   1 | time: 18.10s | valid loss/mse 0.5897 | err 0.2566\n",
      "scGPT - INFO - -----------------------------------------------------------------------------------------\n",
      "scGPT - INFO - Best model with score 0.5897\n",
      "random masking at epoch   2, ratio of masked values in train:  0.0000\n",
      "scGPT - INFO - -----------------------------------------------------------------------------------------\n",
      "scGPT - INFO - | end of epoch   2 | time: 18.23s | valid loss/mse 0.6176 | err 0.2270\n",
      "scGPT - INFO - -----------------------------------------------------------------------------------------\n",
      "random masking at epoch   3, ratio of masked values in train:  0.0000\n",
      "scGPT - INFO - -----------------------------------------------------------------------------------------\n",
      "scGPT - INFO - | end of epoch   3 | time: 18.33s | valid loss/mse 0.5139 | err 0.2007\n",
      "scGPT - INFO - -----------------------------------------------------------------------------------------\n",
      "scGPT - INFO - Best model with score 0.5139\n",
      "random masking at epoch   4, ratio of masked values in train:  0.0000\n",
      "scGPT - INFO - -----------------------------------------------------------------------------------------\n",
      "scGPT - INFO - | end of epoch   4 | time: 18.27s | valid loss/mse 0.5349 | err 0.2039\n",
      "scGPT - INFO - -----------------------------------------------------------------------------------------\n",
      "random masking at epoch   5, ratio of masked values in train:  0.0000\n",
      "scGPT - INFO - -----------------------------------------------------------------------------------------\n",
      "scGPT - INFO - | end of epoch   5 | time: 18.24s | valid loss/mse 0.4894 | err 0.2007\n",
      "scGPT - INFO - -----------------------------------------------------------------------------------------\n",
      "scGPT - INFO - Best model with score 0.4894\n",
      "scGPT - INFO - Accuracy: 0.707, Precision: 0.552, Recall: 0.457, Macro F1: 0.464\n",
      "Counter({2: 582, 3: 382, 5: 339, 1: 91, 4: 42, 0: 33, 6: 27}) Counter({2: 725, 5: 344, 3: 334, 0: 59, 6: 21, 1: 12, 4: 1})\n",
      "scGPT - INFO - Accuracy: 0.841, Precision: 0.895, Recall: 0.753, Macro F1: 0.802\n",
      "2024-09-27 16:08:31,330 - region 4\n",
      "2024-09-27 16:08:31,330 - CPU Memory Usage: 9.9% used of 251.23 GB total\n",
      "2024-09-27 16:08:31,330 - GPU 0 Memory Usage: 1.25 GB allocated, 8.23 GB cached\n",
      "scGPT - INFO - Accuracy: 0.707, Precision: 0.552, Recall: 0.457, Macro F1: 0.464\n",
      "2024-09-27 16:08:35,177 - Results Test: {'test/accuracy': 0.7065508021390374, 'test/precision': 0.5518205061667697, 'test/recall': 0.4566135891391743, 'test/macro_f1': 0.4637572705778591}\n",
      "scGPT - INFO - Accuracy: 0.841, Precision: 0.895, Recall: 0.753, Macro F1: 0.802\n",
      "2024-09-27 16:08:42,442 - region 5\n",
      "2024-09-27 16:08:42,442 - CPU Memory Usage: 9.9% used of 251.23 GB total\n",
      "2024-09-27 16:08:42,443 - GPU 0 Memory Usage: 1.25 GB allocated, 1.64 GB cached\n",
      "scGPT - INFO - Normalizing total counts ...\n",
      "scGPT - INFO - Log1p transforming ...\n",
      "scGPT - INFO - Binning data ...\n",
      "scGPT - INFO - Normalizing total counts ...\n",
      "scGPT - INFO - Log1p transforming ...\n",
      "scGPT - INFO - Binning data ...\n",
      "scGPT - INFO - train set number of samples: 2645, \n",
      "\t feature length: 1000\n",
      "scGPT - INFO - valid set number of samples: 294, \n",
      "\t feature length: 997\n",
      "scGPT - INFO - Total Pre freeze Params 51335176\n",
      "scGPT - INFO - Total Post freeze Params 51335176\n",
      "0\n",
      "NVIDIA GeForce RTX 3090\n",
      "random masking at epoch   1, ratio of masked values in train:  0.0000\n",
      "scGPT - INFO - -----------------------------------------------------------------------------------------\n",
      "scGPT - INFO - | end of epoch   1 | time: 17.61s | valid loss/mse 0.5375 | err 0.2177\n",
      "scGPT - INFO - -----------------------------------------------------------------------------------------\n",
      "scGPT - INFO - Best model with score 0.5375\n",
      "random masking at epoch   2, ratio of masked values in train:  0.0000\n",
      "scGPT - INFO - -----------------------------------------------------------------------------------------\n",
      "scGPT - INFO - | end of epoch   2 | time: 17.75s | valid loss/mse 0.4379 | err 0.1769\n",
      "scGPT - INFO - -----------------------------------------------------------------------------------------\n",
      "scGPT - INFO - Best model with score 0.4379\n",
      "random masking at epoch   3, ratio of masked values in train:  0.0000\n",
      "scGPT - INFO - -----------------------------------------------------------------------------------------\n",
      "scGPT - INFO - | end of epoch   3 | time: 17.78s | valid loss/mse 0.4688 | err 0.1905\n",
      "scGPT - INFO - -----------------------------------------------------------------------------------------\n",
      "random masking at epoch   4, ratio of masked values in train:  0.0000\n",
      "scGPT - INFO - -----------------------------------------------------------------------------------------\n",
      "scGPT - INFO - | end of epoch   4 | time: 17.78s | valid loss/mse 0.4578 | err 0.1871\n",
      "scGPT - INFO - -----------------------------------------------------------------------------------------\n",
      "random masking at epoch   5, ratio of masked values in train:  0.0000\n",
      "scGPT - INFO - -----------------------------------------------------------------------------------------\n",
      "scGPT - INFO - | end of epoch   5 | time: 17.76s | valid loss/mse 0.4157 | err 0.1531\n",
      "scGPT - INFO - -----------------------------------------------------------------------------------------\n",
      "scGPT - INFO - Best model with score 0.4157\n",
      "scGPT - INFO - Accuracy: 0.525, Precision: 0.464, Recall: 0.498, Macro F1: 0.462\n",
      "Counter({2: 772, 3: 335, 1: 236, 5: 150, 4: 42, 0: 34, 6: 26}) Counter({2: 634, 1: 462, 3: 202, 5: 201, 4: 51, 6: 26, 0: 19})\n",
      "scGPT - INFO - Accuracy: 0.842, Precision: 0.828, Recall: 0.891, Macro F1: 0.854\n",
      "2024-09-27 16:10:24,098 - region 4\n",
      "2024-09-27 16:10:24,099 - CPU Memory Usage: 6.7% used of 251.23 GB total\n",
      "2024-09-27 16:10:24,099 - GPU 0 Memory Usage: 1.22 GB allocated, 8.29 GB cached\n",
      "scGPT - INFO - Accuracy: 0.525, Precision: 0.464, Recall: 0.498, Macro F1: 0.462\n",
      "2024-09-27 16:10:28,042 - Results Test: {'test/accuracy': 0.5247648902821317, 'test/precision': 0.4636084789421207, 'test/recall': 0.4980513493514044, 'test/macro_f1': 0.46248966754437576}\n",
      "scGPT - INFO - Accuracy: 0.842, Precision: 0.828, Recall: 0.891, Macro F1: 0.854\n",
      "2024-09-27 16:10:34,996 - region 5\n",
      "2024-09-27 16:10:34,996 - CPU Memory Usage: 6.7% used of 251.23 GB total\n",
      "2024-09-27 16:10:34,997 - GPU 0 Memory Usage: 1.22 GB allocated, 1.73 GB cached\n",
      "2024-09-27 16:10:35,288 - region 4\n",
      "2024-09-27 16:10:35,289 - CPU Memory Usage: 6.7% used of 251.23 GB total\n",
      "2024-09-27 16:10:35,289 - GPU 0 Memory Usage: 1.22 GB allocated, 1.73 GB cached\n",
      "Output directory created: /aloy/home/ddalton/projects/scGPT_playground/outputs/run-24-09-27-09\n",
      "wandb: - 0.004 MB of 0.024 MB uploaded\n",
      "wandb: \\ 0.011 MB of 0.024 MB uploaded\n",
      "wandb: | 0.024 MB of 0.024 MB uploaded\n",
      "wandb: \n",
      "wandb: Run history:\n",
      "wandb:                        epoch ▁▃▅▆██████▁▃▅▆██████▁▃▅▆██████\n",
      "wandb: info/post_freeze_param_count ▁▁▁\n",
      "wandb:  info/pre_freeze_param_count ▁▁▁\n",
      "wandb:                    train/cls ▇▆▇▄▂▃▃▄▅▆▃▁▂▄▆▅▆▄▄▅▃▃▂▃▃▂▂█▄▄▃▅▅▂▂▅▂▃▆▃\n",
      "wandb:                    valid/dab ▁▁▁▁▁▁▁▁▁▁▁▁▁▁▁▁▁▁▁▁▁▁▁▁▁▁▁▁▁▁\n",
      "wandb:                    valid/err ▅▄▄▃▂▂▆▁▆▁▃▃▂▂▂▂▄▁▄▁▂▂▂▂▁▁█▁█▁\n",
      "wandb:                    valid/mse ▃▂▂▂▂▂▄▁▄▁▂▃▂▂▂▂▅▁▅▁▂▁▂▂▁▁█▁█▁\n",
      "wandb:            valid/sum_mse_dab ▃▂▂▂▂▂▄▁▄▁▂▃▂▂▂▂▅▁▅▁▂▁▂▂▁▁█▁█▁\n",
      "wandb: \n",
      "wandb: Run summary:\n",
      "wandb:                        epoch 5\n",
      "wandb: info/post_freeze_param_count 51335176\n",
      "wandb:  info/pre_freeze_param_count 51335176\n",
      "wandb:                    train/cls 0.50023\n",
      "wandb:                    valid/err 0.15788\n",
      "wandb: \n",
      "wandb: 🚀 View run vital-snowflake-223 at: https://wandb.ai/dylandaltonsub-irb/scGPT/runs/qz0sicli\n",
      "wandb: ⭐️ View project at: https://wandb.ai/dylandaltonsub-irb/scGPT\n",
      "wandb: Synced 5 W&B file(s), 0 media file(s), 0 artifact file(s) and 0 other file(s)\n",
      "wandb: Find logs at: ./wandb/run-20240927_160438-qz0sicli/logs\n",
      "wandb: WARNING The new W&B backend becomes opt-out in version 0.18.0; try it out with `wandb.require(\"core\")`! See https://wandb.me/wandb-core for more information.\n",
      "\n"
     ]
    }
   ],
   "source": [
    "slurm_job_manager.logs()"
   ]
  },
  {
   "cell_type": "code",
   "execution_count": null,
   "metadata": {},
   "outputs": [],
   "source": []
  }
 ],
 "metadata": {
  "kernelspec": {
   "display_name": "ClusterSubmitter",
   "language": "python",
   "name": "python3"
  },
  "language_info": {
   "codemirror_mode": {
    "name": "ipython",
    "version": 3
   },
   "file_extension": ".py",
   "mimetype": "text/x-python",
   "name": "python",
   "nbconvert_exporter": "python",
   "pygments_lexer": "ipython3",
   "version": "3.12.3"
  }
 },
 "nbformat": 4,
 "nbformat_minor": 2
}
