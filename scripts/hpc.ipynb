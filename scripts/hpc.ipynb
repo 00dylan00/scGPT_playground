{
 "cells": [
  {
   "cell_type": "code",
   "execution_count": 14,
   "metadata": {},
   "outputs": [
    {
     "name": "stderr",
     "output_type": "stream",
     "text": [
      "2024-08-27 09:13:31,191 :: INFO :: Connected (version 2.0, client OpenSSH_8.0)\n"
     ]
    },
    {
     "name": "stderr",
     "output_type": "stream",
     "text": [
      "2024-08-27 09:13:31,332 :: INFO :: Authentication (password) successful!\n",
      "2024-08-27 09:13:31,334 :: INFO :: 'You are your own fairy tale. 📖🌟' - Shreck\n",
      "2024-08-27 09:13:31,354 :: INFO :: Connected (version 2.0, client OpenSSH_8.0)\n",
      "2024-08-27 09:13:31,493 :: INFO :: Authentication (password) successful!\n",
      "2024-08-27 09:13:31,494 :: INFO :: Running command: sbatch /aloy/home/ddalton/projects/scGPT_playground/scripts/job_098e.sh /aloy/home/ddalton/projects/scGPT_playground/scripts/get_embeddings.py \n",
      "2024-08-27 09:13:31,606 :: INFO :: Submitted batch job 1492126\n",
      "2024-08-27 09:13:31,606 :: INFO :: \n"
     ]
    },
    {
     "name": "stdout",
     "output_type": "stream",
     "text": [
      "Job submitted to Slurm successfully!\n"
     ]
    }
   ],
   "source": [
    "# imports\n",
    "import sys, os, json\n",
    "\n",
    "sys.path.insert(0, \"/aloy/home/ddalton/projects/ClusterSubmit\")\n",
    "from cluster_submitter.slurm import Slurm\n",
    "from cluster_submitter import *\n",
    "\n",
    "# variables\n",
    "\n",
    "# functions\n",
    "\n",
    "# Load Config\n",
    "with open(\"config/config.irb_cluster.json\", \"r\") as f:\n",
    "    slurm_config = json.load(f)\n",
    "\n",
    "# Initialize Slurm for Slurm\n",
    "slurm_job_manager = Slurm(**slurm_config)\n",
    "\n",
    "# Define job parameters for Slurm\n",
    "slurm_job_manager.submit_job(\n",
    "    script_py=\"get_embeddings.py\",\n",
    "    time=\"0-10:00:00\" ,\n",
    "    mem=120,\n",
    "    cpus=48,\n",
    "    N=\"pp_data\",\n",
    "    # gpus=1,\n",
    "    sh_path=\"../scripts\",\n",
    "    eo_path=\"logs/\",  # Replace with your log directory\n",
    "    image=\"/aloy/home/ddalton/singularity_images/scgpt.sif\",  # Replace with your Singularity image\n",
    "    cc_image=False,\n",
    "    os_remove=True,\n",
    "    # partition=\"sbnb-gpu\",\n",
    "    # partition=\"irb_gpu_3090\",  # Replace with your partition\n",
    "    # exclude=\"node[01-05]\"  # Replace with nodes to exclude if necessary\n",
    ")\n",
    "\n",
    "# Print confirmation\n",
    "print(\"Job submitted to Slurm successfully!\")"
   ]
  },
  {
   "cell_type": "code",
   "execution_count": 15,
   "metadata": {},
   "outputs": [
    {
     "name": "stderr",
     "output_type": "stream",
     "text": [
      "2024-08-27 09:13:31,611 :: INFO :: 'Every day is a chance to start anew. 🕛✨' - Shreck\n",
      "2024-08-27 09:13:31,630 :: INFO :: Connected (version 2.0, client OpenSSH_8.0)\n",
      "2024-08-27 09:13:31,771 :: INFO :: Authentication (password) successful!\n",
      "2024-08-27 09:13:31,771 :: INFO :: Running command: squeue -u ddalton\n",
      "2024-08-27 09:13:31,884 :: INFO ::              JOBID PARTITION     NAME     USER ST       TIME  NODES NODELIST(REASON)\n",
      "           1492126 irb_cpu_i  pp_data  ddalton  R       0:00      1 irbccn01\n",
      "\n",
      "2024-08-27 09:13:31,885 :: INFO :: \n"
     ]
    }
   ],
   "source": [
    "slurm_job_manager.get_status()"
   ]
  },
  {
   "cell_type": "code",
   "execution_count": 18,
   "metadata": {},
   "outputs": [
    {
     "name": "stderr",
     "output_type": "stream",
     "text": [
      "2024-08-27 09:16:05,438 :: INFO :: 'Stand up for what you believe in. 🌟💚' - Shreck\n",
      "2024-08-27 09:16:05,629 :: INFO :: Running command: scancel 1492126\n",
      "2024-08-27 09:16:06,372 :: INFO :: \n",
      "2024-08-27 09:16:06,373 :: INFO :: \n"
     ]
    }
   ],
   "source": [
    "slurm_job_manager.logs()"
   ]
  }
 ],
 "metadata": {
  "kernelspec": {
   "display_name": "ClusterSubmitter",
   "language": "python",
   "name": "python3"
  },
  "language_info": {
   "codemirror_mode": {
    "name": "ipython",
    "version": 3
   },
   "file_extension": ".py",
   "mimetype": "text/x-python",
   "name": "python",
   "nbconvert_exporter": "python",
   "pygments_lexer": "ipython3",
   "version": "3.12.3"
  }
 },
 "nbformat": 4,
 "nbformat_minor": 2
}
