{
 "cells": [
  {
   "cell_type": "code",
   "execution_count": 1,
   "metadata": {},
   "outputs": [
    {
     "name": "stderr",
     "output_type": "stream",
     "text": [
      "2024-10-07 11:42:17,698 :: INFO :: 'Find the magic in your own story. 📖✨' - Shreck\n",
      "2024-10-07 11:42:17,723 :: INFO :: Connected (version 2.0, client OpenSSH_8.0)\n",
      "2024-10-07 11:42:18,883 :: INFO :: Authentication (password) successful!\n",
      "2024-10-07 11:42:18,885 :: INFO :: 'Stand tall, even in the mud. 🦶🌧' - Shreck\n",
      "2024-10-07 11:42:18,905 :: INFO :: Connected (version 2.0, client OpenSSH_8.0)\n",
      "2024-10-07 11:42:19,049 :: INFO :: Authentication (password) successful!\n",
      "2024-10-07 11:42:19,050 :: INFO :: Running command: sbatch /aloy/home/ddalton/projects/scGPT_playground/scripts/job_124b.sh /aloy/home/ddalton/projects/scGPT_playground/scripts/whoami.py \n",
      "2024-10-07 11:42:19,166 :: INFO :: Submitted batch job 1675294\n",
      "2024-10-07 11:42:19,166 :: INFO :: \n"
     ]
    },
    {
     "name": "stdout",
     "output_type": "stream",
     "text": [
      "Job submitted to Slurm successfully!\n"
     ]
    }
   ],
   "source": [
    "# imports\n",
    "import sys, os, json\n",
    "\n",
    "sys.path.insert(0, \"/aloy/home/ddalton/projects/ClusterSubmit\")\n",
    "from cluster_submitter.slurm import Slurm\n",
    "from cluster_submitter import *\n",
    "\n",
    "# variables\n",
    "\n",
    "# functions\n",
    "\n",
    "# Load Config\n",
    "with open(\"config/config.irb_cluster.json\", \"r\") as f:\n",
    "    slurm_config = json.load(f)\n",
    "\n",
    "# Initialize Slurm for Slurm\n",
    "slurm_job_manager = Slurm(**slurm_config)\n",
    "\n",
    "\n",
    "# Define job parameters for Slurm\n",
    "slurm_job_manager.submit_job(\n",
    "    # script_py=\"Tutorial_Annotation.nb_clean.py\",\n",
    "    # script_py=\"test_gpu.py\",\n",
    "    # script_py=\"/aloy/home/ddalton/projects/scGPT/playground/Tutorial_Annotation.nb_clean.py\",\n",
    "    script_py=\"whoami.py\",\n",
    "    # script_py=\"whoami.py\",\n",
    "    time=\"0-10:00:00\",\n",
    "    mem=100,\n",
    "    cpus=32,\n",
    "    N=\"lola_things\",\n",
    "    # gpus=1,\n",
    "    sh_path=\"../scripts\",\n",
    "    eo_path=\"logs/\",  # Replace with your log directory\n",
    "    image=\"/aloy/home/ddalton/singularity_images/scgpt.sif\",  # Replace with your Singularity image\n",
    "    cc_image=False,\n",
    "    os_remove=False,\n",
    "    partition=\"sbnb_cpu_zen3\",\n",
    "    # partition=\"sbnb-gpu\",\n",
    "    # partition=\"irb_gpu_3090\",  # Replace with your partition\n",
    "    # exclude=\"node[01-05]\"  # Replace with nodes to exclude if necessary\n",
    ")\n",
    "\n",
    "# Print confirmation\n",
    "print(\"Job submitted to Slurm successfully!\")"
   ]
  },
  {
   "cell_type": "code",
   "execution_count": 9,
   "metadata": {},
   "outputs": [
    {
     "name": "stderr",
     "output_type": "stream",
     "text": [
      "2024-10-06 16:31:02,542 :: INFO :: 'Make each day a new adventure. 🚀✨' - Shreck\n",
      "2024-10-06 16:31:02,559 :: INFO :: Connected (version 2.0, client OpenSSH_8.0)\n",
      "2024-10-06 16:31:02,711 :: INFO :: Authentication (password) successful!\n",
      "2024-10-06 16:31:02,711 :: INFO :: Running command: squeue -u ddalton\n",
      "2024-10-06 16:31:02,827 :: INFO ::              JOBID PARTITION     NAME     USER ST       TIME  NODES NODELIST(REASON)\n",
      "           1675029 sbnb_cpu_ thingies  ddalton  R       0:01      1 irbccn16\n",
      "\n",
      "2024-10-06 16:31:02,827 :: INFO :: \n"
     ]
    }
   ],
   "source": [
    "slurm_job_manager.get_status()"
   ]
  },
  {
   "cell_type": "code",
   "execution_count": 11,
   "metadata": {},
   "outputs": [
    {
     "name": "stderr",
     "output_type": "stream",
     "text": [
      "2024-10-06 16:32:00,546 :: INFO :: Output log file: logs/thingies.1675029.out\n"
     ]
    },
    {
     "name": "stdout",
     "output_type": "stream",
     "text": [
      "Medium Dataset\n",
      "\n",
      "  0%|          | 0/69 [00:00<?, ?it/s]\n",
      "  6%|▌         | 4/69 [00:00<00:01, 37.71it/s]\n",
      " 13%|█▎        | 9/69 [00:00<00:01, 38.12it/s]\n",
      " 19%|█▉        | 13/69 [00:00<00:01, 37.27it/s]\n",
      " 25%|██▍       | 17/69 [00:00<00:01, 37.24it/s]\n",
      " 30%|███       | 21/69 [00:00<00:01, 34.48it/s]\n",
      " 36%|███▌      | 25/69 [00:00<00:01, 34.42it/s]\n",
      " 42%|████▏     | 29/69 [00:00<00:01, 34.73it/s]\n",
      " 48%|████▊     | 33/69 [00:00<00:01, 35.15it/s]\n",
      " 54%|█████▎    | 37/69 [00:01<00:00, 35.38it/s]\n",
      " 61%|██████    | 42/69 [00:01<00:00, 37.72it/s]\n",
      " 67%|██████▋   | 46/69 [00:01<00:00, 37.52it/s]\n",
      " 74%|███████▍  | 51/69 [00:01<00:00, 38.71it/s]\n",
      " 81%|████████  | 56/69 [00:01<00:00, 39.49it/s]2024-10-06 16:31:10,899 - DSAID of a disease w/ other DSAID w/ MeSH terms - but it itself doesn't have MeSH terms\n",
      "2024-10-06 16:31:10,899 - DSA09614, Bipolar Disorder\n",
      "\n",
      " 87%|████████▋ | 60/69 [00:01<00:00, 39.38it/s]\n",
      " 93%|█████████▎| 64/69 [00:01<00:00, 39.40it/s]\n",
      "100%|██████████| 69/69 [00:01<00:00, 39.64it/s]\n",
      "100%|██████████| 69/69 [00:01<00:00, 37.62it/s]\n",
      "2024-10-06 16:31:11,178 - Nº of diseases 57/69\n",
      "2024-10-06 16:31:11,178 - Nº of dsaids 2305/2658\n",
      "\n",
      "  0%|          | 0/2305 [00:00<?, ?it/s]\n",
      "  0%|          | 1/2305 [00:00<23:17,  1.65it/s]\n",
      "  0%|          | 2/2305 [00:00<17:37,  2.18it/s]\n",
      "  0%|          | 3/2305 [00:01<14:17,  2.68it/s]\n",
      "  0%|          | 4/2305 [00:01<19:55,  1.92it/s]\n",
      "  0%|          | 5/2305 [00:02<17:20,  2.21it/s]\n",
      "  0%|          | 6/2305 [00:02<16:26,  2.33it/s]\n",
      "  0%|          | 7/2305 [00:03<15:30,  2.47it/s]\n",
      "  0%|          | 8/2305 [00:03<14:45,  2.59it/s]\n",
      "  0%|          | 9/2305 [00:03<14:25,  2.65it/s]\n",
      "  0%|          | 10/2305 [00:04<15:18,  2.50it/s]\n",
      "  0%|          | 11/2305 [00:04<16:28,  2.32it/s]\n",
      "  1%|          | 12/2305 [00:05<17:19,  2.21it/s]\n",
      "  1%|          | 13/2305 [00:05<17:09,  2.23it/s]\n",
      "  1%|          | 14/2305 [00:06<18:07,  2.11it/s]\n",
      "  1%|          | 15/2305 [00:06<18:20,  2.08it/s]\n",
      "  1%|          | 16/2305 [00:07<18:42,  2.04it/s]\n",
      "  1%|          | 17/2305 [00:07<17:09,  2.22it/s]\n",
      "  1%|          | 18/2305 [00:08<17:51,  2.13it/s]\n",
      "  1%|          | 19/2305 [00:08<22:48,  1.67it/s]\n",
      "  1%|          | 20/2305 [00:10<37:27,  1.02it/s]\n",
      "  1%|          | 21/2305 [00:11<33:29,  1.14it/s]\n",
      "  1%|          | 22/2305 [00:11<29:22,  1.30it/s]\n",
      "  1%|          | 23/2305 [00:12<26:51,  1.42it/s]\n",
      "  1%|          | 24/2305 [00:13<24:29,  1.55it/s]\n",
      "  1%|          | 25/2305 [00:13<25:20,  1.50it/s]\n",
      "  1%|          | 26/2305 [00:14<23:25,  1.62it/s]\n",
      "  1%|          | 27/2305 [00:15<24:49,  1.53it/s]\n",
      "  1%|          | 28/2305 [00:15<23:10,  1.64it/s]\n",
      "  1%|▏         | 29/2305 [00:16<24:28,  1.55it/s]\n",
      "  1%|▏         | 30/2305 [00:16<21:59,  1.72it/s]\n",
      "  1%|▏         | 31/2305 [00:17<19:15,  1.97it/s]\n",
      "  1%|▏         | 32/2305 [00:17<22:54,  1.65it/s]\n",
      "  1%|▏         | 33/2305 [00:18<24:17,  1.56it/s]\n",
      "  1%|▏         | 34/2305 [00:19<23:09,  1.63it/s]\n",
      "  2%|▏         | 35/2305 [00:19<22:07,  1.71it/s]\n",
      "  2%|▏         | 36/2305 [00:20<25:43,  1.47it/s]\n",
      "  2%|▏         | 37/2305 [00:21<28:54,  1.31it/s]\n",
      "  2%|▏         | 38/2305 [00:21<25:51,  1.46it/s]\n",
      "  2%|▏         | 39/2305 [00:22<24:29,  1.54it/s]\n",
      "  2%|▏         | 40/2305 [00:23<23:40,  1.59it/s]\n",
      "  2%|▏         | 41/2305 [00:23<22:27,  1.68it/s]\n",
      "  2%|▏         | 42/2305 [00:24<20:49,  1.81it/s]\n",
      "  2%|▏         | 43/2305 [00:24<21:52,  1.72it/s]\n",
      "  2%|▏         | 44/2305 [00:25<21:28,  1.75it/s]\n",
      "  2%|▏         | 45/2305 [00:25<21:11,  1.78it/s]\n",
      "  2%|▏         | 46/2305 [00:26<20:03,  1.88it/s]\n",
      "  2%|▏         | 47/2305 [00:26<19:34,  1.92it/s]\n",
      "  2%|▏         | 48/2305 [00:27<18:50,  2.00it/s]\n",
      "  2%|▏         | 49/2305 [00:27<20:01,  1.88it/s]\n",
      "  2%|▏         | 50/2305 [00:28<20:06,  1.87it/s]\n"
     ]
    }
   ],
   "source": [
    "slurm_job_manager.logs()"
   ]
  },
  {
   "cell_type": "code",
   "execution_count": 17,
   "metadata": {},
   "outputs": [
    {
     "name": "stderr",
     "output_type": "stream",
     "text": [
      "2024-09-25 23:04:11,410 :: INFO :: Connected (version 2.0, client OpenSSH_8.0)\n"
     ]
    },
    {
     "name": "stderr",
     "output_type": "stream",
     "text": [
      "2024-09-25 23:04:11,550 :: INFO :: Authentication (password) successful!\n",
      "2024-09-25 23:04:11,553 :: INFO :: 'You are more than your layers. 🧅💚' - Shreck\n",
      "2024-09-25 23:04:11,573 :: INFO :: Connected (version 2.0, client OpenSSH_8.0)\n",
      "2024-09-25 23:04:11,709 :: INFO :: Authentication (password) successful!\n",
      "2024-09-25 23:04:11,709 :: INFO :: Running command: sbatch /aloy/home/ddalton/projects/scGPT_playground/scripts/job_b96c.sh /aloy/home/ddalton/projects/scGPT_playground/scripts/Tutorial_Annotation.nb_clean.py --data_path /aloy/home/ddalton/projects/scGPT_playground/data/pp_data-24-09-25-01/data.h5ad \n",
      "2024-09-25 23:04:11,823 :: INFO :: Submitted batch job 1546912\n",
      "2024-09-25 23:04:11,823 :: INFO :: \n",
      "2024-09-25 23:04:11,826 :: INFO :: 'You are more than your layers. 🧅💚' - Shreck\n",
      "2024-09-25 23:04:11,847 :: INFO :: Connected (version 2.0, client OpenSSH_8.0)\n",
      "2024-09-25 23:04:11,985 :: INFO :: Authentication (password) successful!\n",
      "2024-09-25 23:04:11,985 :: INFO :: Running command: sbatch /aloy/home/ddalton/projects/scGPT_playground/scripts/job_4699.sh /aloy/home/ddalton/projects/scGPT_playground/scripts/Tutorial_Annotation.nb_clean.py --data_path /aloy/home/ddalton/projects/scGPT_playground/data/pp_data-24-09-25-02/data.h5ad \n"
     ]
    },
    {
     "name": "stdout",
     "output_type": "stream",
     "text": [
      "Job submitted to Slurm successfully!\n"
     ]
    },
    {
     "name": "stderr",
     "output_type": "stream",
     "text": [
      "2024-09-25 23:04:12,101 :: INFO :: Submitted batch job 1546913\n",
      "2024-09-25 23:04:12,101 :: INFO :: \n",
      "2024-09-25 23:04:12,105 :: INFO :: 'True friends make the journey worthwhile. 🤝💫' - Shreck\n",
      "2024-09-25 23:04:12,123 :: INFO :: Connected (version 2.0, client OpenSSH_8.0)\n",
      "2024-09-25 23:04:12,270 :: INFO :: Authentication (password) successful!\n",
      "2024-09-25 23:04:12,270 :: INFO :: Running command: sbatch /aloy/home/ddalton/projects/scGPT_playground/scripts/job_f8e5.sh /aloy/home/ddalton/projects/scGPT_playground/scripts/Tutorial_Annotation.nb_clean.py --data_path /aloy/home/ddalton/projects/scGPT_playground/data/pp_data-24-09-25-03/data.h5ad \n"
     ]
    },
    {
     "name": "stdout",
     "output_type": "stream",
     "text": [
      "Job submitted to Slurm successfully!\n"
     ]
    },
    {
     "name": "stderr",
     "output_type": "stream",
     "text": [
      "2024-09-25 23:04:12,388 :: INFO :: Submitted batch job 1546914\n",
      "2024-09-25 23:04:12,389 :: INFO :: \n"
     ]
    },
    {
     "name": "stdout",
     "output_type": "stream",
     "text": [
      "Job submitted to Slurm successfully!\n"
     ]
    }
   ],
   "source": [
    "# imports\n",
    "import sys, os, json\n",
    "\n",
    "sys.path.insert(0, \"/aloy/home/ddalton/projects/ClusterSubmit\")\n",
    "from cluster_submitter.slurm import Slurm\n",
    "from cluster_submitter import *\n",
    "\n",
    "# variables\n",
    "\n",
    "# functions\n",
    "\n",
    "# Load Config\n",
    "with open(\"config/config.irb_cluster.json\", \"r\") as f:\n",
    "    slurm_config = json.load(f)\n",
    "\n",
    "# Initialize Slurm for Slurm\n",
    "slurm_job_manager = Slurm(**slurm_config)\n",
    "\n",
    "\n",
    "data_paths = [\n",
    "    \"/aloy/home/ddalton/projects/scGPT_playground/data/pp_data-24-09-25-01/data.h5ad\",\n",
    "    \"/aloy/home/ddalton/projects/scGPT_playground/data/pp_data-24-09-25-02/data.h5ad\",\n",
    "    \"/aloy/home/ddalton/projects/scGPT_playground/data/pp_data-24-09-25-03/data.h5ad\",\n",
    "]\n",
    "for i, data_path in enumerate(data_paths):\n",
    "    # Define job parameters for Slurm\n",
    "    slurm_job_manager.submit_job(\n",
    "        script_py=f\"Tutorial_Annotation.nb_clean.py --data_path {data_path} --max_seq_len 3501 --batch_size 16\",\n",
    "        time=\"0-12:00:00\",\n",
    "        mem=70,\n",
    "        cpus=10,\n",
    "        N=f\"run_{i}\",\n",
    "        gpus=1,\n",
    "        sh_path=\"../scripts\",\n",
    "        eo_path=\"logs/\",  # Replace with your log directory\n",
    "        image=\"/aloy/home/ddalton/singularity_images/scgpt.sif\",  # Replace with your Singularity image\n",
    "        cc_image=False,\n",
    "        os_remove=True,\n",
    "    )\n",
    "\n",
    "    # Print confirmation\n",
    "    print(\"Job submitted to Slurm successfully!\")"
   ]
  },
  {
   "cell_type": "code",
   "execution_count": 10,
   "metadata": {},
   "outputs": [
    {
     "name": "stderr",
     "output_type": "stream",
     "text": [
      "2024-09-25 23:02:29,308 :: INFO :: Connected (version 2.0, client OpenSSH_8.0)\n"
     ]
    },
    {
     "name": "stderr",
     "output_type": "stream",
     "text": [
      "2024-09-25 23:02:29,448 :: INFO :: Authentication (password) successful!\n",
      "2024-09-25 23:02:29,450 :: INFO :: 'Make your own magic every day. 🪄✨' - Shreck\n",
      "2024-09-25 23:02:29,471 :: INFO :: Connected (version 2.0, client OpenSSH_8.0)\n",
      "2024-09-25 23:02:29,607 :: INFO :: Authentication (password) successful!\n",
      "2024-09-25 23:02:29,607 :: INFO :: Running command: sbatch /aloy/home/ddalton/projects/scGPT_playground/scripts/job_5437.sh /aloy/home/ddalton/projects/scGPT_playground/scripts/Tutorial_Annotation.nb_clean.py --data_path /aloy/home/ddalton/projects/scGPT_playground/data/pp_data-24-09-25-01/data.h5ad --n_splits 3 \n",
      "2024-09-25 23:02:29,721 :: INFO :: Submitted batch job 1546910\n",
      "2024-09-25 23:02:29,721 :: INFO :: \n",
      "2024-09-25 23:02:29,724 :: INFO :: 'True friends are a treasure. 🤝💫' - Shreck\n",
      "2024-09-25 23:02:29,743 :: INFO :: Connected (version 2.0, client OpenSSH_8.0)\n",
      "2024-09-25 23:02:29,881 :: INFO :: Authentication (password) successful!\n",
      "2024-09-25 23:02:29,882 :: INFO :: Running command: sbatch /aloy/home/ddalton/projects/scGPT_playground/scripts/job_5b4c.sh /aloy/home/ddalton/projects/scGPT_playground/scripts/Tutorial_Annotation.nb_clean.py --data_path /aloy/home/ddalton/projects/scGPT_playground/data/pp_data-24-09-25-01/data.h5ad --n_splits 5 \n"
     ]
    },
    {
     "name": "stdout",
     "output_type": "stream",
     "text": [
      "Job submitted to Slurm successfully!\n"
     ]
    },
    {
     "name": "stderr",
     "output_type": "stream",
     "text": [
      "2024-09-25 23:02:29,995 :: INFO :: Submitted batch job 1546911\n",
      "2024-09-25 23:02:29,996 :: INFO :: \n"
     ]
    },
    {
     "name": "stdout",
     "output_type": "stream",
     "text": [
      "Job submitted to Slurm successfully!\n"
     ]
    }
   ],
   "source": [
    "# imports\n",
    "import sys, os, json\n",
    "\n",
    "sys.path.insert(0, \"/aloy/home/ddalton/projects/ClusterSubmit\")\n",
    "from cluster_submitter.slurm import Slurm\n",
    "from cluster_submitter import *\n",
    "\n",
    "# variables\n",
    "\n",
    "# functions\n",
    "\n",
    "# Load Config\n",
    "with open(\"config/config.irb_cluster.json\", \"r\") as f:\n",
    "    slurm_config = json.load(f)\n",
    "\n",
    "# Initialize Slurm for Slurm\n",
    "slurm_job_manager = Slurm(**slurm_config)\n",
    "\n",
    "\n",
    "data_path = (\n",
    "    \"/aloy/home/ddalton/projects/scGPT_playground/data/pp_data-24-09-25-01/data.h5ad\"\n",
    ")\n",
    "for i, n_splits in enumerate([3, 5]):\n",
    "    # Define job parameters for Slurm\n",
    "    slurm_job_manager.submit_job(\n",
    "        script_py=f\"Tutorial_Annotation.nb_clean.py --data_path {data_path} --n_splits {n_splits}\",\n",
    "        time=\"0-12:00:00\",\n",
    "        mem=70,\n",
    "        cpus=10,\n",
    "        N=f\"splits_{i}\",\n",
    "        gpus=1,\n",
    "        sh_path=\"../scripts\",\n",
    "        eo_path=\"logs/\",  # Replace with your log directory\n",
    "        image=\"/aloy/home/ddalton/singularity_images/scgpt.sif\",  # Replace with your Singularity image\n",
    "        cc_image=False,\n",
    "        os_remove=True,\n",
    "    )\n",
    "\n",
    "    # Print confirmation\n",
    "    print(\"Job submitted to Slurm successfully!\")"
   ]
  },
  {
   "cell_type": "code",
   "execution_count": 24,
   "metadata": {},
   "outputs": [
    {
     "name": "stderr",
     "output_type": "stream",
     "text": [
      "2024-09-26 11:54:07,516 :: INFO :: Connected (version 2.0, client OpenSSH_8.0)\n"
     ]
    },
    {
     "name": "stderr",
     "output_type": "stream",
     "text": [
      "2024-09-26 11:54:08,681 :: INFO :: Authentication (password) successful!\n",
      "2024-09-26 11:54:08,683 :: INFO :: 'You are more than your layers. 🧅💚' - Shreck\n",
      "2024-09-26 11:54:08,704 :: INFO :: Connected (version 2.0, client OpenSSH_8.0)\n",
      "2024-09-26 11:54:08,845 :: INFO :: Authentication (password) successful!\n",
      "2024-09-26 11:54:08,846 :: INFO :: Running command: sbatch /aloy/home/ddalton/projects/scGPT_playground/scripts/job_3ff1.sh /aloy/home/ddalton/projects/scGPT_playground/scripts/Tutorial_Annotation.nb_clean.py --data_path /aloy/home/ddalton/projects/scGPT_playground/data/pp_data-24-09-25-02/data.h5ad --max_seq_len 2000 --batch_size 32 --n_tested_splits 1 \n",
      "2024-09-26 11:54:08,966 :: INFO :: Submitted batch job 1551118\n",
      "2024-09-26 11:54:08,967 :: INFO :: \n",
      "2024-09-26 11:54:08,970 :: INFO :: 'You are your own fairy tale. 📖🌟' - Shreck\n",
      "2024-09-26 11:54:08,991 :: INFO :: Connected (version 2.0, client OpenSSH_8.0)\n",
      "2024-09-26 11:54:09,139 :: INFO :: Authentication (password) successful!\n",
      "2024-09-26 11:54:09,140 :: INFO :: Running command: sbatch /aloy/home/ddalton/projects/scGPT_playground/scripts/job_b9b5.sh /aloy/home/ddalton/projects/scGPT_playground/scripts/Tutorial_Annotation.nb_clean.py --data_path /aloy/home/ddalton/projects/scGPT_playground/data/pp_data-24-09-25-02/data.h5ad --max_seq_len 3501 --batch_size 16 --n_tested_splits 1 \n"
     ]
    },
    {
     "name": "stdout",
     "output_type": "stream",
     "text": [
      "Job submitted to Slurm successfully!\n"
     ]
    },
    {
     "name": "stderr",
     "output_type": "stream",
     "text": [
      "2024-09-26 11:54:09,261 :: INFO :: Submitted batch job 1551119\n",
      "2024-09-26 11:54:09,262 :: INFO :: \n",
      "2024-09-26 11:54:09,277 :: INFO :: 'Stand up for your dreams. 🦸‍♀️💪' - Shreck\n",
      "2024-09-26 11:54:09,297 :: INFO :: Connected (version 2.0, client OpenSSH_8.0)\n",
      "2024-09-26 11:54:09,443 :: INFO :: Authentication (password) successful!\n",
      "2024-09-26 11:54:09,443 :: INFO :: Running command: sbatch /aloy/home/ddalton/projects/scGPT_playground/scripts/job_6221.sh /aloy/home/ddalton/projects/scGPT_playground/scripts/Tutorial_Annotation.nb_clean.py --data_path /aloy/home/ddalton/projects/scGPT_playground/data/pp_data-24-09-25-02/data.h5ad --max_seq_len 6500 --batch_size 6 --n_tested_splits 1 \n"
     ]
    },
    {
     "name": "stdout",
     "output_type": "stream",
     "text": [
      "Job submitted to Slurm successfully!\n"
     ]
    },
    {
     "name": "stderr",
     "output_type": "stream",
     "text": [
      "2024-09-26 11:54:09,562 :: INFO :: Submitted batch job 1551120\n",
      "2024-09-26 11:54:09,562 :: INFO :: \n",
      "2024-09-26 11:54:09,585 :: INFO :: 'Be brave, even in the face of dragons. 🐉💪' - Shreck\n",
      "2024-09-26 11:54:09,612 :: INFO :: Connected (version 2.0, client OpenSSH_8.0)\n",
      "2024-09-26 11:54:09,752 :: INFO :: Authentication (password) successful!\n",
      "2024-09-26 11:54:09,752 :: INFO :: Running command: sbatch /aloy/home/ddalton/projects/scGPT_playground/scripts/job_6fe4.sh /aloy/home/ddalton/projects/scGPT_playground/scripts/Tutorial_Annotation.nb_clean.py --data_path /aloy/home/ddalton/projects/scGPT_playground/data/pp_data-24-09-25-02/data.h5ad --max_seq_len 10000 --batch_size 6 --n_tested_splits 1 \n"
     ]
    },
    {
     "name": "stdout",
     "output_type": "stream",
     "text": [
      "Job submitted to Slurm successfully!\n"
     ]
    },
    {
     "name": "stderr",
     "output_type": "stream",
     "text": [
      "2024-09-26 11:54:09,868 :: INFO :: Submitted batch job 1551121\n",
      "2024-09-26 11:54:09,869 :: INFO :: \n",
      "2024-09-26 11:54:09,889 :: INFO :: 'Live life one swamp at a time. 🌿💚' - Shreck\n",
      "2024-09-26 11:54:09,917 :: INFO :: Connected (version 2.0, client OpenSSH_8.0)\n",
      "2024-09-26 11:54:10,061 :: INFO :: Authentication (password) successful!\n",
      "2024-09-26 11:54:10,061 :: INFO :: Running command: sbatch /aloy/home/ddalton/projects/scGPT_playground/scripts/job_c645.sh /aloy/home/ddalton/projects/scGPT_playground/scripts/Tutorial_Annotation.nb_clean.py --data_path /aloy/home/ddalton/projects/scGPT_playground/data/pp_data-24-09-25-02/data.h5ad --max_seq_len 20000 --batch_size 6 --n_tested_splits 1 \n"
     ]
    },
    {
     "name": "stdout",
     "output_type": "stream",
     "text": [
      "Job submitted to Slurm successfully!\n"
     ]
    },
    {
     "name": "stderr",
     "output_type": "stream",
     "text": [
      "2024-09-26 11:54:10,198 :: INFO :: Submitted batch job 1551122\n",
      "2024-09-26 11:54:10,198 :: INFO :: \n"
     ]
    },
    {
     "name": "stdout",
     "output_type": "stream",
     "text": [
      "Job submitted to Slurm successfully!\n"
     ]
    }
   ],
   "source": [
    "# imports\n",
    "import sys, os, json\n",
    "\n",
    "sys.path.insert(0, \"/aloy/home/ddalton/projects/ClusterSubmit\")\n",
    "from cluster_submitter.slurm import Slurm\n",
    "from cluster_submitter import *\n",
    "\n",
    "# variables\n",
    "\n",
    "# functions\n",
    "\n",
    "# Load Config\n",
    "with open(\"config/config.irb_cluster.json\", \"r\") as f:\n",
    "    slurm_config = json.load(f)\n",
    "\n",
    "# Initialize Slurm for Slurm\n",
    "slurm_job_manager = Slurm(**slurm_config)\n",
    "\n",
    "\n",
    "data_path = (\n",
    "    \"/aloy/home/ddalton/projects/scGPT_playground/data/pp_data-24-09-25-02/data.h5ad\"\n",
    ")\n",
    "for i, (max_seq_len, batch_size) in enumerate(\n",
    "    zip([2000, 3501, 6500, 10000, 20000], [32, 16, 6, 6, 6])\n",
    "):\n",
    "    # Define job parameters for Slurm\n",
    "    slurm_job_manager.submit_job(\n",
    "        script_py=f\"Tutorial_Annotation.nb_clean.py --data_path {data_path} --max_seq_len {max_seq_len} --batch_size {batch_size} --n_tested_splits {1}\",\n",
    "        time=\"0-12:00:00\",\n",
    "        mem=70,\n",
    "        cpus=10,\n",
    "        N=f\"testing_{i}\",\n",
    "        gpus=1,\n",
    "        sh_path=\"../scripts\",\n",
    "        eo_path=\"logs/\",  # Replace with your log directory\n",
    "        image=\"/aloy/home/ddalton/singularity_images/scgpt.sif\",  # Replace with your Singularity image\n",
    "        cc_image=False,\n",
    "        os_remove=True,\n",
    "    )\n",
    "\n",
    "    # Print confirmation\n",
    "    print(\"Job submitted to Slurm successfully!\")"
   ]
  },
  {
   "cell_type": "code",
   "execution_count": 2,
   "metadata": {},
   "outputs": [
    {
     "name": "stderr",
     "output_type": "stream",
     "text": [
      "2024-09-28 17:57:53,953 :: INFO :: Connected (version 2.0, client OpenSSH_8.0)\n"
     ]
    },
    {
     "name": "stderr",
     "output_type": "stream",
     "text": [
      "2024-09-28 17:57:54,113 :: INFO :: Authentication (password) successful!\n",
      "2024-09-28 17:57:54,133 :: INFO :: 'You have the power to change your life. 🏰📖' - Shreck\n",
      "2024-09-28 17:57:54,153 :: INFO :: Connected (version 2.0, client OpenSSH_8.0)\n",
      "2024-09-28 17:57:54,312 :: INFO :: Authentication (password) successful!\n",
      "2024-09-28 17:57:54,312 :: INFO :: Running command: sbatch /aloy/home/ddalton/projects/scGPT_playground/scripts/job_3954.sh /aloy/home/ddalton/projects/scGPT_playground/scripts/Tutorial_Annotation.nb_clean.py --data_path /aloy/home/ddalton/projects/scGPT_playground/data/pp_data-24-09-25-01/data.h5ad --max_seq_len 3501 --batch_size 16 --epochs 20 \n",
      "2024-09-28 17:57:54,441 :: INFO :: Submitted batch job 1581668\n",
      "2024-09-28 17:57:54,441 :: INFO :: \n",
      "2024-09-28 17:57:54,445 :: INFO :: 'Be proud of who you are, ogre or not! 🌟💚' - Shreck\n",
      "2024-09-28 17:57:54,466 :: INFO :: Connected (version 2.0, client OpenSSH_8.0)\n",
      "2024-09-28 17:57:54,624 :: INFO :: Authentication (password) successful!\n",
      "2024-09-28 17:57:54,624 :: INFO :: Running command: sbatch /aloy/home/ddalton/projects/scGPT_playground/scripts/job_f6c4.sh /aloy/home/ddalton/projects/scGPT_playground/scripts/Tutorial_Annotation.nb_clean.py --data_path /aloy/home/ddalton/projects/scGPT_playground/data/pp_data-24-09-25-02/data.h5ad --max_seq_len 3501 --batch_size 16 --epochs 20 \n",
      "2024-09-28 17:57:54,750 :: INFO :: Submitted batch job 1581669\n",
      "2024-09-28 17:57:54,751 :: INFO :: \n"
     ]
    },
    {
     "name": "stdout",
     "output_type": "stream",
     "text": [
      "Job submitted to Slurm successfully!\n"
     ]
    }
   ],
   "source": [
    "# imports\n",
    "import sys, os, json\n",
    "\n",
    "sys.path.insert(0, \"/aloy/home/ddalton/projects/ClusterSubmit\")\n",
    "from cluster_submitter.slurm import Slurm\n",
    "from cluster_submitter import *\n",
    "\n",
    "# variables\n",
    "\n",
    "# functions\n",
    "\n",
    "# Load Config\n",
    "with open(\"config/config.irb_cluster.json\", \"r\") as f:\n",
    "    slurm_config = json.load(f)\n",
    "\n",
    "# Initialize Slurm for Slurm\n",
    "slurm_job_manager = Slurm(**slurm_config)\n",
    "\n",
    "\n",
    "data_path = (\n",
    "    \"/aloy/home/ddalton/projects/scGPT_playground/data/pp_data-24-09-25-03/data.h5ad\"\n",
    ")\n",
    "\n",
    "data_paths = [\n",
    "    \"/aloy/home/ddalton/projects/scGPT_playground/data/pp_data-24-09-25-01/data.h5ad\",\n",
    "    \"/aloy/home/ddalton/projects/scGPT_playground/data/pp_data-24-09-25-02/data.h5ad\",\n",
    "    # \"/aloy/home/ddalton/projects/scGPT_playground/data/pp_data-24-09-25-03/data.h5ad\",\n",
    "]\n",
    "\n",
    "# Define job parameters for Slurm\n",
    "for i, data_path in enumerate(data_paths):\n",
    "    slurm_job_manager.submit_job(\n",
    "        script_py=f\"Tutorial_Annotation.nb_clean.py --data_path {data_path} --max_seq_len 3501 --batch_size 16 --epochs 20\",\n",
    "        time=\"0-12:00:00\",\n",
    "        mem=70,\n",
    "        cpus=10,\n",
    "        N=f\"{i}_elefante\",\n",
    "        gpus=1,\n",
    "        sh_path=\"../scripts\",\n",
    "        eo_path=\"logs/\",\n",
    "        image=\"/aloy/home/ddalton/singularity_images/scgpt.sif\",\n",
    "        cc_image=False,\n",
    "        os_remove=True,\n",
    "    )\n",
    "\n",
    "# Print confirmation\n",
    "print(\"Job submitted to Slurm successfully!\")"
   ]
  },
  {
   "cell_type": "code",
   "execution_count": 67,
   "metadata": {},
   "outputs": [
    {
     "name": "stderr",
     "output_type": "stream",
     "text": [
      "2024-10-08 17:07:41,667 :: INFO :: Connected (version 2.0, client OpenSSH_8.0)\n",
      "2024-10-08 17:07:41,806 :: INFO :: Authentication (password) successful!\n",
      "2024-10-08 17:07:41,808 :: INFO :: 'True friends are a treasure. 🤝💫' - Shreck\n",
      "2024-10-08 17:07:41,828 :: INFO :: Connected (version 2.0, client OpenSSH_8.0)\n",
      "2024-10-08 17:07:41,961 :: INFO :: Authentication (password) successful!\n",
      "2024-10-08 17:07:41,961 :: INFO :: Running command: sbatch /aloy/home/ddalton/projects/scGPT_playground/scripts/job_a299.sh /aloy/home/ddalton/projects/scGPT_playground/scripts/Tutorial_Annotation.nb_clean.py --data_path /aloy/home/ddalton/projects/scGPT_playground/data/pp_data-24-10-06-01/data.h5ad --max_seq_len 3501 --batch_size 16 --epochs 20 \n",
      "2024-10-08 17:07:42,068 :: INFO :: Submitted batch job 1676142\n",
      "2024-10-08 17:07:42,068 :: INFO :: \n"
     ]
    },
    {
     "name": "stdout",
     "output_type": "stream",
     "text": [
      "Job submitted to Slurm successfully!\n"
     ]
    }
   ],
   "source": [
    "# imports\n",
    "import sys, os, json\n",
    "\n",
    "sys.path.insert(0, \"/aloy/home/ddalton/projects/ClusterSubmit\")\n",
    "from cluster_submitter.slurm import Slurm\n",
    "from cluster_submitter import *\n",
    "\n",
    "# variables\n",
    "\n",
    "# functions\n",
    "\n",
    "# Load Config\n",
    "with open(\"config/config.irb_cluster.json\", \"r\") as f:\n",
    "    slurm_config = json.load(f)\n",
    "\n",
    "# Initialize Slurm for Slurm\n",
    "slurm_job_manager = Slurm(**slurm_config)\n",
    "\n",
    "\n",
    "# data_path = (\n",
    "#     \"/aloy/home/ddalton/projects/scGPT_playground/data/pp_data-24-09-25-01/data.h5ad\"\n",
    "# )\n",
    "\n",
    "data_path = (\n",
    "    \"/aloy/home/ddalton/projects/scGPT_playground/data/pp_data-24-10-06-01/data.h5ad\"\n",
    ")\n",
    "\n",
    "for i, split_type in enumerate([\"stratified\"]):\n",
    "    # Define job parameters for Slurm\n",
    "    slurm_job_manager.submit_job(\n",
    "        script_py=f\"Tutorial_Annotation.nb_clean.py --data_path {data_path} --max_seq_len 3501 --batch_size 16 --epochs 20\",\n",
    "        time=\"2-12:00:00\",\n",
    "        mem=100,\n",
    "        cpus=10,\n",
    "        N=f\"ft_{i}\",\n",
    "        gpus=1,\n",
    "        sh_path=\"../scripts\",\n",
    "        eo_path=\"logs/\",  # Replace with your log directory\n",
    "        image=\"/aloy/home/ddalton/singularity_images/scgpt.sif\",  # Replace with your Singularity image\n",
    "        cc_image=False,\n",
    "        os_remove=True,\n",
    "        # partition=\"sbnb_cpu_zen3\",\n",
    "    )\n",
    "\n",
    "    # Print confirmation\n",
    "    print(\"Job submitted to Slurm successfully!\")"
   ]
  },
  {
   "cell_type": "code",
   "execution_count": 74,
   "metadata": {},
   "outputs": [
    {
     "name": "stderr",
     "output_type": "stream",
     "text": [
      "2024-10-08 17:09:42,019 :: INFO :: 'Even an ogre can find love. 💖🌻' - Shreck\n",
      "2024-10-08 17:09:42,038 :: INFO :: Connected (version 2.0, client OpenSSH_8.0)\n",
      "2024-10-08 17:09:42,183 :: INFO :: Authentication (password) successful!\n",
      "2024-10-08 17:09:42,183 :: INFO :: Running command: squeue -u ddalton\n",
      "2024-10-08 17:09:42,323 :: INFO ::              JOBID PARTITION     NAME     USER ST       TIME  NODES NODELIST(REASON)\n",
      "           1676142 sbnb_cpu_     ft_0  ddalton  R       1:59      1 irbccn16\n",
      "\n",
      "2024-10-08 17:09:42,324 :: INFO :: \n"
     ]
    }
   ],
   "source": [
    "slurm_job_manager.get_status()"
   ]
  },
  {
   "cell_type": "code",
   "execution_count": 75,
   "metadata": {},
   "outputs": [
    {
     "name": "stderr",
     "output_type": "stream",
     "text": [
      "2024-10-08 17:10:42,030 :: INFO :: Output log file: logs/ft_0.1676142.out\n"
     ]
    },
    {
     "name": "stdout",
     "output_type": "stream",
     "text": [
      "[rank: 0] Global seed set to 0\n",
      "2024-10-08 17:07:53,575 - Is Cuda Available False\n",
      "wandb: Currently logged in as: dylandaltonsub (dylandaltonsub-irb). Use `wandb login --relogin` to force relogin\n",
      "wandb: wandb version 0.18.3 is available!  To upgrade, please run:\n",
      "wandb:  $ pip install wandb --upgrade\n",
      "wandb: Tracking run with wandb version 0.17.5\n",
      "wandb: Run data is saved locally in /aloy/home/ddalton/projects/scGPT_playground/scripts/wandb/run-20241008_170754-vvnhrnlm\n",
      "wandb: Run `wandb offline` to turn off syncing.\n",
      "wandb: Syncing run wandering-brook-231\n",
      "wandb: ⭐️ View project at https://wandb.ai/dylandaltonsub-irb/scGPT\n",
      "wandb: 🚀 View run at https://wandb.ai/dylandaltonsub-irb/scGPT/runs/vvnhrnlm\n",
      "2024-10-08 17:10:06,019 - Nº genes: 19690, Nº samples: 103363\n",
      "2024-10-08 17:10:18,166 - Top 3501 most present genes selected. - >= 88205\n",
      "2024-10-08 17:10:18,167 - Combined mask 3501 genes left\n",
      "2024-10-08 17:10:22,681 - Filtering out 13650 / 103363 samples with less than 30% non-NaN values\n",
      "0\n",
      "Namespace(data_path='/aloy/home/ddalton/projects/scGPT_playground/data/pp_data-24-10-06-01/data.h5ad', max_seq_len=3501, batch_size=16, gene_presence_pct=0.9, benchmark_data=False, split_type='stratified', n_splits=3, n_tested_splits=None, epochs=20, gene_filtering='top_presence')\n",
      "Data path: /aloy/home/ddalton/projects/scGPT_playground/data/pp_data-24-10-06-01/data.h5ad\n",
      "Batch size: 16\n",
      "{'seed': 0, 'dataset_name': 'test_1', 'do_train': True, 'load_model': '/aloy/home/ddalton/projects/scGPT_playground/save/scGPT_human', 'mask_ratio': 0.0, 'epochs': 10, 'n_bins': 51, 'MVC': False, 'ecs_thres': 0.0, 'dab_weight': 0.0, 'lr': 0.0001, 'batch_size': 32, 'layer_size': 128, 'nlayers': 4, 'nhead': 4, 'dropout': 0.2, 'schedule_ratio': 0.9, 'save_eval_interval': 5, 'fast_transformer': True, 'pre_norm': False, 'amp': True, 'include_zero_gene': False, 'freeze': False, 'DSBN': False}\n",
      "save to save/dev_test_1-Oct08-17-07\n",
      "scGPT - INFO - match 3497/3501 genes in vocabulary of size 60697.\n",
      "scGPT - INFO - Resume model from /aloy/home/ddalton/projects/scGPT_playground/save/scGPT_human/best_model.pt, the model args will override the config /aloy/home/ddalton/projects/scGPT_playground/save/scGPT_human/args.json.\n",
      "2024-10-08 17:10:24,457 - Columns in obs_copy Index(['ids', 'dataset', 'dataset_id', 'batch', 'batch_id', 'dsaid', 'tissue',\n",
      "       'n_genes', 'disease', 'celltype', 'disease_study', 'library',\n",
      "       'celltype_id', 'combination'],\n",
      "      dtype='object')\n",
      "2024-10-08 17:10:24,759 - Number of diseases with n_splits+ datasets: 81\n",
      "2024-10-08 17:10:25,143 - Nº of diseases in train split 1: 86\n",
      "2024-10-08 17:10:25,146 - Nº of diseases in test split 1: 83\n",
      "2024-10-08 17:10:25,150 - Nº of datasets in train split 1: 1282\n",
      "2024-10-08 17:10:25,153 - Nº of datasets in test split 1: 853\n",
      "2024-10-08 17:10:25,163 - Nº of samples in train split 1: 57313\n",
      "2024-10-08 17:10:25,170 - Nº of samples in test split 1: 32306\n",
      "2024-10-08 17:10:25,194 - Nº of diseases in train split 2: 85\n",
      "2024-10-08 17:10:25,197 - Nº of diseases in test split 2: 80\n",
      "2024-10-08 17:10:25,201 - Nº of datasets in train split 2: 1260\n",
      "2024-10-08 17:10:25,204 - Nº of datasets in test split 2: 857\n",
      "2024-10-08 17:10:25,215 - Nº of samples in train split 2: 59050\n",
      "2024-10-08 17:10:25,222 - Nº of samples in test split 2: 30569\n",
      "2024-10-08 17:10:25,246 - Nº of diseases in train split 3: 85\n",
      "2024-10-08 17:10:25,249 - Nº of diseases in test split 3: 83\n",
      "2024-10-08 17:10:25,254 - Nº of datasets in train split 3: 1342\n",
      "2024-10-08 17:10:25,256 - Nº of datasets in test split 3: 747\n",
      "2024-10-08 17:10:25,268 - Nº of samples in train split 3: 62875\n",
      "2024-10-08 17:10:25,274 - Nº of samples in test split 3: 26744\n",
      "wandb: - 0.013 MB of 0.020 MB uploaded\n",
      "wandb: \\ 0.020 MB of 0.020 MB uploaded\n",
      "wandb: 🚀 View run wandering-brook-231 at: https://wandb.ai/dylandaltonsub-irb/scGPT/runs/vvnhrnlm\n",
      "wandb: ⭐️ View project at: https://wandb.ai/dylandaltonsub-irb/scGPT\n",
      "wandb: Synced 5 W&B file(s), 0 media file(s), 2 artifact file(s) and 0 other file(s)\n",
      "wandb: Find logs at: ./wandb/run-20241008_170754-vvnhrnlm/logs\n",
      "wandb: WARNING The new W&B backend becomes opt-out in version 0.18.0; try it out with `wandb.require(\"core\")`! See https://wandb.me/wandb-core for more information.\n",
      "\n"
     ]
    }
   ],
   "source": [
    "slurm_job_manager.logs()"
   ]
  },
  {
   "cell_type": "code",
   "execution_count": null,
   "metadata": {},
   "outputs": [],
   "source": []
  }
 ],
 "metadata": {
  "kernelspec": {
   "display_name": "ClusterSubmitter",
   "language": "python",
   "name": "python3"
  },
  "language_info": {
   "codemirror_mode": {
    "name": "ipython",
    "version": 3
   },
   "file_extension": ".py",
   "mimetype": "text/x-python",
   "name": "python",
   "nbconvert_exporter": "python",
   "pygments_lexer": "ipython3",
   "version": "3.12.3"
  }
 },
 "nbformat": 4,
 "nbformat_minor": 2
}
