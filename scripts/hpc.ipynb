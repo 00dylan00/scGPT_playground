{
 "cells": [
  {
   "cell_type": "code",
   "execution_count": 138,
   "metadata": {},
   "outputs": [
    {
     "name": "stderr",
     "output_type": "stream",
     "text": [
      "2024-09-24 23:29:49,663 :: INFO :: Connected (version 2.0, client OpenSSH_8.0)\n"
     ]
    },
    {
     "name": "stderr",
     "output_type": "stream",
     "text": [
      "2024-09-24 23:29:49,805 :: INFO :: Authentication (password) successful!\n",
      "2024-09-24 23:29:49,810 :: INFO :: 'Find magic in the mundane. 🪄💫' - Shreck\n",
      "2024-09-24 23:29:49,834 :: INFO :: Connected (version 2.0, client OpenSSH_8.0)\n",
      "2024-09-24 23:29:49,975 :: INFO :: Authentication (password) successful!\n",
      "2024-09-24 23:29:49,975 :: INFO :: Running command: sbatch /aloy/home/ddalton/projects/scGPT_playground/scripts/job_340a.sh /aloy/home/ddalton/projects/scGPT_playground/scripts/Tutorial_Annotation.nb_clean.py \n",
      "2024-09-24 23:29:50,092 :: INFO :: Submitted batch job 1539223\n",
      "2024-09-24 23:29:50,093 :: INFO :: \n"
     ]
    },
    {
     "name": "stdout",
     "output_type": "stream",
     "text": [
      "Job submitted to Slurm successfully!\n"
     ]
    }
   ],
   "source": [
    "# imports\n",
    "import sys, os, json\n",
    "\n",
    "sys.path.insert(0, \"/aloy/home/ddalton/projects/ClusterSubmit\")\n",
    "from cluster_submitter.slurm import Slurm\n",
    "from cluster_submitter import *\n",
    "\n",
    "# variables\n",
    "\n",
    "# functions\n",
    "\n",
    "# Load Config\n",
    "with open(\"config/config.irb_cluster.json\", \"r\") as f:\n",
    "    slurm_config = json.load(f)\n",
    "\n",
    "# Initialize Slurm for Slurm\n",
    "slurm_job_manager = Slurm(**slurm_config)\n",
    "\n",
    "# Define job parameters for Slurm\n",
    "slurm_job_manager.submit_job(\n",
    "    script_py=\"Tutorial_Annotation.nb_clean.py\",\n",
    "    # script_py=\"test_gpu.py\",\n",
    "    # script_py=\"/aloy/home/ddalton/projects/scGPT/playground/Tutorial_Annotation.nb_clean.py\",\n",
    "    # script_py=\"pp_gex_data.py\",\n",
    "    time=\"0-10:00:00\",\n",
    "    mem=60,\n",
    "    cpus=10,\n",
    "    N=\"las_xuxes\",\n",
    "    gpus=1,\n",
    "    sh_path=\"../scripts\",\n",
    "    eo_path=\"logs/\",  # Replace with your log directory\n",
    "    image=\"/aloy/home/ddalton/singularity_images/scgpt.sif\",  # Replace with your Singularity image\n",
    "    cc_image=False,\n",
    "    os_remove=True,\n",
    "    # partition=\"sbnb_cpu_zen3\",\n",
    "    # partition=\"sbnb-gpu\",\n",
    "    # partition=\"irb_gpu_3090\",  # Replace with your partition\n",
    "    # exclude=\"node[01-05]\"  # Replace with nodes to exclude if necessary\n",
    ")\n",
    "\n",
    "# Print confirmation\n",
    "print(\"Job submitted to Slurm successfully!\")"
   ]
  },
  {
   "cell_type": "code",
   "execution_count": 144,
   "metadata": {},
   "outputs": [
    {
     "name": "stderr",
     "output_type": "stream",
     "text": [
      "2024-09-24 23:39:02,062 :: INFO :: 'Home is where your swamp is. 🏡🛶' - Shreck\n",
      "2024-09-24 23:39:02,086 :: INFO :: Connected (version 2.0, client OpenSSH_8.0)\n",
      "2024-09-24 23:39:02,226 :: INFO :: Authentication (password) successful!\n",
      "2024-09-24 23:39:02,227 :: INFO :: Running command: squeue -u ddalton\n",
      "2024-09-24 23:39:02,338 :: INFO ::              JOBID PARTITION     NAME     USER ST       TIME  NODES NODELIST(REASON)\n",
      "           1539223 irb_gpu_3 las_xuxe  ddalton PD       0:00      1 (Resources)\n",
      "           1539220 irb_gpu_3 las_xuxe  ddalton  R      13:34      1 irbgcn01\n",
      "           1539215 irb_gpu_3 las_xuxe  ddalton  R      17:42      1 irbgcn01\n",
      "\n",
      "2024-09-24 23:39:02,339 :: INFO :: \n"
     ]
    }
   ],
   "source": [
    "slurm_job_manager.get_status()"
   ]
  },
  {
   "cell_type": "code",
   "execution_count": 140,
   "metadata": {},
   "outputs": [
    {
     "name": "stdout",
     "output_type": "stream",
     "text": [
      "Waiting for output log file to be created 19s /20s . . .\r"
     ]
    },
    {
     "name": "stderr",
     "output_type": "stream",
     "text": [
      "2024-09-24 23:30:10,387 :: ERROR :: Output log file logs/las_xuxes.1539223.out not found.\n"
     ]
    }
   ],
   "source": [
    "slurm_job_manager.logs()"
   ]
  },
  {
   "cell_type": "code",
   "execution_count": null,
   "metadata": {},
   "outputs": [],
   "source": []
  }
 ],
 "metadata": {
  "kernelspec": {
   "display_name": "ClusterSubmitter",
   "language": "python",
   "name": "python3"
  },
  "language_info": {
   "codemirror_mode": {
    "name": "ipython",
    "version": 3
   },
   "file_extension": ".py",
   "mimetype": "text/x-python",
   "name": "python",
   "nbconvert_exporter": "python",
   "pygments_lexer": "ipython3",
   "version": "3.12.3"
  }
 },
 "nbformat": 4,
 "nbformat_minor": 2
}
