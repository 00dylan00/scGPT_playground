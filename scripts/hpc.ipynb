{
 "cells": [
  {
   "cell_type": "code",
   "execution_count": 103,
   "metadata": {},
   "outputs": [
    {
     "name": "stderr",
     "output_type": "stream",
     "text": [
      "2024-09-04 19:47:28,858 :: INFO :: Connected (version 2.0, client OpenSSH_8.0)\n"
     ]
    },
    {
     "name": "stderr",
     "output_type": "stream",
     "text": [
      "2024-09-04 19:47:29,055 :: INFO :: Authentication (password) successful!\n",
      "2024-09-04 19:47:29,058 :: INFO :: 'Find the magic in your own story. 📖✨' - Shreck\n",
      "2024-09-04 19:47:29,077 :: INFO :: Connected (version 2.0, client OpenSSH_8.0)\n",
      "2024-09-04 19:47:29,218 :: INFO :: Authentication (password) successful!\n",
      "2024-09-04 19:47:29,219 :: INFO :: Running command: sbatch /aloy/home/ddalton/projects/scGPT_playground/scripts/job_f246.sh /aloy/home/ddalton/projects/scGPT_playground/scripts/Tutorial_Annotation.py \n",
      "2024-09-04 19:47:29,334 :: INFO :: Submitted batch job 1493373\n",
      "2024-09-04 19:47:29,334 :: INFO :: \n"
     ]
    },
    {
     "name": "stdout",
     "output_type": "stream",
     "text": [
      "Job submitted to Slurm successfully!\n"
     ]
    }
   ],
   "source": [
    "# imports\n",
    "import sys, os, json\n",
    "\n",
    "sys.path.insert(0, \"/aloy/home/ddalton/projects/ClusterSubmit\")\n",
    "from cluster_submitter.slurm import Slurm\n",
    "from cluster_submitter import *\n",
    "\n",
    "# variables\n",
    "\n",
    "# functions\n",
    "\n",
    "# Load Config\n",
    "with open(\"config/config.irb_cluster.json\", \"r\") as f:\n",
    "    slurm_config = json.load(f)\n",
    "\n",
    "# Initialize Slurm for Slurm\n",
    "slurm_job_manager = Slurm(**slurm_config)\n",
    "\n",
    "# Define job parameters for Slurm\n",
    "slurm_job_manager.submit_job(\n",
    "    script_py=\"Tutorial_Annotation.py\",\n",
    "    time=\"0-10:00:00\" ,\n",
    "    mem=150,\n",
    "    cpus=10,\n",
    "    N=\"ft\",\n",
    "    gpus=1,\n",
    "    sh_path=\"../scripts\",\n",
    "    eo_path=\"logs/\",  # Replace with your log directory\n",
    "    image=\"/aloy/home/ddalton/singularity_images/scgpt.sif\",  # Replace with your Singularity image\n",
    "    cc_image=False,\n",
    "    os_remove=True,\n",
    "    # partition = \"sbnb_cpu_zen3\",\n",
    "    # partition=\"sbnb-gpu\",\n",
    "    # partition=\"irb_gpu_3090\",  # Replace with your partition\n",
    "    # exclude=\"node[01-05]\"  # Replace with nodes to exclude if necessary\n",
    ")\n",
    "\n",
    "# Print confirmation\n",
    "print(\"Job submitted to Slurm successfully!\")"
   ]
  },
  {
   "cell_type": "code",
   "execution_count": 107,
   "metadata": {},
   "outputs": [
    {
     "name": "stderr",
     "output_type": "stream",
     "text": [
      "2024-09-04 19:48:10,744 :: INFO :: 'Stand up for what you believe in. 🌟💚' - Shreck\n",
      "2024-09-04 19:48:10,763 :: INFO :: Connected (version 2.0, client OpenSSH_8.0)\n",
      "2024-09-04 19:48:10,904 :: INFO :: Authentication (password) successful!\n",
      "2024-09-04 19:48:10,904 :: INFO :: Running command: scancel -u ddalton\n",
      "2024-09-04 19:48:11,033 :: INFO :: \n",
      "2024-09-04 19:48:11,034 :: INFO :: \n"
     ]
    }
   ],
   "source": [
    "slurm_job_manager.get_status()"
   ]
  },
  {
   "cell_type": "code",
   "execution_count": 106,
   "metadata": {},
   "outputs": [
    {
     "name": "stdout",
     "output_type": "stream",
     "text": [
      "Waiting for output log file to be created 9s /20s . . .\r"
     ]
    },
    {
     "name": "stderr",
     "output_type": "stream",
     "text": [
      "2024-09-04 19:47:59,446 :: ERROR :: Output log file logs/ft.1493373.out not found.\n"
     ]
    }
   ],
   "source": [
    "slurm_job_manager.logs()"
   ]
  }
 ],
 "metadata": {
  "kernelspec": {
   "display_name": "ClusterSubmitter",
   "language": "python",
   "name": "python3"
  },
  "language_info": {
   "codemirror_mode": {
    "name": "ipython",
    "version": 3
   },
   "file_extension": ".py",
   "mimetype": "text/x-python",
   "name": "python",
   "nbconvert_exporter": "python",
   "pygments_lexer": "ipython3",
   "version": "3.12.3"
  }
 },
 "nbformat": 4,
 "nbformat_minor": 2
}
